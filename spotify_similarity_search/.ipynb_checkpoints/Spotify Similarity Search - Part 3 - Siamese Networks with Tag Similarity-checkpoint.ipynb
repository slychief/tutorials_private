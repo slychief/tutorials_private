{
 "cells": [
  {
   "cell_type": "markdown",
   "metadata": {},
   "source": [
    "# Finding Similar Songs on Spotify - Part 3 - Siamese Networks with Tag Similarity\n",
    "\n",
    "In this tutorial I will demonstrate how to apply machine learning to search for similar songs on Spotify.\n",
    "\n",
    "\n",
    "## Tutorial Overview\n",
    "\n",
    "1. Loading data\n",
    "2. Preprocess data\n",
    "3. Define Model\n",
    "4. Fit Model\n",
    "5. Evaluate Model\n",
    "\n"
   ]
  },
  {
   "cell_type": "markdown",
   "metadata": {},
   "source": [
    "## Requiremnts\n",
    "\n",
    "Install the following dependencies to run this tutorial:"
   ]
  },
  {
   "cell_type": "code",
   "execution_count": 26,
   "metadata": {
    "ExecuteTime": {
     "end_time": "2017-08-24T10:20:32.488000Z",
     "start_time": "2017-08-24T10:20:32.483000Z"
    }
   },
   "outputs": [
    {
     "name": "stdout",
     "output_type": "stream",
     "text": [
      "The autoreload extension is already loaded. To reload it, use:\n",
      "  %reload_ext autoreload\n"
     ]
    }
   ],
   "source": [
    "%load_ext autoreload\n",
    "\n",
    "%autoreload 2\n",
    "\n",
    "# visualization\n",
    "%matplotlib inline\n",
    "import matplotlib\n",
    "import matplotlib.pyplot as plt\n",
    "matplotlib.style.use('ggplot')\n",
    "from IPython.display import IFrame\n",
    "\n",
    "# numeric and scientific processing\n",
    "import numpy as np\n",
    "import pandas as pd\n",
    "from scipy.interpolate import RectBivariateSpline\n",
    "from sklearn.preprocessing import LabelEncoder, MultiLabelBinarizer\n",
    "from scipy.spatial.distance import dice, pdist, squareform\n",
    "\n",
    "# misc\n",
    "import os\n",
    "import progressbar\n",
    "\n",
    "# spotify API\n",
    "import spotipy\n",
    "import spotipy.util as util\n",
    "\n",
    "# local caching\n",
    "from joblib import Memory\n",
    "\n",
    "# functions from Tutorial Part 1\n",
    "import tutorial_functions as tut_func"
   ]
  },
  {
   "cell_type": "markdown",
   "metadata": {},
   "source": [
    "# Loading Data\n",
    "\n",
    "We will use the same data that we downloaded from Spotify in Part 1 of the Tutorial. Because we used the joblib library, we will not have to wait that long, because the data is already cached on our harddrive."
   ]
  },
  {
   "cell_type": "markdown",
   "metadata": {},
   "source": [
    "Update the following two variables according the credentials you received from Spotify"
   ]
  },
  {
   "cell_type": "code",
   "execution_count": 10,
   "metadata": {
    "ExecuteTime": {
     "end_time": "2017-08-24T10:20:33.260000Z",
     "start_time": "2017-08-24T10:20:33.256000Z"
    },
    "collapsed": true
   },
   "outputs": [],
   "source": [
    "SPOTIFY_USER = \"slychief\"\n",
    "\n",
    "os.environ[\"SPOTIPY_CLIENT_ID\"]     = \"8a7fffc37b6c44e6b7bc344c3295034c\"\n",
    "os.environ[\"SPOTIPY_CLIENT_SECRET\"] = \"f19dd914ba58408c9407dd6479b23812\""
   ]
  },
  {
   "cell_type": "markdown",
   "metadata": {},
   "source": [
    "The same playlists as used in Part 1:"
   ]
  },
  {
   "cell_type": "code",
   "execution_count": 11,
   "metadata": {
    "collapsed": true
   },
   "outputs": [],
   "source": [
    "playlists = [\n",
    "    \n",
    "     {\"name\": \"clubbeats\",    \"uri\": \"spotify:user:spotify:playlist:37i9dQZF1DXbX3zSzB4MO0\"},\n",
    "     {\"name\": \"softpop\",      \"uri\": \"spotify:user:spotify:playlist:37i9dQZF1DWTwnEm1IYyoj\"},\n",
    "     {\"name\": \"electropop\",   \"uri\": \"spotify:user:spotify:playlist:37i9dQZF1DX4uPi2roRUwU\"},\n",
    "     {\"name\": \"rockclassics\", \"uri\": \"spotify:user:spotify:playlist:37i9dQZF1DWXRqgorJj26U\"},\n",
    "     {\"name\": \"rockhymns\",    \"uri\": \"spotify:user:spotify:playlist:37i9dQZF1DX4vth7idTQch\"},\n",
    "     {\"name\": \"soft_rock\",    \"uri\": \"spotify:user:spotify:playlist:37i9dQZF1DX6xOPeSOGone\"},\n",
    "     {\"name\": \"metalcore\",    \"uri\": \"spotify:user:spotify:playlist:37i9dQZF1DWXIcbzpLauPS\"}, \n",
    "     {\"name\": \"metal\",        \"uri\": \"spotify:user:spotify:playlist:37i9dQZF1DWWOaP4H0w5b0\"},\n",
    "     {\"name\": \"classic_metal\",\"uri\": \"spotify:user:spotify:playlist:37i9dQZF1DX2LTcinqsO68\"},\n",
    "     {\"name\": \"grunge\",       \"uri\": \"spotify:user:spotify:playlist:37i9dQZF1DX11ghcIxjcjE\"},\n",
    "     {\"name\": \"hiphop\",       \"uri\": \"spotify:user:spotify:playlist:37i9dQZF1DWVdgXTbYm2r0\"},\n",
    "     {\"name\": \"poppunk\",      \"uri\": \"spotify:user:spotify:playlist:37i9dQZF1DXa9wYJr1oMFq\"},\n",
    "     {\"name\": \"classic\",      \"uri\": \"spotify:user:spotify:playlist:37i9dQZF1DXcN1fAVSf7CR\"}\n",
    "    \n",
    "]"
   ]
  },
  {
   "cell_type": "markdown",
   "metadata": {},
   "source": [
    "Connect to the Spotify API"
   ]
  },
  {
   "cell_type": "code",
   "execution_count": 12,
   "metadata": {
    "ExecuteTime": {
     "end_time": "2017-08-24T10:20:54.045000Z",
     "start_time": "2017-08-24T10:20:34.076000Z"
    },
    "collapsed": true
   },
   "outputs": [],
   "source": [
    "token = util.prompt_for_user_token(\"slychief\", \n",
    "                                   \"playlist-modify-public\", \n",
    "                                   redirect_uri=\"http://localhost/\")\n",
    "\n",
    "sp = spotipy.Spotify(auth=token)"
   ]
  },
  {
   "cell_type": "markdown",
   "metadata": {},
   "source": [
    "Create a temporary Spotify playlist to demonstrate results. Store playlist-ID for later processing"
   ]
  },
  {
   "cell_type": "code",
   "execution_count": 13,
   "metadata": {
    "collapsed": true
   },
   "outputs": [],
   "source": [
    "sp_response    = sp.user_playlist_create(SPOTIFY_USER, \"tutorial_2\", public=True)\n",
    "sp_playlist_id = sp_response[\"id\"]"
   ]
  },
  {
   "cell_type": "markdown",
   "metadata": {},
   "source": [
    "Define the local chache directory. This should be the same as in Part 1 of the tutorial."
   ]
  },
  {
   "cell_type": "code",
   "execution_count": 14,
   "metadata": {
    "ExecuteTime": {
     "end_time": "2017-08-24T10:20:32.875000Z",
     "start_time": "2017-08-24T10:20:32.870000Z"
    },
    "collapsed": true
   },
   "outputs": [],
   "source": [
    "memory = Memory(cachedir='/home/schindler/tmp/spotify/', verbose=0)"
   ]
  },
  {
   "cell_type": "code",
   "execution_count": 15,
   "metadata": {
    "collapsed": true
   },
   "outputs": [],
   "source": [
    "@memory.cache\n",
    "def get_spotify_data(track_id):\n",
    "    \n",
    "    # meta-data\n",
    "    track_metadata      = sp.track(track_id)\n",
    "    album_metadata      = sp.album(track_metadata[\"album\"][\"id\"])\n",
    "    artist_metadata     = sp.artist(track_metadata[\"artists\"][0][\"id\"])\n",
    "    \n",
    "    # feature-data\n",
    "    sequential_features = sp.audio_analysis(track_id)\n",
    "    trackbased_features = sp.audio_features([track_id])\n",
    "    \n",
    "    return track_metadata, album_metadata, artist_metadata, sequential_features, trackbased_features"
   ]
  },
  {
   "cell_type": "markdown",
   "metadata": {},
   "source": [
    "Start loading the Spotify Data"
   ]
  },
  {
   "cell_type": "code",
   "execution_count": 16,
   "metadata": {},
   "outputs": [
    {
     "name": "stderr",
     "output_type": "stream",
     "text": [
      " 97% (939 of 963) |#################################################################################################################################################################################     | Elapsed Time: 0:00:41 ETA: 0:00:01"
     ]
    }
   ],
   "source": [
    "# Get Playlist meta-data\n",
    "playlists = tut_func.get_playlist_metadata(sp, playlists)\n",
    "\n",
    "# Get track-ids of all playlist entries\n",
    "playlists = tut_func.get_track_ids(sp, playlists)\n",
    "\n",
    "num_tracks_total = np.sum([playlist[\"num_tracks\"] for playlist in playlists])\n",
    "\n",
    "# Fetch data and features from Spotify\n",
    "pbar = progressbar.ProgressBar(max_value=num_tracks_total)\n",
    "pbar.start()\n",
    "\n",
    "raw_track_data      = []\n",
    "processed_track_ids = []\n",
    "\n",
    "for playlist in playlists:\n",
    "\n",
    "    for track_id in playlist[\"track_ids\"]:\n",
    "\n",
    "        try:\n",
    "            # avoid duplicates in the data-set\n",
    "            if track_id not in processed_track_ids:\n",
    "\n",
    "                # retrieve data from Spotify\n",
    "                spotify_data = get_spotify_data(track_id)\n",
    "\n",
    "                raw_track_data.append([playlist[\"name\"], spotify_data])\n",
    "                processed_track_ids.append(track_id)\n",
    "\n",
    "        except Exception as e:\n",
    "            print e\n",
    "\n",
    "        pbar.update(len(raw_track_data))"
   ]
  },
  {
   "cell_type": "markdown",
   "metadata": {},
   "source": [
    "### Aggregate feature-data\n",
    "\n",
    "Currently we only have a list of raw data-objects retrieved from the Spotify API. We need to transform this information to a more structured format."
   ]
  },
  {
   "cell_type": "code",
   "execution_count": 88,
   "metadata": {
    "collapsed": true
   },
   "outputs": [],
   "source": [
    "# Aggregate Meta-data\n",
    "metadata = tut_func.aggregate_metadata(raw_track_data)\n",
    "\n",
    "# Aggregate Feature-data\n",
    "feature_data = tut_func.aggregate_featuredata(raw_track_data, metadata)\n",
    "\n",
    "# standardize sequential_features\n",
    "feature_data -= feature_data.mean(axis=0)\n",
    "feature_data /= feature_data.std(axis=0)"
   ]
  },
  {
   "cell_type": "markdown",
   "metadata": {},
   "source": [
    "# Tag Similarities\n",
    "\n",
    "Tag similarity refers to the semantic relationship between two labels. In the context of this tutorial we are talking about genre labels. These are provided by the Spotify API for each artist. This is not as precise as for each track, but we take what we get. We still need to consider that an artist might change its artistic orientation which means he can cross or change its genre or on the other hand, the genre can change itself (e.g. Rhythm and Blues). Most of all, we should keep in mind that the concept of music genre is highly subjective and its interpretation might vary between the annotators who labelled the provided tracks.\n",
    "\n",
    "### Calculating similarities between Tracks based on labels\n",
    "\n",
    "To estimate the similarities between tracks, we first have to assess, how many labels  we have and how they are distributed. First we convert the string labels into a binary matrix:"
   ]
  },
  {
   "cell_type": "code",
   "execution_count": 89,
   "metadata": {},
   "outputs": [],
   "source": [
    "mlb = MultiLabelBinarizer()\n",
    "mlb = mlb.fit(metadata.genres)\n",
    "\n",
    "genres_bin = pd.DataFrame(mlb.transform(metadata.genres), columns=mlb.classes_)"
   ]
  },
  {
   "cell_type": "markdown",
   "metadata": {},
   "source": [
    "Now we remove all tracks for which no labels were provided:"
   ]
  },
  {
   "cell_type": "code",
   "execution_count": 90,
   "metadata": {
    "collapsed": true
   },
   "outputs": [],
   "source": [
    "# filter tracks without genre tags\n",
    "genres_bin = genres_bin[genres_bin.sum(axis=1) > 0]"
   ]
  },
  {
   "cell_type": "markdown",
   "metadata": {},
   "source": [
    "Now we align the metadata and the feature-data to the filtered metadata:"
   ]
  },
  {
   "cell_type": "code",
   "execution_count": 86,
   "metadata": {
    "collapsed": true
   },
   "outputs": [],
   "source": [
    "# copy the metadata\n",
    "metadata_aligned = metadata\n",
    "\n",
    "# create an additional column as an index into the feature-data\n",
    "metadata_aligned[\"featurespace_index\"] = metadata.index.values\n",
    "\n",
    "# reduce the aligned metadata to those tracks with provided genre labels\n",
    "metadata_aligned = metadata_aligned.iloc[genres_bin.index]\n",
    "\n",
    "# reset the index\n",
    "metadata_aligned = metadata_aligned.reset_index()"
   ]
  },
  {
   "cell_type": "markdown",
   "metadata": {},
   "source": [
    "### Term (Label) Frequencies\n",
    "\n",
    "As a next step we will analyze how many labels we have in our dataset, which ones are the most frequently used and so on.\n",
    "\n",
    "So let's see what are the most used genre labels in our dataset:"
   ]
  },
  {
   "cell_type": "code",
   "execution_count": 91,
   "metadata": {},
   "outputs": [
    {
     "data": {
      "image/png": "[encoded data removed]",
      "text/plain": [
       "<matplotlib.figure.Figure at 0x7f53ecc41310>"
      ]
     },
     "metadata": {},
     "output_type": "display_data"
    }
   ],
   "source": [
    "genres_bin.sum(axis=0).sort_values(ascending=False)[:50].plot(kind=\"bar\", figsize=(16,6));"
   ]
  },
  {
   "cell_type": "markdown",
   "metadata": {},
   "source": [
    "As we can see, the \"rock\" genre is the most dominating one. Thus, providing this label to a track does not add more relevant information to it to distinguish it from other tracks. The term \"romantic\" on the other hand is less frequent which makes it more discrimitative."
   ]
  },
  {
   "cell_type": "code",
   "execution_count": 27,
   "metadata": {
    "collapsed": true
   },
   "outputs": [],
   "source": [
    "tf            = genres_bin.sum(axis=0)\n",
    "idf           = np.log(genres_bin.shape[0] / tf)\n",
    "genres_tf_idf = genres_bin / idf"
   ]
  },
  {
   "cell_type": "code",
   "execution_count": null,
   "metadata": {
    "collapsed": true
   },
   "outputs": [],
   "source": []
  },
  {
   "cell_type": "code",
   "execution_count": 28,
   "metadata": {
    "collapsed": true
   },
   "outputs": [],
   "source": [
    "dists = pdist(genres_tf_idf, 'dice')"
   ]
  },
  {
   "cell_type": "code",
   "execution_count": 29,
   "metadata": {
    "collapsed": true
   },
   "outputs": [],
   "source": [
    "sims = pd.DataFrame(1 - squareform(dists))"
   ]
  },
  {
   "cell_type": "code",
   "execution_count": 30,
   "metadata": {
    "collapsed": true
   },
   "outputs": [],
   "source": [
    "sims.index   = genres_tf_idf.index\n",
    "sims.columns = genres_tf_idf.index"
   ]
  },
  {
   "cell_type": "code",
   "execution_count": 32,
   "metadata": {},
   "outputs": [
    {
     "name": "stdout",
     "output_type": "stream",
     "text": [
      "index                                                               359\n",
      "track_id                                         7GNf8GN66LzBmENFQWxBKb\n",
      "artist_name                                                   Joe Walsh\n",
      "title                                                Rocky Mountain Way\n",
      "album_name                             You Can't Argue With A Sick Mind\n",
      "label                                         Universal Special Markets\n",
      "duration                                                         460760\n",
      "popularity                                                           58\n",
      "year                                                               1976\n",
      "genres                [album rock, art rock, blues-rock, british blu...\n",
      "playlist                                                   rockclassics\n",
      "featurespace_index                                                  359\n",
      "Name: 359, dtype: object\n"
     ]
    },
    {
     "data": {
      "text/html": [
       "<div>\n",
       "<style>\n",
       "    .dataframe thead tr:only-child th {\n",
       "        text-align: right;\n",
       "    }\n",
       "\n",
       "    .dataframe thead th {\n",
       "        text-align: left;\n",
       "    }\n",
       "\n",
       "    .dataframe tbody tr th {\n",
       "        vertical-align: top;\n",
       "    }\n",
       "</style>\n",
       "<table border=\"1\" class=\"dataframe\">\n",
       "  <thead>\n",
       "    <tr style=\"text-align: right;\">\n",
       "      <th></th>\n",
       "      <th>featurespace_index</th>\n",
       "      <th>artist_name</th>\n",
       "      <th>title</th>\n",
       "      <th>year</th>\n",
       "      <th>popularity</th>\n",
       "      <th>genres</th>\n",
       "      <th>playlist</th>\n",
       "      <th>sim</th>\n",
       "    </tr>\n",
       "  </thead>\n",
       "  <tbody>\n",
       "    <tr>\n",
       "      <th>498</th>\n",
       "      <td>498</td>\n",
       "      <td>Guns N' Roses</td>\n",
       "      <td>Patience</td>\n",
       "      <td>1988</td>\n",
       "      <td>68</td>\n",
       "      <td>[album rock, alternative rock, classic rock, g...</td>\n",
       "      <td>soft_rock</td>\n",
       "      <td>1.000000</td>\n",
       "    </tr>\n",
       "    <tr>\n",
       "      <th>422</th>\n",
       "      <td>422</td>\n",
       "      <td>Guns N' Roses</td>\n",
       "      <td>Welcome To The Jungle</td>\n",
       "      <td>1987</td>\n",
       "      <td>76</td>\n",
       "      <td>[album rock, alternative rock, classic rock, g...</td>\n",
       "      <td>rockhymns</td>\n",
       "      <td>1.000000</td>\n",
       "    </tr>\n",
       "    <tr>\n",
       "      <th>373</th>\n",
       "      <td>373</td>\n",
       "      <td>Guns N' Roses</td>\n",
       "      <td>Welcome To The Jungle</td>\n",
       "      <td>2004</td>\n",
       "      <td>60</td>\n",
       "      <td>[album rock, alternative rock, classic rock, g...</td>\n",
       "      <td>rockclassics</td>\n",
       "      <td>1.000000</td>\n",
       "    </tr>\n",
       "    <tr>\n",
       "      <th>387</th>\n",
       "      <td>387</td>\n",
       "      <td>Guns N' Roses</td>\n",
       "      <td>Paradise City</td>\n",
       "      <td>1987</td>\n",
       "      <td>75</td>\n",
       "      <td>[album rock, alternative rock, classic rock, g...</td>\n",
       "      <td>rockclassics</td>\n",
       "      <td>1.000000</td>\n",
       "    </tr>\n",
       "    <tr>\n",
       "      <th>335</th>\n",
       "      <td>335</td>\n",
       "      <td>Led Zeppelin</td>\n",
       "      <td>Good Times Bad Times</td>\n",
       "      <td>1969</td>\n",
       "      <td>71</td>\n",
       "      <td>[album rock, alternative rock, british blues, ...</td>\n",
       "      <td>rockclassics</td>\n",
       "      <td>0.833333</td>\n",
       "    </tr>\n",
       "    <tr>\n",
       "      <th>397</th>\n",
       "      <td>397</td>\n",
       "      <td>Aerosmith</td>\n",
       "      <td>Dream On</td>\n",
       "      <td>1973</td>\n",
       "      <td>76</td>\n",
       "      <td>[album rock, alternative rock, classic rock, h...</td>\n",
       "      <td>rockclassics</td>\n",
       "      <td>0.833333</td>\n",
       "    </tr>\n",
       "    <tr>\n",
       "      <th>392</th>\n",
       "      <td>392</td>\n",
       "      <td>Aerosmith</td>\n",
       "      <td>Toys In The Attic</td>\n",
       "      <td>1975</td>\n",
       "      <td>59</td>\n",
       "      <td>[album rock, alternative rock, classic rock, h...</td>\n",
       "      <td>rockclassics</td>\n",
       "      <td>0.833333</td>\n",
       "    </tr>\n",
       "    <tr>\n",
       "      <th>286</th>\n",
       "      <td>286</td>\n",
       "      <td>Led Zeppelin</td>\n",
       "      <td>Ramble On</td>\n",
       "      <td>1969</td>\n",
       "      <td>73</td>\n",
       "      <td>[album rock, alternative rock, british blues, ...</td>\n",
       "      <td>rockclassics</td>\n",
       "      <td>0.833333</td>\n",
       "    </tr>\n",
       "    <tr>\n",
       "      <th>319</th>\n",
       "      <td>319</td>\n",
       "      <td>Aerosmith</td>\n",
       "      <td>Sweet Emotion</td>\n",
       "      <td>1975</td>\n",
       "      <td>73</td>\n",
       "      <td>[album rock, alternative rock, classic rock, h...</td>\n",
       "      <td>rockclassics</td>\n",
       "      <td>0.833333</td>\n",
       "    </tr>\n",
       "    <tr>\n",
       "      <th>394</th>\n",
       "      <td>394</td>\n",
       "      <td>Led Zeppelin</td>\n",
       "      <td>Kashmir</td>\n",
       "      <td>1975</td>\n",
       "      <td>60</td>\n",
       "      <td>[album rock, alternative rock, british blues, ...</td>\n",
       "      <td>rockclassics</td>\n",
       "      <td>0.833333</td>\n",
       "    </tr>\n",
       "  </tbody>\n",
       "</table>\n",
       "</div>"
      ],
      "text/plain": [
       "     featurespace_index    artist_name                  title  year  \\\n",
       "498                 498  Guns N' Roses               Patience  1988   \n",
       "422                 422  Guns N' Roses  Welcome To The Jungle  1987   \n",
       "373                 373  Guns N' Roses  Welcome To The Jungle  2004   \n",
       "387                 387  Guns N' Roses          Paradise City  1987   \n",
       "335                 335   Led Zeppelin   Good Times Bad Times  1969   \n",
       "397                 397      Aerosmith               Dream On  1973   \n",
       "392                 392      Aerosmith      Toys In The Attic  1975   \n",
       "286                 286   Led Zeppelin              Ramble On  1969   \n",
       "319                 319      Aerosmith          Sweet Emotion  1975   \n",
       "394                 394   Led Zeppelin                Kashmir  1975   \n",
       "\n",
       "     popularity                                             genres  \\\n",
       "498          68  [album rock, alternative rock, classic rock, g...   \n",
       "422          76  [album rock, alternative rock, classic rock, g...   \n",
       "373          60  [album rock, alternative rock, classic rock, g...   \n",
       "387          75  [album rock, alternative rock, classic rock, g...   \n",
       "335          71  [album rock, alternative rock, british blues, ...   \n",
       "397          76  [album rock, alternative rock, classic rock, h...   \n",
       "392          59  [album rock, alternative rock, classic rock, h...   \n",
       "286          73  [album rock, alternative rock, british blues, ...   \n",
       "319          73  [album rock, alternative rock, classic rock, h...   \n",
       "394          60  [album rock, alternative rock, british blues, ...   \n",
       "\n",
       "         playlist       sim  \n",
       "498     soft_rock  1.000000  \n",
       "422     rockhymns  1.000000  \n",
       "373  rockclassics  1.000000  \n",
       "387  rockclassics  1.000000  \n",
       "335  rockclassics  0.833333  \n",
       "397  rockclassics  0.833333  \n",
       "392  rockclassics  0.833333  \n",
       "286  rockclassics  0.833333  \n",
       "319  rockclassics  0.833333  \n",
       "394  rockclassics  0.833333  "
      ]
     },
     "execution_count": 32,
     "metadata": {},
     "output_type": "execute_result"
    }
   ],
   "source": [
    "i = 330\n",
    "idx = sims[i].sort_values(ascending=False).index\n",
    "\n",
    "print metadata_aligned.iloc[i]\n",
    "\n",
    "result = metadata.loc[idx]\n",
    "result[\"sim\"] = sims.loc[i,idx].values\n",
    "result = result[[\"featurespace_index\", \"artist_name\", \"title\", \"year\", \"popularity\", \"genres\", \"playlist\", \"sim\"]]\n",
    "result[(result.sim > 0) & (result.index != i)][:10]\n",
    "#result[(result.sim < 0.00001)]"
   ]
  },
  {
   "cell_type": "code",
   "execution_count": null,
   "metadata": {
    "collapsed": true
   },
   "outputs": [],
   "source": []
  },
  {
   "cell_type": "markdown",
   "metadata": {},
   "source": [
    "# Calculate Similarities"
   ]
  },
  {
   "cell_type": "code",
   "execution_count": null,
   "metadata": {
    "collapsed": true
   },
   "outputs": [],
   "source": [
    "def create_pairs_with_sims_and_identity(feature_data, metadata, num_pairs_per_track, sims):\n",
    "    \n",
    "    data_pairs = []\n",
    "    labels     = []\n",
    "    \n",
    "    for row_id, q_track in metadata.sample(frac=1).iterrows():\n",
    "        \n",
    "        # identical pair\n",
    "        data_pairs.append([feature_data[[row_id]][0], feature_data[[row_id]][0]])\n",
    "        labels.append(1)\n",
    "        \n",
    "        for _ in range(num_pairs_per_track):\n",
    "            \n",
    "            # search similar and dissimilar examples\n",
    "            pos_example = metadata[metadata.playlist == q_track.playlist].sample(1)\n",
    "            neg_example = metadata[metadata.playlist != q_track.playlist].sample(1)\n",
    "\n",
    "            # create feature pairs\n",
    "            \n",
    "            # similar pair\n",
    "            data_pairs.append([feature_data[[row_id]][0], feature_data[[pos_example.index]][0]])\n",
    "            sim_val = playlist_similarities.loc[q_track.playlist, pos_example.playlist] - 0.1\n",
    "            labels.append(np.max([0, sim_val]))\n",
    "\n",
    "            # dissimilar pair\n",
    "            data_pairs.append([feature_data[[row_id]][0], feature_data[[neg_example.index]][0]])\n",
    "            sim_val = playlist_similarities.loc[q_track.playlist, neg_example.playlist] - 0.1\n",
    "            labels.append(np.max([0, sim_val]))\n",
    "\n",
    "    return np.array(data_pairs), np.array(labels)"
   ]
  },
  {
   "cell_type": "code",
   "execution_count": 54,
   "metadata": {
    "collapsed": true
   },
   "outputs": [],
   "source": [
    "def create_pairs(feature_data, metadata, num_pairs_per_track, ):\n",
    "    \n",
    "    data_pairs = []\n",
    "    labels     = []\n",
    "    \n",
    "    for row_id, q_track in metadata_aligned.sample(frac=1).iterrows():\n",
    "        \n",
    "        # identical pair\n",
    "        data_pairs.append([feature_data[[row_id]][0], feature_data[[row_id]][0]])\n",
    "        labels.append(1)\n",
    "                \n",
    "        for _ in range(num_pairs_per_track):\n",
    "            \n",
    "            # search similar and dissimilar examples\n",
    "            pos_example = metadata_aligned[metadata_aligned.playlist == q_track.playlist].sample(1)\n",
    "            neg_example = metadata_aligned[metadata_aligned.playlist != q_track.playlist].sample(1)\n",
    "\n",
    "            # create feature pairs\n",
    "            data_pairs.append([feature_data[[metadata_aligned.loc[row_id].featurespace_index]][0], feature_data[[pos_example.featurespace_index]][0]])\n",
    "            sim_val = sims.loc[row_id, pos_example.index].values[0] - 0.1\n",
    "            labels.append(np.max([0, sim_val]))\n",
    "            \n",
    "            data_pairs.append([feature_data[[metadata_aligned.loc[row_id].featurespace_index]][0], feature_data[[neg_example.featurespace_index]][0]])\n",
    "            sim_val = sims.loc[row_id, neg_example.index].values[0] - 0.1\n",
    "            labels.append(np.max([0, sim_val]))\n",
    "            \n",
    "\n",
    "    return np.array(data_pairs), np.array(labels)"
   ]
  },
  {
   "cell_type": "code",
   "execution_count": 55,
   "metadata": {},
   "outputs": [
    {
     "data": {
      "text/plain": [
       "(18732, 2, 69)"
      ]
     },
     "execution_count": 55,
     "metadata": {},
     "output_type": "execute_result"
    }
   ],
   "source": [
    "data_pairs, labels = create_pairs(feature_data, metadata, 10)\n",
    "\n",
    "data_pairs.shape"
   ]
  },
  {
   "cell_type": "code",
   "execution_count": 53,
   "metadata": {},
   "outputs": [],
   "source": [
    "from keras.models           import Model\n",
    "from keras.layers           import Input, Lambda, Dense, Bidirectional\n",
    "from keras.layers.recurrent import LSTM\n",
    "from keras.layers.merge     import concatenate\n",
    "from keras.optimizers       import Nadam\n",
    "from keras import backend as K"
   ]
  },
  {
   "cell_type": "code",
   "execution_count": 40,
   "metadata": {
    "collapsed": true
   },
   "outputs": [],
   "source": [
    "def contrastive_loss(y_true, y_pred):\n",
    "    margin = 1\n",
    "    return K.mean(y_true * K.square(y_pred) + (1 - y_true) * K.square(K.maximum(margin - y_pred, 0)))"
   ]
  },
  {
   "cell_type": "code",
   "execution_count": 41,
   "metadata": {
    "collapsed": true
   },
   "outputs": [],
   "source": [
    "def euclidean_distance(vects):\n",
    "    x, y = vects\n",
    "    return K.sqrt(K.maximum(K.sum(K.square(x - y), axis=1, keepdims=True), K.epsilon()))"
   ]
  },
  {
   "cell_type": "code",
   "execution_count": 46,
   "metadata": {
    "collapsed": true
   },
   "outputs": [],
   "source": [
    "def create_siamese_network(input_dim):\n",
    "\n",
    "    # input layers\n",
    "    input_left  = Input(shape=input_dim)\n",
    "    input_right = Input(shape=input_dim)\n",
    "\n",
    "    # shared fully connected layers\n",
    "    shared_fc_1 = Dense(100, activation=\"selu\")\n",
    "    shared_fc_2 = Dense(100, activation=\"selu\")    \n",
    "    \n",
    "    # siamese layers\n",
    "    left_twin  = shared_fc_1(shared_fc_2(input_left))\n",
    "    right_twin = shared_fc_1(shared_fc_2(input_right))\n",
    "\n",
    "    # calc difference\n",
    "    distance = Lambda(euclidean_distance,\n",
    "                      output_shape=lambda x: x[0])([left_twin, right_twin])\n",
    "\n",
    "    return Model([input_left, input_right], distance)"
   ]
  },
  {
   "cell_type": "code",
   "execution_count": 56,
   "metadata": {
    "collapsed": true
   },
   "outputs": [],
   "source": [
    "# define the model\n",
    "model = create_siamese_network(data_pairs[:,0].shape[1:])\n",
    "\n",
    "# define the optimizer\n",
    "opt = Nadam(lr=0.001)\n",
    "\n",
    "# compile the model\n",
    "model.compile(loss      = contrastive_loss, \n",
    "                   optimizer = opt)"
   ]
  },
  {
   "cell_type": "code",
   "execution_count": 57,
   "metadata": {},
   "outputs": [
    {
     "data": {
      "image/png": "[encoded data removed]",
      "text/plain": [
       "<matplotlib.figure.Figure at 0x7f540e737550>"
      ]
     },
     "metadata": {},
     "output_type": "display_data"
    }
   ],
   "source": [
    "model.fit([data_pairs[:, 0], data_pairs[:, 1]], \n",
    "                labels, \n",
    "                batch_size       = 24, \n",
    "                verbose          = 0, \n",
    "                epochs           = 25, \n",
    "                callbacks        = [tut_func.PlotLosses()], \n",
    "                validation_split = 0.1);"
   ]
  },
  {
   "cell_type": "code",
   "execution_count": 50,
   "metadata": {
    "collapsed": true
   },
   "outputs": [],
   "source": [
    "def similar(model, query_idx):\n",
    "    \n",
    "    print metadata.iloc[query_idx]\n",
    "    \n",
    "    # calclulate predicted distances between query track and all others\n",
    "    res = [model.predict([feature_data[[query_idx]], feature_data[[i]]]) for i in range(feature_data.shape[0])]\n",
    "\n",
    "    # reshape\n",
    "    res = np.array(res)\n",
    "    res = res.reshape(res.shape[0])\n",
    "\n",
    "    # get sorted indexes in ascending order (smallest distance to query track first)\n",
    "    si = np.argsort(res)\n",
    "    \n",
    "    # update spotify playlist\n",
    "    sp.user_playlist_replace_tracks(SPOTIFY_USER, sp_playlist_id, metadata.loc[si, \"track_id\"][:10])\n",
    "    \n",
    "    # output filter\n",
    "    display_cols = [\"artist_name\", \"title\", \"album_name\", \"year\",\"playlist\"]\n",
    "    \n",
    "    return metadata.loc[si, display_cols][:10]"
   ]
  },
  {
   "cell_type": "code",
   "execution_count": 67,
   "metadata": {},
   "outputs": [
    {
     "name": "stdout",
     "output_type": "stream",
     "text": [
      "track_id                                         2aoo2jlRnM3A0NyLQqMN2f\n",
      "artist_name                                                Jimi Hendrix\n",
      "title                                          All Along the Watchtower\n",
      "album_name                                            Electric Ladyland\n",
      "label                                                 Legacy Recordings\n",
      "duration                                                         240800\n",
      "popularity                                                           77\n",
      "year                                                               1968\n",
      "genres                [album rock, blues-rock, classic funk rock, cl...\n",
      "playlist                                                   rockclassics\n",
      "featurespace_index                                                  334\n",
      "Name: 334, dtype: object\n"
     ]
    },
    {
     "data": {
      "text/html": [
       "<div>\n",
       "<style>\n",
       "    .dataframe thead tr:only-child th {\n",
       "        text-align: right;\n",
       "    }\n",
       "\n",
       "    .dataframe thead th {\n",
       "        text-align: left;\n",
       "    }\n",
       "\n",
       "    .dataframe tbody tr th {\n",
       "        vertical-align: top;\n",
       "    }\n",
       "</style>\n",
       "<table border=\"1\" class=\"dataframe\">\n",
       "  <thead>\n",
       "    <tr style=\"text-align: right;\">\n",
       "      <th></th>\n",
       "      <th>artist_name</th>\n",
       "      <th>title</th>\n",
       "      <th>album_name</th>\n",
       "      <th>year</th>\n",
       "      <th>playlist</th>\n",
       "    </tr>\n",
       "  </thead>\n",
       "  <tbody>\n",
       "    <tr>\n",
       "      <th>334</th>\n",
       "      <td>Jimi Hendrix</td>\n",
       "      <td>All Along the Watchtower</td>\n",
       "      <td>Electric Ladyland</td>\n",
       "      <td>1968</td>\n",
       "      <td>rockclassics</td>\n",
       "    </tr>\n",
       "    <tr>\n",
       "      <th>337</th>\n",
       "      <td>The Rolling Stones</td>\n",
       "      <td>Brown Sugar - Remastered</td>\n",
       "      <td>Sticky Fingers (Deluxe)</td>\n",
       "      <td>1971</td>\n",
       "      <td>rockclassics</td>\n",
       "    </tr>\n",
       "    <tr>\n",
       "      <th>360</th>\n",
       "      <td>Kansas</td>\n",
       "      <td>Carry on Wayward Son</td>\n",
       "      <td>Leftoverture</td>\n",
       "      <td>1976</td>\n",
       "      <td>rockclassics</td>\n",
       "    </tr>\n",
       "    <tr>\n",
       "      <th>336</th>\n",
       "      <td>The Who</td>\n",
       "      <td>My Generation</td>\n",
       "      <td>The Who Sings My Generation</td>\n",
       "      <td>1966</td>\n",
       "      <td>rockclassics</td>\n",
       "    </tr>\n",
       "    <tr>\n",
       "      <th>282</th>\n",
       "      <td>The Rolling Stones</td>\n",
       "      <td>Paint It, Black - Mono / Remastered</td>\n",
       "      <td>The Rolling Stones In Mono (Remastered 2016)</td>\n",
       "      <td>1966</td>\n",
       "      <td>rockclassics</td>\n",
       "    </tr>\n",
       "    <tr>\n",
       "      <th>368</th>\n",
       "      <td>Aerosmith</td>\n",
       "      <td>Walk This Way</td>\n",
       "      <td>Aerosmith's Greatest Hits</td>\n",
       "      <td>1980</td>\n",
       "      <td>rockclassics</td>\n",
       "    </tr>\n",
       "    <tr>\n",
       "      <th>489</th>\n",
       "      <td>Toto</td>\n",
       "      <td>Rosanna</td>\n",
       "      <td>Toto IV</td>\n",
       "      <td>1982</td>\n",
       "      <td>soft_rock</td>\n",
       "    </tr>\n",
       "    <tr>\n",
       "      <th>400</th>\n",
       "      <td>Bruce Springsteen</td>\n",
       "      <td>Born to Run</td>\n",
       "      <td>Born To Run</td>\n",
       "      <td>1975</td>\n",
       "      <td>rockclassics</td>\n",
       "    </tr>\n",
       "    <tr>\n",
       "      <th>701</th>\n",
       "      <td>Iron Maiden</td>\n",
       "      <td>The Trooper</td>\n",
       "      <td>Piece of Mind</td>\n",
       "      <td>1983</td>\n",
       "      <td>classic_metal</td>\n",
       "    </tr>\n",
       "    <tr>\n",
       "      <th>490</th>\n",
       "      <td>REO Speedwagon</td>\n",
       "      <td>Keep on Loving You - Remastered</td>\n",
       "      <td>Hi Infidelity (30th Anniversary Edition)</td>\n",
       "      <td>1980</td>\n",
       "      <td>soft_rock</td>\n",
       "    </tr>\n",
       "  </tbody>\n",
       "</table>\n",
       "</div>"
      ],
      "text/plain": [
       "            artist_name                                title  \\\n",
       "334        Jimi Hendrix             All Along the Watchtower   \n",
       "337  The Rolling Stones             Brown Sugar - Remastered   \n",
       "360              Kansas                 Carry on Wayward Son   \n",
       "336             The Who                        My Generation   \n",
       "282  The Rolling Stones  Paint It, Black - Mono / Remastered   \n",
       "368           Aerosmith                        Walk This Way   \n",
       "489                Toto                              Rosanna   \n",
       "400   Bruce Springsteen                          Born to Run   \n",
       "701         Iron Maiden                          The Trooper   \n",
       "490      REO Speedwagon      Keep on Loving You - Remastered   \n",
       "\n",
       "                                       album_name  year       playlist  \n",
       "334                             Electric Ladyland  1968   rockclassics  \n",
       "337                       Sticky Fingers (Deluxe)  1971   rockclassics  \n",
       "360                                  Leftoverture  1976   rockclassics  \n",
       "336                   The Who Sings My Generation  1966   rockclassics  \n",
       "282  The Rolling Stones In Mono (Remastered 2016)  1966   rockclassics  \n",
       "368                     Aerosmith's Greatest Hits  1980   rockclassics  \n",
       "489                                       Toto IV  1982      soft_rock  \n",
       "400                                   Born To Run  1975   rockclassics  \n",
       "701                                 Piece of Mind  1983  classic_metal  \n",
       "490      Hi Infidelity (30th Anniversary Edition)  1980      soft_rock  "
      ]
     },
     "execution_count": 67,
     "metadata": {},
     "output_type": "execute_result"
    }
   ],
   "source": [
    "similar(model, 334)"
   ]
  },
  {
   "cell_type": "markdown",
   "metadata": {},
   "source": [
    "# Evaluate"
   ]
  },
  {
   "cell_type": "code",
   "execution_count": 38,
   "metadata": {
    "collapsed": true
   },
   "outputs": [],
   "source": [
    "def evaluate(similarity_function, cut_off):\n",
    "\n",
    "    global dist\n",
    "    \n",
    "    all_precisions = []\n",
    "\n",
    "    pbar = progressbar.ProgressBar()\n",
    "    \n",
    "    for idx in pbar(metadata.index.values):\n",
    "\n",
    "        dist           = similarity_function(feature_data, feature_data[[idx]])\n",
    "        dist           = np.array(dist).reshape(len(dist))\n",
    "        similar_tracks = metadata.loc[np.argsort(dist)[::-1][:cut_off]]\n",
    "        same_label     = similar_tracks[\"playlist\"] == metadata.loc[idx, \"playlist\"]\n",
    "        precision      = same_label.sum() / float(cut_off)\n",
    "        all_precisions.append(precision)\n",
    "\n",
    "    all_precisions = np.array(all_precisions)\n",
    "\n",
    "    return all_precisions.mean()"
   ]
  },
  {
   "cell_type": "code",
   "execution_count": 62,
   "metadata": {},
   "outputs": [
    {
     "name": "stderr",
     "output_type": "stream",
     "text": [
      "100% (938 of 938) |#####################################################################################################################################################################################| Elapsed Time: 0:02:41 Time: 0:02:41\n"
     ]
    },
    {
     "data": {
      "text/plain": [
       "0.57292110874200441"
      ]
     },
     "execution_count": 62,
     "metadata": {},
     "output_type": "execute_result"
    }
   ],
   "source": [
    "evaluate(lambda x,y: [model.predict([x[[i]], y]) for i in range(feature_data.shape[0])], 20)"
   ]
  },
  {
   "cell_type": "code",
   "execution_count": null,
   "metadata": {
    "collapsed": true
   },
   "outputs": [],
   "source": []
  },
  {
   "cell_type": "code",
   "execution_count": 240,
   "metadata": {},
   "outputs": [
    {
     "data": {
      "text/plain": [
       "0.83548728813559325"
      ]
     },
     "execution_count": 240,
     "metadata": {},
     "output_type": "execute_result"
    }
   ],
   "source": [
    "evaluate(lambda x,y: [model.predict([x[[i]], y]) for i in range(feature_data.shape[0])], 20)"
   ]
  },
  {
   "cell_type": "code",
   "execution_count": 48,
   "metadata": {
    "collapsed": true
   },
   "outputs": [],
   "source": [
    "def create_pairs_with_sims_and_identity(feature_data, metadata, num_pairs_per_track):\n",
    "    \n",
    "    data_pairs = []\n",
    "    labels     = []\n",
    "    \n",
    "    pbar = progressbar.ProgressBar(max_value=metadata_aligned.shape[0])\n",
    "    pbar.start()\n",
    "    \n",
    "    i = 0\n",
    "    \n",
    "    for row_id, q_track in metadata_aligned.sample(frac=1).iterrows():\n",
    "        \n",
    "        query_vector = feature_data[[metadata_aligned.loc[row_id].featurespace_index]][0]\n",
    "        \n",
    "        data_pairs.append([query_vector, query_vector])\n",
    "        labels.append(1)\n",
    "                \n",
    "        for _ in range(num_pairs_per_track):\n",
    "            \n",
    "            # search similar and dissimilar examples\n",
    "            pos_example = metadata_aligned[metadata_aligned.playlist == q_track.playlist].sample(1)\n",
    "            neg_example = metadata_aligned[metadata_aligned.playlist != q_track.playlist].sample(1)\n",
    "\n",
    "            # create feature pairs\n",
    "            data_pairs.append([query_vector, feature_data[[pos_example.featurespace_index]][0]])\n",
    "            labels.append(np.max([0, sims.loc[row_id, pos_example.index].values[0] - 0.05]))\n",
    "            \n",
    "            data_pairs.append([query_vector, feature_data[[neg_example.featurespace_index]][0]])\n",
    "            labels.append(np.max([0, sims.loc[row_id, neg_example.index].values[0] - 0.05]))\n",
    "            \n",
    "        pbar.update(i)\n",
    "        \n",
    "        i += 1\n",
    "\n",
    "    return np.array(data_pairs), np.array(labels)"
   ]
  },
  {
   "cell_type": "code",
   "execution_count": 49,
   "metadata": {},
   "outputs": [
    {
     "name": "stderr",
     "output_type": "stream",
     "text": [
      " 99% (889 of 892) |##################################################################################################################################################################################### | Elapsed Time: 0:00:18 ETA: 0:00:00"
     ]
    }
   ],
   "source": [
    "data_pairs, labels = create_pairs_with_sims_and_identity(feature_data, metadata, 10)"
   ]
  },
  {
   "cell_type": "code",
   "execution_count": 50,
   "metadata": {
    "collapsed": true
   },
   "outputs": [],
   "source": [
    "model = create_siamese_network(data_pairs[:,0].shape[1:])"
   ]
  },
  {
   "cell_type": "code",
   "execution_count": 51,
   "metadata": {},
   "outputs": [
    {
     "name": "stdout",
     "output_type": "stream",
     "text": [
      "Epoch 1/25\n",
      "18732/18732 [==============================] - 0s - loss: 0.0579 - mean_squared_error: 0.0579 - acc: 0.4466     \n",
      "Epoch 2/25\n",
      "18732/18732 [==============================] - 0s - loss: 0.0395 - mean_squared_error: 0.0395 - acc: 0.4623     \n",
      "Epoch 3/25\n",
      "18732/18732 [==============================] - 0s - loss: 0.0323 - mean_squared_error: 0.0323 - acc: 0.4661     \n",
      "Epoch 4/25\n",
      "18732/18732 [==============================] - 0s - loss: 0.0289 - mean_squared_error: 0.0289 - acc: 0.4671     \n",
      "Epoch 5/25\n",
      "18732/18732 [==============================] - 0s - loss: 0.0255 - mean_squared_error: 0.0255 - acc: 0.4683     \n",
      "Epoch 6/25\n",
      "18732/18732 [==============================] - 0s - loss: 0.0229 - mean_squared_error: 0.0229 - acc: 0.4684     \n",
      "Epoch 7/25\n",
      "18732/18732 [==============================] - 0s - loss: 0.0204 - mean_squared_error: 0.0204 - acc: 0.4689     \n",
      "Epoch 8/25\n",
      "18732/18732 [==============================] - 0s - loss: 0.0185 - mean_squared_error: 0.0185 - acc: 0.4694     \n",
      "Epoch 9/25\n",
      "18732/18732 [==============================] - 0s - loss: 0.0172 - mean_squared_error: 0.0172 - acc: 0.4696     \n",
      "Epoch 10/25\n",
      "18732/18732 [==============================] - 0s - loss: 0.0158 - mean_squared_error: 0.0158 - acc: 0.4694     \n",
      "Epoch 11/25\n",
      "18732/18732 [==============================] - 0s - loss: 0.0148 - mean_squared_error: 0.0148 - acc: 0.4697     \n",
      "Epoch 12/25\n",
      "18732/18732 [==============================] - 0s - loss: 0.0138 - mean_squared_error: 0.0138 - acc: 0.4698     \n",
      "Epoch 13/25\n",
      "18732/18732 [==============================] - 0s - loss: 0.0130 - mean_squared_error: 0.0130 - acc: 0.4695     \n",
      "Epoch 14/25\n",
      "18732/18732 [==============================] - 0s - loss: 0.0117 - mean_squared_error: 0.0117 - acc: 0.4701     \n",
      "Epoch 15/25\n",
      "18732/18732 [==============================] - 0s - loss: 0.0122 - mean_squared_error: 0.0122 - acc: 0.4699     \n",
      "Epoch 16/25\n",
      "18732/18732 [==============================] - 0s - loss: 0.0111 - mean_squared_error: 0.0111 - acc: 0.4700     \n",
      "Epoch 17/25\n",
      "18732/18732 [==============================] - 0s - loss: 0.0102 - mean_squared_error: 0.0102 - acc: 0.4698     \n",
      "Epoch 18/25\n",
      "18732/18732 [==============================] - 0s - loss: 0.0088 - mean_squared_error: 0.0088 - acc: 0.4702     \n",
      "Epoch 19/25\n",
      "18732/18732 [==============================] - 0s - loss: 0.0094 - mean_squared_error: 0.0094 - acc: 0.4702     \n",
      "Epoch 20/25\n",
      "18732/18732 [==============================] - 0s - loss: 0.0091 - mean_squared_error: 0.0091 - acc: 0.4701     \n",
      "Epoch 21/25\n",
      "18732/18732 [==============================] - 0s - loss: 0.0095 - mean_squared_error: 0.0095 - acc: 0.4699     \n",
      "Epoch 22/25\n",
      "18732/18732 [==============================] - 0s - loss: 0.0079 - mean_squared_error: 0.0079 - acc: 0.4702     \n",
      "Epoch 23/25\n",
      "18732/18732 [==============================] - 0s - loss: 0.0068 - mean_squared_error: 0.0068 - acc: 0.4703     \n",
      "Epoch 24/25\n",
      "18732/18732 [==============================] - 0s - loss: 0.0075 - mean_squared_error: 0.0075 - acc: 0.4699     \n",
      "Epoch 25/25\n",
      "18732/18732 [==============================] - 0s - loss: 0.0083 - mean_squared_error: 0.0083 - acc: 0.4701     \n"
     ]
    },
    {
     "data": {
      "text/plain": [
       "<keras.callbacks.History at 0x7f67037134d0>"
      ]
     },
     "execution_count": 51,
     "metadata": {},
     "output_type": "execute_result"
    }
   ],
   "source": [
    "model.fit([data_pairs[:, 0], data_pairs[:, 1]], labels, batch_size=24, verbose=1, epochs=25)"
   ]
  },
  {
   "cell_type": "code",
   "execution_count": 250,
   "metadata": {},
   "outputs": [
    {
     "data": {
      "text/plain": [
       "0.84655720338983054"
      ]
     },
     "execution_count": 250,
     "metadata": {},
     "output_type": "execute_result"
    }
   ],
   "source": [
    "evaluate(lambda x,y: [model.predict([x[[i]], y]) for i in range(feature_data.shape[0])], 20)"
   ]
  },
  {
   "cell_type": "code",
   "execution_count": null,
   "metadata": {
    "collapsed": true
   },
   "outputs": [],
   "source": []
  },
  {
   "cell_type": "code",
   "execution_count": 68,
   "metadata": {
    "collapsed": true
   },
   "outputs": [],
   "source": [
    "def aggregate_features_sequential(seq_data, track_data, len_segment, m_data, with_year=False, with_popularity=False):\n",
    "    \n",
    "    # sequential data\n",
    "    segments = seq_data[\"segments\"]\n",
    "    sl       = len(segments)\n",
    "    \n",
    "    mfcc              = np.array([s[\"timbre\"]            for s in segments])\n",
    "    chroma            = np.array([s[\"pitches\"]           for s in segments])\n",
    "    loudness_max      = np.array([s[\"loudness_max\"]      for s in segments]).reshape((sl,1))\n",
    "    loudness_start    = np.array([s[\"loudness_start\"]    for s in segments]).reshape((sl,1))\n",
    "    loudness_max_time = np.array([s[\"loudness_max_time\"] for s in segments]).reshape((sl,1))\n",
    "    duration          = np.array([s[\"duration\"]          for s in segments]).reshape((sl,1))\n",
    "    confidence        = np.array([s[\"confidence\"]        for s in segments]).reshape((sl,1))\n",
    "    \n",
    "    # concatenate sequential features\n",
    "    sequential_features = np.concatenate([mfcc, chroma, loudness_max, loudness_start, \n",
    "                                          loudness_max_time, duration, confidence], axis=1)\n",
    "    \n",
    "    offset  = np.random.randint(0, sl - len_segment)\n",
    "    segment = sequential_features[offset:(offset+len_segment),:]\n",
    "        \n",
    "    # track-based data\n",
    "    track_features = [track_data[0][\"acousticness\"],     # acoustic or not?\n",
    "                      track_data[0][\"danceability\"],     # danceable?\n",
    "                      track_data[0][\"energy\"],           # energetic or calm?\n",
    "                      track_data[0][\"instrumentalness\"], # is somebody singing?\n",
    "                      track_data[0][\"liveness\"],         # live or studio?\n",
    "                      track_data[0][\"speechiness\"],      # rap or singing?\n",
    "                      track_data[0][\"tempo\"],            # slow or fast?\n",
    "                      track_data[0][\"time_signature\"],   # 3/4, 4/4, 6/8, etc.\n",
    "                      track_data[0][\"valence\"]]          # happy or sad?\n",
    "    \n",
    "    if with_year:\n",
    "        track_features.append(int(m_data[\"year\"]))\n",
    "        \n",
    "    if with_popularity:\n",
    "        track_features.append(int(m_data[\"popularity\"]))\n",
    "        \n",
    "    \n",
    "    return segment, track_features\n"
   ]
  },
  {
   "cell_type": "code",
   "execution_count": 69,
   "metadata": {},
   "outputs": [
    {
     "name": "stdout",
     "output_type": "stream",
     "text": [
      "sequential_features.shape: (940, 20, 29)\n",
      "trackbased_features.shape: (940, 11)\n"
     ]
    }
   ],
   "source": [
    "len_segment = 20\n",
    "\n",
    "sequential_features = []\n",
    "trackbased_features = []\n",
    "\n",
    "for i, (_, spotify_data) in enumerate(raw_track_data):\n",
    "    \n",
    "    _, _, _, f_sequential, f_trackbased = spotify_data\n",
    "    \n",
    "    seq_feat, track_feat = aggregate_features_sequential(f_sequential, \n",
    "                                                         f_trackbased, \n",
    "                                                         len_segment, \n",
    "                                                         metadata.loc[i],\n",
    "                                                         with_year=True,\n",
    "                                                         with_popularity=True)\n",
    "    \n",
    "    sequential_features.append(seq_feat)\n",
    "    trackbased_features.append(track_feat)\n",
    "    \n",
    "sequential_features = np.asarray(sequential_features)\n",
    "trackbased_features = np.asarray(trackbased_features)\n",
    "\n",
    "print \"sequential_features.shape:\", sequential_features.shape\n",
    "print \"trackbased_features.shape:\", trackbased_features.shape"
   ]
  },
  {
   "cell_type": "code",
   "execution_count": 70,
   "metadata": {
    "collapsed": true
   },
   "outputs": [],
   "source": [
    "# standardize sequential_features\n",
    "rows, x, y = sequential_features.shape\n",
    "sequential_features = sequential_features.reshape(rows, (x * y))\n",
    "sequential_features -= sequential_features.mean(axis=0)\n",
    "sequential_features /= sequential_features.std(axis=0)\n",
    "sequential_features = sequential_features.reshape(rows, x, y)"
   ]
  },
  {
   "cell_type": "code",
   "execution_count": 71,
   "metadata": {
    "collapsed": true
   },
   "outputs": [],
   "source": [
    "# standardize trackbased_features\n",
    "trackbased_features -= trackbased_features.mean(axis=0)\n",
    "trackbased_features /= trackbased_features.std(axis=0)"
   ]
  },
  {
   "cell_type": "code",
   "execution_count": 72,
   "metadata": {
    "collapsed": true
   },
   "outputs": [],
   "source": [
    "def create_pairs_with_sims_and_identity_segments(sequential_features, trackbased_features, metadata, num_pairs_per_track):\n",
    "    \n",
    "    data_pairs_seq   = []\n",
    "    data_pairs_track = []\n",
    "    labels           = []\n",
    "    \n",
    "    for row_id, q_track in metadata.sample(frac=1).iterrows():\n",
    "        \n",
    "        query_segment      = sequential_features[[metadata.loc[row_id].featurespace_index]][0]\n",
    "        query_track_vector = trackbased_features[[metadata.loc[row_id].featurespace_index]][0]\n",
    "        \n",
    "        data_pairs_seq.append([query_segment, query_segment])\n",
    "        data_pairs_track.append([query_track_vector, query_track_vector])\n",
    "        labels.append(1)\n",
    "        \n",
    "        for _ in range(num_pairs_per_track):\n",
    "            \n",
    "            # search similar and dissimilar examples\n",
    "            pos_example = metadata[metadata.playlist == q_track.playlist].sample(1)\n",
    "            neg_example = metadata[metadata.playlist != q_track.playlist].sample(1)\n",
    "\n",
    "            # create feature pairs\n",
    "            data_pairs_seq.append([query_segment, sequential_features[[pos_example.featurespace_index]][0]])\n",
    "            data_pairs_track.append([query_track_vector, trackbased_features[[pos_example.featurespace_index]][0]])\n",
    "            labels.append(np.max([0, sims.loc[row_id, pos_example.index].values[0] - 0.05]))\n",
    "\n",
    "            data_pairs_seq.append([query_segment, sequential_features[[neg_example.featurespace_index]][0]])\n",
    "            data_pairs_track.append([query_track_vector, trackbased_features[[neg_example.featurespace_index]][0]])\n",
    "            labels.append(np.max([0, sims.loc[row_id, neg_example.index].values[0] - 0.05]))\n",
    "\n",
    "    return np.array(data_pairs_seq), np.array(data_pairs_track), np.asarray(labels)"
   ]
  },
  {
   "cell_type": "code",
   "execution_count": 183,
   "metadata": {
    "collapsed": true
   },
   "outputs": [],
   "source": [
    "def create_pairs_with_sims_and_identity_segments(sequential_features, trackbased_features, metadata, num_pairs_per_track):\n",
    "    \n",
    "    data_pairs_seq   = []\n",
    "    data_pairs_track = []\n",
    "    labels           = []\n",
    "    \n",
    "    for row_id, q_track in metadata.sample(frac=1).iterrows():\n",
    "        \n",
    "        query_segment      = sequential_features[[metadata.loc[row_id].featurespace_index]][0]\n",
    "        query_track_vector = trackbased_features[[metadata.loc[row_id].featurespace_index]][0]\n",
    "        \n",
    "        data_pairs_seq.append([query_segment, query_segment])\n",
    "        data_pairs_track.append([query_track_vector, query_track_vector])\n",
    "        labels.append(1)\n",
    "\n",
    "        # search similar and dissimilar examples\n",
    "        pos_example = metadata.loc[sims.loc[row_id].sort_values(ascending=False).index][:num_pairs_per_track]\n",
    "        neg_example = metadata.loc[sims.loc[row_id] == 0].sample(num_pairs_per_track)\n",
    "\n",
    "        for i in range(num_pairs_per_track):\n",
    "\n",
    "            #print row_id,pos_example.iloc[i].name\n",
    "            #print sims.loc[row_id, pos_example.iloc[i].name]\n",
    "            \n",
    "            # create feature pairs\n",
    "            if row_id != pos_example.iloc[i].name:\n",
    "                data_pairs_seq.append([query_segment, sequential_features[[pos_example.iloc[i].featurespace_index]][0]])\n",
    "                data_pairs_track.append([query_track_vector, trackbased_features[[pos_example.iloc[i].featurespace_index]][0]])\n",
    "                labels.append(np.max([0, sims.loc[row_id, pos_example.iloc[i].name] - 0.1]))\n",
    "\n",
    "                data_pairs_seq.append([query_segment, sequential_features[[neg_example.iloc[i].featurespace_index]][0]])\n",
    "                data_pairs_track.append([query_track_vector, trackbased_features[[neg_example.iloc[i].featurespace_index]][0]])\n",
    "                labels.append(np.max([0, sims.loc[row_id, neg_example.iloc[i].name] - 0.1]))\n",
    "\n",
    "    return np.array(data_pairs_seq), np.array(data_pairs_track), np.asarray(labels)"
   ]
  },
  {
   "cell_type": "code",
   "execution_count": 73,
   "metadata": {
    "collapsed": true
   },
   "outputs": [],
   "source": [
    "data_pairs_seq, data_pairs_track, labels = create_pairs_with_sims_and_identity_segments(sequential_features,\n",
    "                                                                                        trackbased_features,\n",
    "                                                                                        metadata_aligned, \n",
    "                                                                                        10)"
   ]
  },
  {
   "cell_type": "code",
   "execution_count": 74,
   "metadata": {
    "collapsed": true
   },
   "outputs": [],
   "source": [
    "from keras.layers.recurrent import LSTM\n",
    "from keras.layers import Bidirectional, Input, Lambda\n",
    "import random\n",
    "from keras.datasets import mnist\n",
    "from keras.models import Sequential, Model\n",
    "from keras.layers import Dense, Dropout, Input, Lambda,Convolution1D\n",
    "from keras.optimizers import RMSprop, Nadam, SGD\n",
    "from keras.regularizers import l2, l1\n",
    "from keras import backend as K\n",
    "#from keras.constraint import unit_norm\n",
    "from keras.layers.merge import concatenate"
   ]
  },
  {
   "cell_type": "code",
   "execution_count": 75,
   "metadata": {
    "collapsed": true
   },
   "outputs": [],
   "source": [
    "input_dim = data_pairs_seq[:, 0].shape[1:]\n",
    "\n",
    "input_a = Input(shape=data_pairs_seq[:, 0].shape[1:])\n",
    "input_b = Input(shape=data_pairs_seq[:, 0].shape[1:])\n",
    "input_a2 = Input(shape=data_pairs_track[:, 0].shape[1:])\n",
    "input_b2 = Input(shape=data_pairs_track[:, 0].shape[1:])\n",
    "\n",
    "bdlstm = Bidirectional(LSTM(29, return_sequences=False, activation=\"selu\"))\n",
    "\n",
    "processed_a = bdlstm(input_a)\n",
    "processed_b = bdlstm(input_b)\n",
    "\n",
    "dens = Dense(9, activation=\"selu\")\n",
    "\n",
    "processed_a2 = dens(input_a2)\n",
    "processed_b2 = dens(input_b2)\n",
    "\n",
    "left = concatenate([processed_a, processed_a2], axis=1)\n",
    "right = concatenate([processed_b, processed_b2], axis=1)\n",
    "\n",
    "L1_distance = lambda x: K.abs(x[0]-x[1])\n",
    "\n",
    "distance = Lambda(L1_distance,\n",
    "                  output_shape=lambda x: x[0])([left, right])\n",
    "\n",
    "prediction = Dense(29 + 9, activation=\"elu\")(distance)\n",
    "#prediction = Dense(64, activation=\"elu\")(prediction)\n",
    "\n",
    "prediction = Dense(1, activation=\"sigmoid\")(prediction)\n",
    "\n",
    "model = Model([input_a, input_b, input_a2, input_b2], prediction)\n",
    "\n",
    "# train\n",
    "rms = Nadam(lr=0.001)\n",
    "model.compile(loss=\"mean_squared_error\", optimizer=rms, metrics=[\"mean_squared_error\", \"accuracy\"])"
   ]
  },
  {
   "cell_type": "code",
   "execution_count": 76,
   "metadata": {},
   "outputs": [
    {
     "name": "stdout",
     "output_type": "stream",
     "text": [
      "Epoch 1/25\n",
      "18732/18732 [==============================] - 18s - loss: 0.0557 - mean_squared_error: 0.0557 - acc: 0.4709    \n",
      "Epoch 2/25\n",
      "18732/18732 [==============================] - 18s - loss: 0.0371 - mean_squared_error: 0.0371 - acc: 0.4776    \n",
      "Epoch 3/25\n",
      "18732/18732 [==============================] - 18s - loss: 0.0342 - mean_squared_error: 0.0342 - acc: 0.4784    \n",
      "Epoch 4/25\n",
      "18732/18732 [==============================] - 18s - loss: 0.0279 - mean_squared_error: 0.0279 - acc: 0.4788    \n",
      "Epoch 5/25\n",
      "18732/18732 [==============================] - 18s - loss: 0.0249 - mean_squared_error: 0.0249 - acc: 0.4791    \n",
      "Epoch 6/25\n",
      "18732/18732 [==============================] - 18s - loss: 0.0227 - mean_squared_error: 0.0227 - acc: 0.4792    \n",
      "Epoch 7/25\n",
      "18732/18732 [==============================] - 18s - loss: 0.0204 - mean_squared_error: 0.0204 - acc: 0.4793    \n",
      "Epoch 8/25\n",
      "18732/18732 [==============================] - 18s - loss: 0.0187 - mean_squared_error: 0.0187 - acc: 0.4792    \n",
      "Epoch 9/25\n",
      "18732/18732 [==============================] - 18s - loss: 0.0174 - mean_squared_error: 0.0174 - acc: 0.4796    \n",
      "Epoch 10/25\n",
      "18732/18732 [==============================] - 20s - loss: 0.0163 - mean_squared_error: 0.0163 - acc: 0.4796    \n",
      "Epoch 11/25\n",
      "18732/18732 [==============================] - 18s - loss: 0.0150 - mean_squared_error: 0.0150 - acc: 0.4796    \n",
      "Epoch 12/25\n",
      "18732/18732 [==============================] - 18s - loss: 0.0140 - mean_squared_error: 0.0140 - acc: 0.4797    \n",
      "Epoch 13/25\n",
      "18732/18732 [==============================] - 18s - loss: 0.0132 - mean_squared_error: 0.0132 - acc: 0.4796    \n",
      "Epoch 14/25\n",
      "18732/18732 [==============================] - 18s - loss: 0.0127 - mean_squared_error: 0.0127 - acc: 0.4797    \n",
      "Epoch 15/25\n",
      "18732/18732 [==============================] - 18s - loss: 0.0124 - mean_squared_error: 0.0124 - acc: 0.4796    \n",
      "Epoch 16/25\n",
      "18732/18732 [==============================] - 18s - loss: 0.0113 - mean_squared_error: 0.0113 - acc: 0.4797    \n",
      "Epoch 17/25\n",
      "18732/18732 [==============================] - 18s - loss: 0.0109 - mean_squared_error: 0.0109 - acc: 0.4797    \n",
      "Epoch 18/25\n",
      "18732/18732 [==============================] - 18s - loss: 0.0102 - mean_squared_error: 0.0102 - acc: 0.4797    \n",
      "Epoch 19/25\n",
      "18732/18732 [==============================] - 18s - loss: 0.0098 - mean_squared_error: 0.0098 - acc: 0.4797    \n",
      "Epoch 20/25\n",
      "18732/18732 [==============================] - 18s - loss: 0.0093 - mean_squared_error: 0.0093 - acc: 0.4797    \n",
      "Epoch 21/25\n",
      "18732/18732 [==============================] - 18s - loss: 0.0091 - mean_squared_error: 0.0091 - acc: 0.4797    \n",
      "Epoch 22/25\n",
      "18732/18732 [==============================] - 18s - loss: 0.0085 - mean_squared_error: 0.0085 - acc: 0.4797    \n",
      "Epoch 23/25\n",
      "18732/18732 [==============================] - 18s - loss: 0.0085 - mean_squared_error: 0.0085 - acc: 0.4797    \n",
      "Epoch 24/25\n",
      "18732/18732 [==============================] - 18s - loss: 0.0082 - mean_squared_error: 0.0082 - acc: 0.4797    \n",
      "Epoch 25/25\n",
      "18732/18732 [==============================] - 18s - loss: 0.0077 - mean_squared_error: 0.0077 - acc: 0.4797    \n"
     ]
    },
    {
     "data": {
      "text/plain": [
       "<keras.callbacks.History at 0x7f540e58cc90>"
      ]
     },
     "execution_count": 76,
     "metadata": {},
     "output_type": "execute_result"
    }
   ],
   "source": [
    "model.fit([data_pairs_seq[:, 0], data_pairs_seq[:, 1], data_pairs_track[:,0], data_pairs_track[:,1]], labels, batch_size=24, verbose=1, epochs=25)"
   ]
  },
  {
   "cell_type": "code",
   "execution_count": 77,
   "metadata": {
    "collapsed": true
   },
   "outputs": [],
   "source": [
    "def similar(query_idx):\n",
    "    res = [model.predict([sequential_features[[query_idx]], sequential_features[[i]], trackbased_features[[query_idx]], trackbased_features[[i]]]) for i in range(feature_data.shape[0])]\n",
    "\n",
    "    res = np.array(res)\n",
    "    res = res.reshape(res.shape[0])\n",
    "\n",
    "    si = np.argsort(res)[::-1]\n",
    "\n",
    "    display_cols = [\"artist_name\", \"title\", \"album_name\", \"year\", \"playlist\"]\n",
    "    \n",
    "    print metadata.iloc[query_idx]\n",
    "\n",
    "    return metadata.loc[si, display_cols][:10]"
   ]
  },
  {
   "cell_type": "code",
   "execution_count": 78,
   "metadata": {},
   "outputs": [
    {
     "name": "stdout",
     "output_type": "stream",
     "text": [
      "track_id                                         7o2CTH4ctstm8TNelqjb51\n",
      "artist_name                                               Guns N' Roses\n",
      "title                                               Sweet Child O' Mine\n",
      "album_name                                     Appetite For Destruction\n",
      "label                          Digital Distribution Trinidad and Tobago\n",
      "duration                                                         356080\n",
      "popularity                                                           80\n",
      "year                                                               1987\n",
      "genres                [album rock, alternative rock, classic rock, g...\n",
      "playlist                                                   rockclassics\n",
      "featurespace_index                                                  330\n",
      "Name: 330, dtype: object\n"
     ]
    },
    {
     "data": {
      "text/html": [
       "<div>\n",
       "<style>\n",
       "    .dataframe thead tr:only-child th {\n",
       "        text-align: right;\n",
       "    }\n",
       "\n",
       "    .dataframe thead th {\n",
       "        text-align: left;\n",
       "    }\n",
       "\n",
       "    .dataframe tbody tr th {\n",
       "        vertical-align: top;\n",
       "    }\n",
       "</style>\n",
       "<table border=\"1\" class=\"dataframe\">\n",
       "  <thead>\n",
       "    <tr style=\"text-align: right;\">\n",
       "      <th></th>\n",
       "      <th>artist_name</th>\n",
       "      <th>title</th>\n",
       "      <th>album_name</th>\n",
       "      <th>year</th>\n",
       "      <th>playlist</th>\n",
       "    </tr>\n",
       "  </thead>\n",
       "  <tbody>\n",
       "    <tr>\n",
       "      <th>330</th>\n",
       "      <td>Guns N' Roses</td>\n",
       "      <td>Sweet Child O' Mine</td>\n",
       "      <td>Appetite For Destruction</td>\n",
       "      <td>1987</td>\n",
       "      <td>rockclassics</td>\n",
       "    </tr>\n",
       "    <tr>\n",
       "      <th>387</th>\n",
       "      <td>Guns N' Roses</td>\n",
       "      <td>Paradise City</td>\n",
       "      <td>Appetite For Destruction</td>\n",
       "      <td>1987</td>\n",
       "      <td>rockclassics</td>\n",
       "    </tr>\n",
       "    <tr>\n",
       "      <th>333</th>\n",
       "      <td>Rush</td>\n",
       "      <td>Tom Sawyer</td>\n",
       "      <td>Moving Pictures (2011 Remaster)</td>\n",
       "      <td>1981</td>\n",
       "      <td>rockclassics</td>\n",
       "    </tr>\n",
       "    <tr>\n",
       "      <th>354</th>\n",
       "      <td>Boston</td>\n",
       "      <td>Foreplay / Long Time</td>\n",
       "      <td>Boston</td>\n",
       "      <td>1976</td>\n",
       "      <td>rockclassics</td>\n",
       "    </tr>\n",
       "    <tr>\n",
       "      <th>749</th>\n",
       "      <td>Temple Of The Dog</td>\n",
       "      <td>Hunger Strike - 25th Anniversary Mix</td>\n",
       "      <td>Hunger Strike (25th Anniversary Mix)</td>\n",
       "      <td>2016</td>\n",
       "      <td>grunge</td>\n",
       "    </tr>\n",
       "    <tr>\n",
       "      <th>756</th>\n",
       "      <td>The Presidents Of The United States Of America</td>\n",
       "      <td>Lump</td>\n",
       "      <td>The Presidents of The United States of America...</td>\n",
       "      <td>1995</td>\n",
       "      <td>grunge</td>\n",
       "    </tr>\n",
       "    <tr>\n",
       "      <th>492</th>\n",
       "      <td>Don Henley</td>\n",
       "      <td>The End Of The Innocence</td>\n",
       "      <td>The Very Best Of</td>\n",
       "      <td>2009</td>\n",
       "      <td>soft_rock</td>\n",
       "    </tr>\n",
       "    <tr>\n",
       "      <th>301</th>\n",
       "      <td>Black Sabbath</td>\n",
       "      <td>Paranoid</td>\n",
       "      <td>Greatest Hits</td>\n",
       "      <td>2014</td>\n",
       "      <td>rockclassics</td>\n",
       "    </tr>\n",
       "    <tr>\n",
       "      <th>762</th>\n",
       "      <td>Stone Temple Pilots</td>\n",
       "      <td>Plush</td>\n",
       "      <td>Core</td>\n",
       "      <td>1992</td>\n",
       "      <td>grunge</td>\n",
       "    </tr>\n",
       "    <tr>\n",
       "      <th>551</th>\n",
       "      <td>Nazareth</td>\n",
       "      <td>Love Hurts</td>\n",
       "      <td>Hair Of The Dog</td>\n",
       "      <td>2010</td>\n",
       "      <td>soft_rock</td>\n",
       "    </tr>\n",
       "  </tbody>\n",
       "</table>\n",
       "</div>"
      ],
      "text/plain": [
       "                                        artist_name  \\\n",
       "330                                   Guns N' Roses   \n",
       "387                                   Guns N' Roses   \n",
       "333                                            Rush   \n",
       "354                                          Boston   \n",
       "749                               Temple Of The Dog   \n",
       "756  The Presidents Of The United States Of America   \n",
       "492                                      Don Henley   \n",
       "301                                   Black Sabbath   \n",
       "762                             Stone Temple Pilots   \n",
       "551                                        Nazareth   \n",
       "\n",
       "                                    title  \\\n",
       "330                   Sweet Child O' Mine   \n",
       "387                         Paradise City   \n",
       "333                            Tom Sawyer   \n",
       "354                  Foreplay / Long Time   \n",
       "749  Hunger Strike - 25th Anniversary Mix   \n",
       "756                                  Lump   \n",
       "492              The End Of The Innocence   \n",
       "301                              Paranoid   \n",
       "762                                 Plush   \n",
       "551                            Love Hurts   \n",
       "\n",
       "                                            album_name  year      playlist  \n",
       "330                           Appetite For Destruction  1987  rockclassics  \n",
       "387                           Appetite For Destruction  1987  rockclassics  \n",
       "333                    Moving Pictures (2011 Remaster)  1981  rockclassics  \n",
       "354                                             Boston  1976  rockclassics  \n",
       "749               Hunger Strike (25th Anniversary Mix)  2016        grunge  \n",
       "756  The Presidents of The United States of America...  1995        grunge  \n",
       "492                                   The Very Best Of  2009     soft_rock  \n",
       "301                                      Greatest Hits  2014  rockclassics  \n",
       "762                                               Core  1992        grunge  \n",
       "551                                    Hair Of The Dog  2010     soft_rock  "
      ]
     },
     "execution_count": 78,
     "metadata": {},
     "output_type": "execute_result"
    }
   ],
   "source": [
    "similar(330)"
   ]
  },
  {
   "cell_type": "code",
   "execution_count": 314,
   "metadata": {
    "collapsed": true
   },
   "outputs": [],
   "source": [
    "def evaluate(similarity_function, cut_off):\n",
    "\n",
    "    all_precisions = []\n",
    "    \n",
    "    pbar = progressbar.ProgressBar()\n",
    "\n",
    "    for idx in pbar(metadata.index.values):\n",
    "\n",
    "        dist           = similarity_function(sequential_features, sequential_features[[idx]], trackbased_features, trackbased_features[[idx]])\n",
    "        dist           = np.array(dist).reshape(len(dist))\n",
    "        similar_tracks = metadata.loc[np.argsort(dist)[::-1][:cut_off]]\n",
    "        same_label     = similar_tracks[\"playlist\"] == metadata.loc[idx, \"playlist\"]\n",
    "        precision      = same_label.sum() / float(cut_off)\n",
    "        all_precisions.append(precision)\n",
    "\n",
    "    all_precisions = np.array(all_precisions)\n",
    "\n",
    "    return all_precisions.mean()"
   ]
  },
  {
   "cell_type": "code",
   "execution_count": 315,
   "metadata": {},
   "outputs": [
    {
     "name": "stderr",
     "output_type": "stream",
     "text": [
      "100% (944 of 944) |#####################################################################################################################################################################################| Elapsed Time: 1:20:00 Time: 1:20:00\n"
     ]
    },
    {
     "data": {
      "text/plain": [
       "0.85317796610169494"
      ]
     },
     "execution_count": 315,
     "metadata": {},
     "output_type": "execute_result"
    }
   ],
   "source": [
    "evaluate(lambda w,x,y,z: [model.predict([w[[i]],x,y[[i]],z]) for i in range(sequential_features.shape[0])], 20)"
   ]
  }
 ],
 "metadata": {
  "kernelspec": {
   "display_name": "Python 2",
   "language": "python",
   "name": "python2"
  },
  "language_info": {
   "codemirror_mode": {
    "name": "ipython",
    "version": 2
   },
   "file_extension": ".py",
   "mimetype": "text/x-python",
   "name": "python",
   "nbconvert_exporter": "python",
   "pygments_lexer": "ipython2",
   "version": "2.7.12"
  },
  "notify_time": "5",
  "toc": {
   "toc_cell": false,
   "toc_number_sections": true,
   "toc_threshold": 6,
   "toc_window_display": false
  }
 },
 "nbformat": 4,
 "nbformat_minor": 1
}
