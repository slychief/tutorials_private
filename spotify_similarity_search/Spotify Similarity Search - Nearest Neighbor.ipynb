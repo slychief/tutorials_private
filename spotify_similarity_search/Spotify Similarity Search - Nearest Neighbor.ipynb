{
 "cells": [
  {
   "cell_type": "markdown",
   "metadata": {},
   "source": [
    "<h1><center>Finding Similar Songs on Spotify<br><br>Part 1: Nearest Neighbor Search</center></h1>\n",
    "\n",
    "The first part of this tutorial series demonstrates the traditional way of extracting features from the audio content, training a classifier and predicting results. Because we do not have access to the raw audio content, we cannot extract features ourselves. Fortunately, Spotify is so generious to provide extracted features via their API. Those are just low-level audio features, but they are more than any other streaming music service provide - so Kudos to Spotify for this API! \n",
    "\n",
    "\n",
    "## Part 1 - Overview\n",
    "\n",
    "1. Accessing the Spotify API\n",
    "2. Loading data\n",
    "3. Preprocess data\n",
    "4. Define the Similarity Model\n",
    "4. Optimize the Model\n",
    "5. Evaluate the Models\n",
    "\n"
   ]
  },
  {
   "cell_type": "markdown",
   "metadata": {},
   "source": [
    "## Requiremnts\n",
    "\n",
    "Install the following dependencies to run this tutorial:"
   ]
  },
  {
   "cell_type": "code",
   "execution_count": 710,
   "metadata": {
    "ExecuteTime": {
     "end_time": "2017-08-24T10:20:32.488000Z",
     "start_time": "2017-08-24T10:20:32.483000Z"
    },
    "collapsed": true
   },
   "outputs": [],
   "source": [
    "# visualization\n",
    "%matplotlib inline\n",
    "import matplotlib\n",
    "import matplotlib.pyplot as plt\n",
    "matplotlib.style.use('ggplot')\n",
    "\n",
    "# numeric and scientific processing\n",
    "import numpy as np\n",
    "import pandas as pd\n",
    "\n",
    "# misc\n",
    "import os\n",
    "import progressbar"
   ]
  },
  {
   "cell_type": "markdown",
   "metadata": {},
   "source": [
    "**Spotipy**\n",
    "\n",
    "Spotipy is a thin client library for the Spotify Web API.\n",
    "\n",
    "https://github.com/plamere/spotipy"
   ]
  },
  {
   "cell_type": "code",
   "execution_count": 711,
   "metadata": {
    "collapsed": true
   },
   "outputs": [],
   "source": [
    "import spotipy\n",
    "import spotipy.util as util"
   ]
  },
  {
   "cell_type": "markdown",
   "metadata": {},
   "source": [
    "TODO: describe how to get client credentials"
   ]
  },
  {
   "cell_type": "code",
   "execution_count": 712,
   "metadata": {
    "ExecuteTime": {
     "end_time": "2017-08-24T10:20:33.260000Z",
     "start_time": "2017-08-24T10:20:33.256000Z"
    },
    "collapsed": true
   },
   "outputs": [],
   "source": [
    "os.environ[\"SPOTIPY_CLIENT_ID\"]     = \"8a7fffc37b6c44e6b7bc344c3295034c\"\n",
    "os.environ[\"SPOTIPY_CLIENT_SECRET\"] = \"f19dd914ba58408c9407dd6479b23812\""
   ]
  },
  {
   "cell_type": "markdown",
   "metadata": {},
   "source": [
    "If you get the following message:\n",
    "\n",
    "    User authentication requires interaction with your\n",
    "    web browser. Once you enter your credentials and\n",
    "    give authorization, you will be redirected to\n",
    "    a url.  Paste that url you were directed to to\n",
    "    complete the authorization.\n",
    "\n",
    "    Opened https://accounts.spotify.com/authorize?scope=playlist-modify-public&redirect_uri=ht...\n",
    "    \n",
    "\n",
    "You need to authenticate your browser session. Follow the link and log in to Spotify. After login, you will be redirected to http://localhost/?code=... Copy the entire URL and paste it to the prompted textbox."
   ]
  },
  {
   "cell_type": "code",
   "execution_count": 713,
   "metadata": {
    "ExecuteTime": {
     "end_time": "2017-08-24T10:20:54.045000Z",
     "start_time": "2017-08-24T10:20:34.076000Z"
    },
    "collapsed": true
   },
   "outputs": [],
   "source": [
    "token = util.prompt_for_user_token(\"slychief\", \n",
    "                                   \"playlist-modify-public\", \n",
    "                                   redirect_uri=\"http://localhost/\")\n",
    "\n",
    "sp = spotipy.Spotify(auth=token)"
   ]
  },
  {
   "cell_type": "markdown",
   "metadata": {},
   "source": [
    "# Loading Data\n",
    "\n",
    "Before we can train our models we first have to get some data.\n",
    "\n",
    "## Download Echonest Features from Spotify\n",
    "\n",
    "We use spotipy to access the Spotify API and to download metadata and audio features of Spotify tracks. The following list provides a selection of Spotify playlists of various music genres."
   ]
  },
  {
   "cell_type": "code",
   "execution_count": 714,
   "metadata": {
    "collapsed": true
   },
   "outputs": [],
   "source": [
    "playlists = [\n",
    "    \n",
    "     {\"name\": \"clubbeats\",    \"uri\": \"spotify:user:spotify:playlist:37i9dQZF1DXbX3zSzB4MO0\"},\n",
    "     {\"name\": \"softpop\",      \"uri\": \"spotify:user:spotify:playlist:37i9dQZF1DWTwnEm1IYyoj\"},\n",
    "     {\"name\": \"electropop\",   \"uri\": \"spotify:user:spotify:playlist:37i9dQZF1DX4uPi2roRUwU\"},\n",
    "     {\"name\": \"rockclassics\", \"uri\": \"spotify:user:spotify:playlist:37i9dQZF1DWXRqgorJj26U\"},\n",
    "     {\"name\": \"rockhymns\",    \"uri\": \"spotify:user:spotify:playlist:37i9dQZF1DX4vth7idTQch\"},\n",
    "     {\"name\": \"soft_rock\",    \"uri\": \"spotify:user:spotify:playlist:37i9dQZF1DX6xOPeSOGone\"},\n",
    "     {\"name\": \"metalcore\",    \"uri\": \"spotify:user:spotify:playlist:37i9dQZF1DWXIcbzpLauPS\"}, \n",
    "     {\"name\": \"metal\",        \"uri\": \"spotify:user:spotify:playlist:37i9dQZF1DWWOaP4H0w5b0\"},\n",
    "     {\"name\": \"classic_metal\",\"uri\": \"spotify:user:spotify:playlist:37i9dQZF1DX2LTcinqsO68\"},\n",
    "     {\"name\": \"grunge\",       \"uri\": \"spotify:user:spotify:playlist:37i9dQZF1DX11ghcIxjcjE\"},\n",
    "     {\"name\": \"hiphop\",       \"uri\": \"spotify:user:spotify:playlist:37i9dQZF1DWVdgXTbYm2r0\"},\n",
    "     {\"name\": \"poppunk\",      \"uri\": \"spotify:user:spotify:playlist:37i9dQZF1DXa9wYJr1oMFq\"},\n",
    "     {\"name\": \"classic\",      \"uri\": \"spotify:user:spotify:playlist:37i9dQZF1DXcN1fAVSf7CR\"}\n",
    "    \n",
    "]"
   ]
  },
  {
   "cell_type": "markdown",
   "metadata": {},
   "source": [
    "### Get Playlist meta-data\n",
    "\n",
    "Insted of writing one big loop to download the data, I decided to split it into separate more comprehensible steps.\n",
    "\n",
    "The Spotify API does not return infinite elements, but requires batch processing. The largest batch size is 100 items such as tracks, artists or albums. As a first step we get relevant meta-data for the supplied playlists. Especially the *num_track* property is conveniant for the further processing."
   ]
  },
  {
   "cell_type": "code",
   "execution_count": 715,
   "metadata": {
    "collapsed": true
   },
   "outputs": [],
   "source": [
    "def get_playlist_metadata(spotify_client, playlists):\n",
    "\n",
    "    for playlist in playlists:\n",
    "\n",
    "        # get user and playlist_id from uri\n",
    "        (_,_,user,_,playlist_id) = playlist[\"uri\"].split(\":\")\n",
    "\n",
    "        # retrieve playlist metadat from Spotify\n",
    "        playlist_metadata = spotify_client.user_playlist(user        = user,\n",
    "                                                         playlist_id = playlist_id)\n",
    "\n",
    "        # extract relevant information\n",
    "        playlist[\"user\"]        = user\n",
    "        playlist[\"playlist_id\"] = playlist_id\n",
    "        playlist[\"num_tracks\"]  = playlist_metadata[\"tracks\"][\"total\"]\n",
    "\n",
    "        # initialize fields for further processing\n",
    "        playlist[\"track_ids\"]   = []\n",
    "        \n",
    "    return playlists"
   ]
  },
  {
   "cell_type": "code",
   "execution_count": 716,
   "metadata": {
    "collapsed": true
   },
   "outputs": [],
   "source": [
    "playlists = get_playlist_metadata(sp, playlists)"
   ]
  },
  {
   "cell_type": "markdown",
   "metadata": {},
   "source": [
    "**Size of our dataset**\n",
    "\n",
    "Now we can already estimate the approximate size of our data-set. The set might contain duplicate tracks from overlapping playlists. Those are removed later on."
   ]
  },
  {
   "cell_type": "code",
   "execution_count": 717,
   "metadata": {},
   "outputs": [
    {
     "data": {
      "text/plain": [
       "970"
      ]
     },
     "execution_count": 717,
     "metadata": {},
     "output_type": "execute_result"
    }
   ],
   "source": [
    "num_tracks_total = np.sum([playlist[\"num_tracks\"] for playlist in playlists])\n",
    "num_tracks_total"
   ]
  },
  {
   "cell_type": "markdown",
   "metadata": {},
   "source": [
    "### Get track-ids of all playlist entries\n",
    "\n",
    "To download meta- and feature-data for tracks, we need to fetch the playlist entries."
   ]
  },
  {
   "cell_type": "code",
   "execution_count": 718,
   "metadata": {
    "collapsed": true
   },
   "outputs": [],
   "source": [
    "def get_track_ids(sp, playlists):\n",
    "\n",
    "    # max Spotify batch size\n",
    "    batch_size = 100\n",
    "\n",
    "    # retrieve tracks for each playlist\n",
    "    for playlist in playlists:\n",
    "\n",
    "        # batch processing\n",
    "        for offset in np.arange(0, playlist[\"num_tracks\"], batch_size):\n",
    "\n",
    "            limit = np.min([batch_size, playlist[\"num_tracks\"] - offset])\n",
    "\n",
    "            playlist_entries = sp.user_playlist_tracks(user        = playlist[\"user\"],\n",
    "                                                       playlist_id = playlist[\"playlist_id\"], \n",
    "                                                       limit       = limit, \n",
    "                                                       offset      = offset,\n",
    "                                                       fields      = [\"items\"])\n",
    "\n",
    "            playlist[\"track_ids\"].extend([entry[\"track\"][\"id\"] for entry in playlist_entries[\"items\"]])\n",
    "            \n",
    "    return playlists"
   ]
  },
  {
   "cell_type": "code",
   "execution_count": 719,
   "metadata": {
    "collapsed": true
   },
   "outputs": [],
   "source": [
    "playlists = get_track_ids(sp, playlists)"
   ]
  },
  {
   "cell_type": "markdown",
   "metadata": {},
   "source": [
    "### Fetch data and features from Spotify\n",
    "\n",
    "Now it's time to download the dat for our tracks"
   ]
  },
  {
   "cell_type": "markdown",
   "metadata": {},
   "source": [
    "#### Caching with joblib\n",
    "\n",
    "We will use caching to locally store retrieved data. This is on the one hand a requirement of the API and on the other it speeds up processing when we reload the notebook. *joblib* is a convenient library which simplifies caching.\n",
    "\n",
    "*Update the cachdir to an appropriate path in the following cell*"
   ]
  },
  {
   "cell_type": "code",
   "execution_count": 82,
   "metadata": {
    "ExecuteTime": {
     "end_time": "2017-08-24T10:20:32.875000Z",
     "start_time": "2017-08-24T10:20:32.870000Z"
    },
    "collapsed": true
   },
   "outputs": [],
   "source": [
    "from joblib import Memory\n",
    "\n",
    "memory = Memory(cachedir='/home/schindler/tmp/spotify/', verbose=0)"
   ]
  },
  {
   "cell_type": "markdown",
   "metadata": {},
   "source": [
    "The following method retrieves meta-data, sequential features such as *MFCCs* and *Chroma*, and track-level features such as *Dancability*. The *@memory.cache* annotation tells *joblib* to persist all return values for the supplied parameters."
   ]
  },
  {
   "cell_type": "code",
   "execution_count": 83,
   "metadata": {
    "collapsed": true
   },
   "outputs": [],
   "source": [
    "@memory.cache\n",
    "def get_spotify_data(track_id):\n",
    "    \n",
    "    # meta-data\n",
    "    track_metadata      = sp.track(track_id)\n",
    "    album_metadata      = sp.album(track_metadata[\"album\"][\"id\"])\n",
    "    artist_metadata     = sp.artist(track_metadata[\"artists\"][0][\"id\"])\n",
    "    \n",
    "    # feature-data\n",
    "    sequential_features = sp.audio_analysis(track_id)\n",
    "    trackbased_features = sp.audio_features([track_id])\n",
    "    \n",
    "    return track_metadata, album_metadata, artist_metadata, sequential_features, trackbased_features"
   ]
  },
  {
   "cell_type": "markdown",
   "metadata": {},
   "source": [
    "**Retrieving data for all tracks**\n",
    "\n",
    "The following loop downloads meta- and feature-data for all tracks. The *processed_track_ids* list is used to avoid duplicated entries. Be aware that downloading a lot of tracks could take some time. Processing 1.000 tracks may take about 15 to 30 minutes."
   ]
  },
  {
   "cell_type": "code",
   "execution_count": 720,
   "metadata": {
    "collapsed": true
   },
   "outputs": [],
   "source": [
    "def download_track_data(sp, playlists):\n",
    "\n",
    "    pbar = progressbar.ProgressBar(max_value=num_tracks_total)\n",
    "    pbar.start()\n",
    "\n",
    "    raw_track_data      = []\n",
    "    processed_track_ids = []\n",
    "\n",
    "    for playlist in playlists:\n",
    "\n",
    "        for track_id in playlist[\"track_ids\"]:\n",
    "\n",
    "            try:\n",
    "                # avoid duplicates in the data-set\n",
    "                if track_id not in processed_track_ids:\n",
    "\n",
    "                    # retrieve data from Spotify\n",
    "                    spotify_data = get_spotify_data(track_id)\n",
    "\n",
    "                    raw_track_data.append([playlist[\"name\"], spotify_data])\n",
    "                    processed_track_ids.append(track_id)\n",
    "\n",
    "            except Exception as e:\n",
    "                print e\n",
    "\n",
    "            pbar.update(len(raw_track_data))\n",
    "            \n",
    "    return raw_track_data"
   ]
  },
  {
   "cell_type": "code",
   "execution_count": 721,
   "metadata": {},
   "outputs": [
    {
     "name": "stderr",
     "output_type": "stream",
     "text": [
      " 62% (606 of 970) |#################################################################################################################                                                                     | Elapsed Time: 0:00:25 ETA: 0:00:20"
     ]
    },
    {
     "name": "stdout",
     "output_type": "stream",
     "text": [
      "Unterminated string starting at: line 1 column 65530 (char 65529)\n"
     ]
    },
    {
     "name": "stderr",
     "output_type": "stream",
     "text": [
      " 97% (942 of 970) |################################################################################################################################################################################      | Elapsed Time: 0:00:40 ETA: 0:00:01"
     ]
    }
   ],
   "source": [
    "raw_track_data = download_track_data(sp, playlists)"
   ]
  },
  {
   "cell_type": "markdown",
   "metadata": {},
   "source": [
    "# Aggregate data\n",
    "\n",
    "Currently we only have a list of raw data-objects retrieved from the Spotify API. We need to transform this information to a more structured format."
   ]
  },
  {
   "cell_type": "markdown",
   "metadata": {},
   "source": [
    "## Aggregate Meta-data\n",
    "\n",
    "First we aggregate the meta-data. All relevant information is stored in a dataframe."
   ]
  },
  {
   "cell_type": "code",
   "execution_count": 722,
   "metadata": {
    "collapsed": true
   },
   "outputs": [],
   "source": [
    "def aggregate_metadata(raw_track_data):\n",
    "\n",
    "    metadata = []\n",
    "\n",
    "    for playlist_name, spotify_data in raw_track_data:\n",
    "\n",
    "        track_metadata, album_metadata, artist_metadata, _, _ = spotify_data\n",
    "\n",
    "        # get year of album release\n",
    "        release_date = album_metadata[\"release_date\"]\n",
    "\n",
    "        if album_metadata[\"release_date_precision\"] != \"year\":\n",
    "            release_date = release_date.split(\"-\")[0]\n",
    "\n",
    "        # assamble metadata\n",
    "        metadata.append([track_metadata[\"id\"],\n",
    "                         artist_metadata[\"name\"], \n",
    "                         track_metadata[\"name\"], \n",
    "                         album_metadata[\"name\"],\n",
    "                         album_metadata[\"label\"],\n",
    "                         track_metadata[\"duration_ms\"],\n",
    "                         track_metadata[\"popularity\"],\n",
    "                         release_date,\n",
    "                         artist_metadata[\"genres\"], \n",
    "                         playlist_name])\n",
    "\n",
    "    metadata = pd.DataFrame(metadata, columns=[\"track_id\", \"artist_name\", \"title\", \"album_name\", \"label\", \n",
    "                                               \"duration\", \"popularity\",  \"year\",  \"genres\", \"playlist\"])\n",
    "    \n",
    "    return metadata"
   ]
  },
  {
   "cell_type": "code",
   "execution_count": 723,
   "metadata": {
    "collapsed": true
   },
   "outputs": [],
   "source": [
    "metadata = aggregate_metadata(raw_track_data)"
   ]
  },
  {
   "cell_type": "markdown",
   "metadata": {},
   "source": [
    "Here an example of the aggregated meta-data:"
   ]
  },
  {
   "cell_type": "code",
   "execution_count": 724,
   "metadata": {},
   "outputs": [
    {
     "data": {
      "text/html": [
       "<div>\n",
       "<style>\n",
       "    .dataframe thead tr:only-child th {\n",
       "        text-align: right;\n",
       "    }\n",
       "\n",
       "    .dataframe thead th {\n",
       "        text-align: left;\n",
       "    }\n",
       "\n",
       "    .dataframe tbody tr th {\n",
       "        vertical-align: top;\n",
       "    }\n",
       "</style>\n",
       "<table border=\"1\" class=\"dataframe\">\n",
       "  <thead>\n",
       "    <tr style=\"text-align: right;\">\n",
       "      <th></th>\n",
       "      <th>track_id</th>\n",
       "      <th>artist_name</th>\n",
       "      <th>title</th>\n",
       "      <th>album_name</th>\n",
       "      <th>label</th>\n",
       "      <th>duration</th>\n",
       "      <th>popularity</th>\n",
       "      <th>year</th>\n",
       "      <th>genres</th>\n",
       "      <th>playlist</th>\n",
       "    </tr>\n",
       "  </thead>\n",
       "  <tbody>\n",
       "    <tr>\n",
       "      <th>800</th>\n",
       "      <td>2eMwDehkIC1j68U6FA3Eiq</td>\n",
       "      <td>Lil Uzi Vert</td>\n",
       "      <td>XO TOUR Llif3</td>\n",
       "      <td>XO TOUR Llif3</td>\n",
       "      <td>Generation Now/Atlantic</td>\n",
       "      <td>182706</td>\n",
       "      <td>96</td>\n",
       "      <td>2017</td>\n",
       "      <td>[dwn trap, rap]</td>\n",
       "      <td>hiphop</td>\n",
       "    </tr>\n",
       "    <tr>\n",
       "      <th>805</th>\n",
       "      <td>5eqK0tbzUPo2SoeZsov04s</td>\n",
       "      <td>21 Savage</td>\n",
       "      <td>Bank Account</td>\n",
       "      <td>Issa Album</td>\n",
       "      <td>Slaughter Gang, LLC/Epic Records</td>\n",
       "      <td>220306</td>\n",
       "      <td>96</td>\n",
       "      <td>2017</td>\n",
       "      <td>[dwn trap, rap, trap music]</td>\n",
       "      <td>hiphop</td>\n",
       "    </tr>\n",
       "    <tr>\n",
       "      <th>100</th>\n",
       "      <td>7qiZfU4dY1lWllzX7mPBI3</td>\n",
       "      <td>Ed Sheeran</td>\n",
       "      <td>Shape of You</td>\n",
       "      <td>÷ (Deluxe)</td>\n",
       "      <td>Atlantic Records UK</td>\n",
       "      <td>233712</td>\n",
       "      <td>96</td>\n",
       "      <td>2017</td>\n",
       "      <td>[pop]</td>\n",
       "      <td>softpop</td>\n",
       "    </tr>\n",
       "    <tr>\n",
       "      <th>96</th>\n",
       "      <td>1wjzFQodRWrPcQ0AnYnvQ9</td>\n",
       "      <td>Lauv</td>\n",
       "      <td>I Like Me Better</td>\n",
       "      <td>I Like Me Better</td>\n",
       "      <td>Lauv</td>\n",
       "      <td>197436</td>\n",
       "      <td>96</td>\n",
       "      <td>2017</td>\n",
       "      <td>[indie poptimism, pop, post-teen pop, tropical...</td>\n",
       "      <td>softpop</td>\n",
       "    </tr>\n",
       "    <tr>\n",
       "      <th>248</th>\n",
       "      <td>4q8PHoRsPUB52LFylX8Ulz</td>\n",
       "      <td>Axwell /\\ Ingrosso</td>\n",
       "      <td>More Than You Know</td>\n",
       "      <td>More Than You Know</td>\n",
       "      <td>Digital Distribution Trinidad and Tobago</td>\n",
       "      <td>203000</td>\n",
       "      <td>96</td>\n",
       "      <td>2017</td>\n",
       "      <td>[big room, edm, electro house, pop, tropical h...</td>\n",
       "      <td>electropop</td>\n",
       "    </tr>\n",
       "  </tbody>\n",
       "</table>\n",
       "</div>"
      ],
      "text/plain": [
       "                   track_id         artist_name               title  \\\n",
       "800  2eMwDehkIC1j68U6FA3Eiq        Lil Uzi Vert       XO TOUR Llif3   \n",
       "805  5eqK0tbzUPo2SoeZsov04s           21 Savage        Bank Account   \n",
       "100  7qiZfU4dY1lWllzX7mPBI3          Ed Sheeran        Shape of You   \n",
       "96   1wjzFQodRWrPcQ0AnYnvQ9                Lauv    I Like Me Better   \n",
       "248  4q8PHoRsPUB52LFylX8Ulz  Axwell /\\ Ingrosso  More Than You Know   \n",
       "\n",
       "             album_name                                     label  duration  \\\n",
       "800       XO TOUR Llif3                   Generation Now/Atlantic    182706   \n",
       "805          Issa Album          Slaughter Gang, LLC/Epic Records    220306   \n",
       "100          ÷ (Deluxe)                       Atlantic Records UK    233712   \n",
       "96     I Like Me Better                                      Lauv    197436   \n",
       "248  More Than You Know  Digital Distribution Trinidad and Tobago    203000   \n",
       "\n",
       "     popularity  year                                             genres  \\\n",
       "800          96  2017                                    [dwn trap, rap]   \n",
       "805          96  2017                        [dwn trap, rap, trap music]   \n",
       "100          96  2017                                              [pop]   \n",
       "96           96  2017  [indie poptimism, pop, post-teen pop, tropical...   \n",
       "248          96  2017  [big room, edm, electro house, pop, tropical h...   \n",
       "\n",
       "       playlist  \n",
       "800      hiphop  \n",
       "805      hiphop  \n",
       "100     softpop  \n",
       "96      softpop  \n",
       "248  electropop  "
      ]
     },
     "execution_count": 724,
     "metadata": {},
     "output_type": "execute_result"
    }
   ],
   "source": [
    "metadata.sort_values(\"popularity\", ascending=False).head()"
   ]
  },
  {
   "cell_type": "markdown",
   "metadata": {},
   "source": [
    "## Aggregate Features\n",
    "\n"
   ]
  },
  {
   "cell_type": "code",
   "execution_count": 694,
   "metadata": {
    "ExecuteTime": {
     "end_time": "2017-08-24T12:58:50.844000Z",
     "start_time": "2017-08-24T12:58:50.830000Z"
    },
    "collapsed": true
   },
   "outputs": [],
   "source": [
    "def aggregate_features(seq_data, track_data, metadata, with_year=False, with_popularity=False):\n",
    "\n",
    "    calc_statistical_moments = lambda x: np.concatenate([x.mean(axis=0), x.std(axis=0)])\n",
    "    \n",
    "    # sequential data\n",
    "    segments = seq_data[\"segments\"]\n",
    "    sl       = len(segments)\n",
    "    \n",
    "    # MFCCs - 24 dimensions\n",
    "    mfcc              = np.array([s[\"timbre\"] for s in segments])\n",
    "    mfcc              = calc_statistical_moments(mfcc)\n",
    "    \n",
    "    # Chroma / pitch classes - 24 dimensions\n",
    "    chroma            = np.array([s[\"pitches\"] for s in segments])\n",
    "    chroma            = calc_statistical_moments(chroma)\n",
    "    \n",
    "    # maximum loudness values per segment - 2 dimensions\n",
    "    loudness_max      = np.array([s[\"loudness_max\"] for s in segments]).reshape((sl,1))\n",
    "    loudness_max      = calc_statistical_moments(loudness_max)\n",
    "    \n",
    "    # offset of max loudness value within segment - 2 dimensions\n",
    "    loudness_start    = np.array([s[\"loudness_start\"] for s in segments]).reshape((sl,1))\n",
    "    loudness_start    = calc_statistical_moments(loudness_start)\n",
    "    \n",
    "    # length of max loudness values within segment - 2 dimensions\n",
    "    loudness_max_time = np.array([s[\"loudness_max_time\"] for s in segments]).reshape((sl,1))\n",
    "    loudness_max_time = calc_statistical_moments(loudness_max_time)\n",
    "    \n",
    "    # length of segment - 2 dimensions\n",
    "    duration          = np.array([s[\"duration\"] for s in segments]).reshape((sl,1))\n",
    "    duration          = calc_statistical_moments(duration)\n",
    "    \n",
    "    # confidence of segment boundary detection - 2 dimensions\n",
    "    confidence        = np.array([s[\"confidence\"] for s in segments]).reshape((sl,1))\n",
    "    confidence        = calc_statistical_moments(confidence)\n",
    "    \n",
    "    # concatenate sequential features\n",
    "    sequential_features = np.concatenate([mfcc, chroma, loudness_max, loudness_start, \n",
    "                                          loudness_max_time, duration, confidence], axis=0)\n",
    "    \n",
    "    # track-based data\n",
    "    track_features = [track_data[0][\"acousticness\"],     # acoustic or not?\n",
    "                      track_data[0][\"danceability\"],     # danceable?\n",
    "                      track_data[0][\"energy\"],           # energetic or calm?\n",
    "                      track_data[0][\"instrumentalness\"], # is somebody singing?\n",
    "                      track_data[0][\"liveness\"],         # live or studio?\n",
    "                      track_data[0][\"speechiness\"],      # rap or singing?\n",
    "                      track_data[0][\"tempo\"],            # slow or fast?\n",
    "                      track_data[0][\"time_signature\"],   # 3/4, 4/4, 6/8, etc.\n",
    "                      track_data[0][\"valence\"]]          # happy or sad?\n",
    "    \n",
    "    if with_year:\n",
    "        track_features.append(int(metadata[\"year\"]))\n",
    "        \n",
    "    if with_popularity:\n",
    "        track_features.append(int(metadata[\"popularity\"]))\n",
    "        \n",
    "    \n",
    "    return np.concatenate([sequential_features, track_features], axis=0)"
   ]
  },
  {
   "cell_type": "markdown",
   "metadata": {},
   "source": [
    "Afgregate all features of the downloaded data"
   ]
  },
  {
   "cell_type": "code",
   "execution_count": 725,
   "metadata": {
    "collapsed": true
   },
   "outputs": [],
   "source": [
    "def aggregate_featuredata(raw_track_data):\n",
    "\n",
    "    feature_data = []\n",
    "\n",
    "    for i, (_, spotify_data) in enumerate(raw_track_data):\n",
    "\n",
    "        _, _, _, f_sequential, f_trackbased = spotify_data\n",
    "\n",
    "        feature_vec = aggregate_features(f_sequential, \n",
    "                                         f_trackbased, \n",
    "                                         metadata.iloc[i], \n",
    "                                         with_year       = True, \n",
    "                                         with_popularity = True)    \n",
    "\n",
    "        feature_data.append(feature_vec)\n",
    "\n",
    "    feature_data = np.asarray(feature_data)\n",
    "    \n",
    "    return feature_data"
   ]
  },
  {
   "cell_type": "code",
   "execution_count": 726,
   "metadata": {
    "ExecuteTime": {
     "end_time": "2017-08-24T10:38:34.716000Z",
     "start_time": "2017-08-24T10:38:34.703000Z"
    }
   },
   "outputs": [
    {
     "name": "stdout",
     "output_type": "stream",
     "text": [
      "feature_data.shape: (944, 69)\n"
     ]
    }
   ],
   "source": [
    "feature_data = aggregate_featuredata(raw_track_data)\n",
    "\n",
    "print \"feature_data.shape:\", feature_data.shape"
   ]
  },
  {
   "cell_type": "markdown",
   "metadata": {},
   "source": [
    "### Normalize feature data"
   ]
  },
  {
   "cell_type": "code",
   "execution_count": 696,
   "metadata": {
    "collapsed": true
   },
   "outputs": [],
   "source": [
    "# standardize sequential_features\n",
    "feature_data -= feature_data.mean(axis=0)\n",
    "feature_data /= feature_data.std(axis=0)"
   ]
  },
  {
   "cell_type": "markdown",
   "metadata": {},
   "source": [
    "# Calculate Similarities"
   ]
  },
  {
   "cell_type": "markdown",
   "metadata": {},
   "source": [
    "### Euclidean Distance"
   ]
  },
  {
   "cell_type": "code",
   "execution_count": 698,
   "metadata": {
    "collapsed": true
   },
   "outputs": [],
   "source": [
    "eucledian_distance = lambda feature_space, query_vector: \\\n",
    "                                np.sqrt(np.sum((feature_space - query_vector)**2, axis=1))"
   ]
  },
  {
   "cell_type": "code",
   "execution_count": 700,
   "metadata": {
    "collapsed": true
   },
   "outputs": [],
   "source": [
    "query_track_idx = 381"
   ]
  },
  {
   "cell_type": "code",
   "execution_count": 702,
   "metadata": {},
   "outputs": [
    {
     "data": {
      "text/html": [
       "<div>\n",
       "<style>\n",
       "    .dataframe thead tr:only-child th {\n",
       "        text-align: right;\n",
       "    }\n",
       "\n",
       "    .dataframe thead th {\n",
       "        text-align: left;\n",
       "    }\n",
       "\n",
       "    .dataframe tbody tr th {\n",
       "        vertical-align: top;\n",
       "    }\n",
       "</style>\n",
       "<table border=\"1\" class=\"dataframe\">\n",
       "  <thead>\n",
       "    <tr style=\"text-align: right;\">\n",
       "      <th></th>\n",
       "      <th>artist_name</th>\n",
       "      <th>title</th>\n",
       "      <th>album_name</th>\n",
       "      <th>year</th>\n",
       "      <th>playlist</th>\n",
       "    </tr>\n",
       "  </thead>\n",
       "  <tbody>\n",
       "    <tr>\n",
       "      <th>381</th>\n",
       "      <td>Lynyrd Skynyrd</td>\n",
       "      <td>Sweet Home Alabama</td>\n",
       "      <td>Second Helping</td>\n",
       "      <td>1974</td>\n",
       "      <td>rockclassics</td>\n",
       "    </tr>\n",
       "    <tr>\n",
       "      <th>445</th>\n",
       "      <td>Green Day</td>\n",
       "      <td>Good Riddance (Time Of Your Life)</td>\n",
       "      <td>Nimrod</td>\n",
       "      <td>1997</td>\n",
       "      <td>soft_rock</td>\n",
       "    </tr>\n",
       "    <tr>\n",
       "      <th>324</th>\n",
       "      <td>Cream</td>\n",
       "      <td>White Room</td>\n",
       "      <td>Wheels Of Fire (Remastered)</td>\n",
       "      <td>1968</td>\n",
       "      <td>rockclassics</td>\n",
       "    </tr>\n",
       "    <tr>\n",
       "      <th>450</th>\n",
       "      <td>New Radicals</td>\n",
       "      <td>You Get What You Give</td>\n",
       "      <td>Maybe You've Been Brainwashed Too</td>\n",
       "      <td>1998</td>\n",
       "      <td>soft_rock</td>\n",
       "    </tr>\n",
       "    <tr>\n",
       "      <th>750</th>\n",
       "      <td>Candlebox</td>\n",
       "      <td>Far Behind</td>\n",
       "      <td>Candlebox</td>\n",
       "      <td>1993</td>\n",
       "      <td>grunge</td>\n",
       "    </tr>\n",
       "    <tr>\n",
       "      <th>473</th>\n",
       "      <td>America</td>\n",
       "      <td>Ventura Highway</td>\n",
       "      <td>Homecoming</td>\n",
       "      <td>1972</td>\n",
       "      <td>soft_rock</td>\n",
       "    </tr>\n",
       "    <tr>\n",
       "      <th>389</th>\n",
       "      <td>Steve Miller Band</td>\n",
       "      <td>Take The Money And Run</td>\n",
       "      <td>Fly Like An Eagle</td>\n",
       "      <td>1976</td>\n",
       "      <td>rockclassics</td>\n",
       "    </tr>\n",
       "    <tr>\n",
       "      <th>458</th>\n",
       "      <td>Heart</td>\n",
       "      <td>All I Wanna Do Is Make Love To You</td>\n",
       "      <td>Brigade</td>\n",
       "      <td>1990</td>\n",
       "      <td>soft_rock</td>\n",
       "    </tr>\n",
       "    <tr>\n",
       "      <th>448</th>\n",
       "      <td>Bruce Hornsby</td>\n",
       "      <td>The Way It Is</td>\n",
       "      <td>The Way It Is</td>\n",
       "      <td>1986</td>\n",
       "      <td>soft_rock</td>\n",
       "    </tr>\n",
       "    <tr>\n",
       "      <th>300</th>\n",
       "      <td>Bob Seger</td>\n",
       "      <td>Still The Same</td>\n",
       "      <td>Stranger In Town</td>\n",
       "      <td>1978</td>\n",
       "      <td>rockclassics</td>\n",
       "    </tr>\n",
       "    <tr>\n",
       "      <th>487</th>\n",
       "      <td>Def Leppard</td>\n",
       "      <td>Hysteria 2013 (Re-Recorded Version) - Single</td>\n",
       "      <td>Hysteria 2013 (Re-Recorded Version) - Single</td>\n",
       "      <td>2013</td>\n",
       "      <td>soft_rock</td>\n",
       "    </tr>\n",
       "  </tbody>\n",
       "</table>\n",
       "</div>"
      ],
      "text/plain": [
       "           artist_name                                         title  \\\n",
       "381     Lynyrd Skynyrd                            Sweet Home Alabama   \n",
       "445          Green Day             Good Riddance (Time Of Your Life)   \n",
       "324              Cream                                    White Room   \n",
       "450       New Radicals                         You Get What You Give   \n",
       "750          Candlebox                                    Far Behind   \n",
       "473            America                               Ventura Highway   \n",
       "389  Steve Miller Band                        Take The Money And Run   \n",
       "458              Heart            All I Wanna Do Is Make Love To You   \n",
       "448      Bruce Hornsby                                 The Way It Is   \n",
       "300          Bob Seger                                Still The Same   \n",
       "487        Def Leppard  Hysteria 2013 (Re-Recorded Version) - Single   \n",
       "\n",
       "                                       album_name  year      playlist  \n",
       "381                                Second Helping  1974  rockclassics  \n",
       "445                                        Nimrod  1997     soft_rock  \n",
       "324                   Wheels Of Fire (Remastered)  1968  rockclassics  \n",
       "450             Maybe You've Been Brainwashed Too  1998     soft_rock  \n",
       "750                                     Candlebox  1993        grunge  \n",
       "473                                    Homecoming  1972     soft_rock  \n",
       "389                             Fly Like An Eagle  1976  rockclassics  \n",
       "458                                       Brigade  1990     soft_rock  \n",
       "448                                 The Way It Is  1986     soft_rock  \n",
       "300                              Stranger In Town  1978  rockclassics  \n",
       "487  Hysteria 2013 (Re-Recorded Version) - Single  2013     soft_rock  "
      ]
     },
     "execution_count": 702,
     "metadata": {},
     "output_type": "execute_result"
    }
   ],
   "source": [
    "# calculate the distance between the query-vector and all others\n",
    "dist = eucledian_distance(feature_data, feature_data[query_track_idx])\n",
    "\n",
    "# sort the distances ascendingly - use sorted index\n",
    "sorted_idx = np.argsort(dist)\n",
    "\n",
    "# display top-10 results (first track = query track)\n",
    "display_cols = [\"artist_name\", \"title\", \"album_name\", \"year\", \"playlist\"]\n",
    "\n",
    "metadata.loc[sorted_idx[:11], display_cols]"
   ]
  },
  {
   "cell_type": "markdown",
   "metadata": {},
   "source": [
    "### Scaled Eucledian Distance\n",
    "\n",
    "prblem: large featuresets dominate"
   ]
  },
  {
   "cell_type": "code",
   "execution_count": 555,
   "metadata": {
    "collapsed": true
   },
   "outputs": [],
   "source": [
    "# feature-set lengths and order\n",
    "featureset_lengths = [24, # mfcc\n",
    "                      24, # chroma\n",
    "                      2,  # loudness_max\n",
    "                      2,  # loudness_start\n",
    "                      2,  # loudness_max_time\n",
    "                      2,  # sequence length\n",
    "                      2,  # confidence\n",
    "                      1,  # acousticness\n",
    "                      1,  # danceability\n",
    "                      1,  # energy\n",
    "                      1,  # instrumentalness\n",
    "                      1,  # liveness\n",
    "                      1,  # speechiness\n",
    "                      1,  # tempo\n",
    "                      1,  # time_signature\n",
    "                      1,  # valence\n",
    "                      1,  # year\n",
    "                      1]  # popularity"
   ]
  },
  {
   "cell_type": "code",
   "execution_count": 556,
   "metadata": {
    "collapsed": true
   },
   "outputs": [],
   "source": [
    "def scaled_eucledian_distance(feature_space, query_vector):\n",
    "    \n",
    "    distances = (feature_space - query_vector)**2\n",
    "    \n",
    "    # feature_start_idx\n",
    "    start_idx = 0 \n",
    "    \n",
    "    # normalize distances\n",
    "    for sequence_length in featureset_lengths:\n",
    "        \n",
    "        # feature_stop_idx\n",
    "        stop_idx                         = start_idx + sequence_length\n",
    "        distances[:,start_idx:stop_idx] /= distances[:,start_idx:stop_idx].sum(axis=1).max()\n",
    "        start_idx                        = stop_idx\n",
    "    \n",
    "    return np.sqrt(np.sum(distances, axis=1))"
   ]
  },
  {
   "cell_type": "code",
   "execution_count": 704,
   "metadata": {},
   "outputs": [
    {
     "data": {
      "text/html": [
       "<div>\n",
       "<style>\n",
       "    .dataframe thead tr:only-child th {\n",
       "        text-align: right;\n",
       "    }\n",
       "\n",
       "    .dataframe thead th {\n",
       "        text-align: left;\n",
       "    }\n",
       "\n",
       "    .dataframe tbody tr th {\n",
       "        vertical-align: top;\n",
       "    }\n",
       "</style>\n",
       "<table border=\"1\" class=\"dataframe\">\n",
       "  <thead>\n",
       "    <tr style=\"text-align: right;\">\n",
       "      <th></th>\n",
       "      <th>artist_name</th>\n",
       "      <th>title</th>\n",
       "      <th>album_name</th>\n",
       "      <th>year</th>\n",
       "      <th>playlist</th>\n",
       "    </tr>\n",
       "  </thead>\n",
       "  <tbody>\n",
       "    <tr>\n",
       "      <th>381</th>\n",
       "      <td>Lynyrd Skynyrd</td>\n",
       "      <td>Sweet Home Alabama</td>\n",
       "      <td>Second Helping</td>\n",
       "      <td>1974</td>\n",
       "      <td>rockclassics</td>\n",
       "    </tr>\n",
       "    <tr>\n",
       "      <th>389</th>\n",
       "      <td>Steve Miller Band</td>\n",
       "      <td>Take The Money And Run</td>\n",
       "      <td>Fly Like An Eagle</td>\n",
       "      <td>1976</td>\n",
       "      <td>rockclassics</td>\n",
       "    </tr>\n",
       "    <tr>\n",
       "      <th>473</th>\n",
       "      <td>America</td>\n",
       "      <td>Ventura Highway</td>\n",
       "      <td>Homecoming</td>\n",
       "      <td>1972</td>\n",
       "      <td>soft_rock</td>\n",
       "    </tr>\n",
       "    <tr>\n",
       "      <th>432</th>\n",
       "      <td>Deep Purple</td>\n",
       "      <td>Smoke On the Water</td>\n",
       "      <td>Machine Head (Remastered)</td>\n",
       "      <td>1972</td>\n",
       "      <td>rockhymns</td>\n",
       "    </tr>\n",
       "    <tr>\n",
       "      <th>458</th>\n",
       "      <td>Heart</td>\n",
       "      <td>All I Wanna Do Is Make Love To You</td>\n",
       "      <td>Brigade</td>\n",
       "      <td>1990</td>\n",
       "      <td>soft_rock</td>\n",
       "    </tr>\n",
       "    <tr>\n",
       "      <th>475</th>\n",
       "      <td>Crowded House</td>\n",
       "      <td>Weather With You</td>\n",
       "      <td>Woodface</td>\n",
       "      <td>1991</td>\n",
       "      <td>soft_rock</td>\n",
       "    </tr>\n",
       "    <tr>\n",
       "      <th>324</th>\n",
       "      <td>Cream</td>\n",
       "      <td>White Room</td>\n",
       "      <td>Wheels Of Fire (Remastered)</td>\n",
       "      <td>1968</td>\n",
       "      <td>rockclassics</td>\n",
       "    </tr>\n",
       "    <tr>\n",
       "      <th>277</th>\n",
       "      <td>Eagles</td>\n",
       "      <td>Life In The Fast Lane</td>\n",
       "      <td>Hotel California (Remastered)</td>\n",
       "      <td>1976</td>\n",
       "      <td>rockclassics</td>\n",
       "    </tr>\n",
       "    <tr>\n",
       "      <th>354</th>\n",
       "      <td>Aerosmith</td>\n",
       "      <td>Walk This Way</td>\n",
       "      <td>Aerosmith's Greatest Hits</td>\n",
       "      <td>1980</td>\n",
       "      <td>rockclassics</td>\n",
       "    </tr>\n",
       "    <tr>\n",
       "      <th>393</th>\n",
       "      <td>The Doobie Brothers</td>\n",
       "      <td>Listen To The Music</td>\n",
       "      <td>Toulouse Street</td>\n",
       "      <td>1972</td>\n",
       "      <td>rockclassics</td>\n",
       "    </tr>\n",
       "    <tr>\n",
       "      <th>446</th>\n",
       "      <td>Toto</td>\n",
       "      <td>Stop Loving You</td>\n",
       "      <td>The Seventh One</td>\n",
       "      <td>1988</td>\n",
       "      <td>soft_rock</td>\n",
       "    </tr>\n",
       "  </tbody>\n",
       "</table>\n",
       "</div>"
      ],
      "text/plain": [
       "             artist_name                               title  \\\n",
       "381       Lynyrd Skynyrd                  Sweet Home Alabama   \n",
       "389    Steve Miller Band              Take The Money And Run   \n",
       "473              America                     Ventura Highway   \n",
       "432          Deep Purple                  Smoke On the Water   \n",
       "458                Heart  All I Wanna Do Is Make Love To You   \n",
       "475        Crowded House                    Weather With You   \n",
       "324                Cream                          White Room   \n",
       "277               Eagles               Life In The Fast Lane   \n",
       "354            Aerosmith                       Walk This Way   \n",
       "393  The Doobie Brothers                 Listen To The Music   \n",
       "446                 Toto                     Stop Loving You   \n",
       "\n",
       "                        album_name  year      playlist  \n",
       "381                 Second Helping  1974  rockclassics  \n",
       "389              Fly Like An Eagle  1976  rockclassics  \n",
       "473                     Homecoming  1972     soft_rock  \n",
       "432      Machine Head (Remastered)  1972     rockhymns  \n",
       "458                        Brigade  1990     soft_rock  \n",
       "475                       Woodface  1991     soft_rock  \n",
       "324    Wheels Of Fire (Remastered)  1968  rockclassics  \n",
       "277  Hotel California (Remastered)  1976  rockclassics  \n",
       "354      Aerosmith's Greatest Hits  1980  rockclassics  \n",
       "393                Toulouse Street  1972  rockclassics  \n",
       "446                The Seventh One  1988     soft_rock  "
      ]
     },
     "execution_count": 704,
     "metadata": {},
     "output_type": "execute_result"
    }
   ],
   "source": [
    "dist = scaled_eucledian_distance(feature_data, feature_data[query_track_idx])\n",
    "\n",
    "metadata.loc[np.argsort(dist)[:11], display_cols]"
   ]
  },
  {
   "cell_type": "markdown",
   "metadata": {},
   "source": [
    "### Feature Weighting"
   ]
  },
  {
   "cell_type": "code",
   "execution_count": 675,
   "metadata": {
    "collapsed": true
   },
   "outputs": [],
   "source": [
    "# feature-set lengths and order\n",
    "featureset_weights = [1.55,  # mfcc\n",
    "                      0.6,  # chroma\n",
    "                      0.8,  # loudness_max\n",
    "                      0.5,  # loudness_start\n",
    "                      0.5,  # loudness_max_time\n",
    "                      2.5,  # sequence length\n",
    "                      0.5,  # confidence\n",
    "                      0.5,  # acousticness\n",
    "                      0.5,  # danceability\n",
    "                      1.5,  # energy\n",
    "                      0.0,  # instrumentalness\n",
    "                      0.0,  # liveness\n",
    "                      0.1,  # speechiness\n",
    "                      0.1,  # tempo\n",
    "                      0.9,  # time_signature\n",
    "                      0.1,  # valence\n",
    "                      5.5,  # year\n",
    "                      0.4]  # popularity"
   ]
  },
  {
   "cell_type": "code",
   "execution_count": 676,
   "metadata": {
    "collapsed": true
   },
   "outputs": [],
   "source": [
    "def weighted_eucledian_distance(feature_space, query_vector, featureset_weights):\n",
    "    \n",
    "    distances = (feature_space - query_vector)**2\n",
    "    \n",
    "    # feature_start_idx\n",
    "    start_idx = 0 \n",
    "    \n",
    "    # normalize distances\n",
    "    for sequence_length, weight in zip(featureset_lengths, featureset_weights):\n",
    "\n",
    "        # feature_stop_idx\n",
    "        stop_idx                         = start_idx + sequence_length\n",
    "        distances[:,start_idx:stop_idx] /= distances[:,start_idx:stop_idx].sum(axis=1).max()\n",
    "        distances[:,start_idx:stop_idx] *= weight\n",
    "        start_idx                        = stop_idx\n",
    "\n",
    "    return np.sqrt(np.sum(distances, axis=1))"
   ]
  },
  {
   "cell_type": "code",
   "execution_count": 705,
   "metadata": {},
   "outputs": [
    {
     "data": {
      "text/html": [
       "<div>\n",
       "<style>\n",
       "    .dataframe thead tr:only-child th {\n",
       "        text-align: right;\n",
       "    }\n",
       "\n",
       "    .dataframe thead th {\n",
       "        text-align: left;\n",
       "    }\n",
       "\n",
       "    .dataframe tbody tr th {\n",
       "        vertical-align: top;\n",
       "    }\n",
       "</style>\n",
       "<table border=\"1\" class=\"dataframe\">\n",
       "  <thead>\n",
       "    <tr style=\"text-align: right;\">\n",
       "      <th></th>\n",
       "      <th>artist_name</th>\n",
       "      <th>title</th>\n",
       "      <th>album_name</th>\n",
       "      <th>year</th>\n",
       "      <th>playlist</th>\n",
       "    </tr>\n",
       "  </thead>\n",
       "  <tbody>\n",
       "    <tr>\n",
       "      <th>381</th>\n",
       "      <td>Lynyrd Skynyrd</td>\n",
       "      <td>Sweet Home Alabama</td>\n",
       "      <td>Second Helping</td>\n",
       "      <td>1974</td>\n",
       "      <td>rockclassics</td>\n",
       "    </tr>\n",
       "    <tr>\n",
       "      <th>306</th>\n",
       "      <td>Bad Company</td>\n",
       "      <td>Feel Like Makin' Love - 2015 Remastered Version</td>\n",
       "      <td>Straight Shooter</td>\n",
       "      <td>1975</td>\n",
       "      <td>rockclassics</td>\n",
       "    </tr>\n",
       "    <tr>\n",
       "      <th>389</th>\n",
       "      <td>Steve Miller Band</td>\n",
       "      <td>Take The Money And Run</td>\n",
       "      <td>Fly Like An Eagle</td>\n",
       "      <td>1976</td>\n",
       "      <td>rockclassics</td>\n",
       "    </tr>\n",
       "    <tr>\n",
       "      <th>473</th>\n",
       "      <td>America</td>\n",
       "      <td>Ventura Highway</td>\n",
       "      <td>Homecoming</td>\n",
       "      <td>1972</td>\n",
       "      <td>soft_rock</td>\n",
       "    </tr>\n",
       "    <tr>\n",
       "      <th>324</th>\n",
       "      <td>Cream</td>\n",
       "      <td>White Room</td>\n",
       "      <td>Wheels Of Fire (Remastered)</td>\n",
       "      <td>1968</td>\n",
       "      <td>rockclassics</td>\n",
       "    </tr>\n",
       "    <tr>\n",
       "      <th>432</th>\n",
       "      <td>Deep Purple</td>\n",
       "      <td>Smoke On the Water</td>\n",
       "      <td>Machine Head (Remastered)</td>\n",
       "      <td>1972</td>\n",
       "      <td>rockhymns</td>\n",
       "    </tr>\n",
       "    <tr>\n",
       "      <th>393</th>\n",
       "      <td>The Doobie Brothers</td>\n",
       "      <td>Listen To The Music</td>\n",
       "      <td>Toulouse Street</td>\n",
       "      <td>1972</td>\n",
       "      <td>rockclassics</td>\n",
       "    </tr>\n",
       "    <tr>\n",
       "      <th>295</th>\n",
       "      <td>Eagles</td>\n",
       "      <td>Hotel California</td>\n",
       "      <td>Hotel California (Remastered)</td>\n",
       "      <td>1976</td>\n",
       "      <td>rockclassics</td>\n",
       "    </tr>\n",
       "    <tr>\n",
       "      <th>277</th>\n",
       "      <td>Eagles</td>\n",
       "      <td>Life In The Fast Lane</td>\n",
       "      <td>Hotel California (Remastered)</td>\n",
       "      <td>1976</td>\n",
       "      <td>rockclassics</td>\n",
       "    </tr>\n",
       "    <tr>\n",
       "      <th>338</th>\n",
       "      <td>The Doors</td>\n",
       "      <td>Love Her Madly</td>\n",
       "      <td>L.A. Woman</td>\n",
       "      <td>1971</td>\n",
       "      <td>rockclassics</td>\n",
       "    </tr>\n",
       "    <tr>\n",
       "      <th>388</th>\n",
       "      <td>Mountain</td>\n",
       "      <td>Mississippi Queen</td>\n",
       "      <td>Climbing!</td>\n",
       "      <td>1970</td>\n",
       "      <td>rockclassics</td>\n",
       "    </tr>\n",
       "  </tbody>\n",
       "</table>\n",
       "</div>"
      ],
      "text/plain": [
       "             artist_name                                            title  \\\n",
       "381       Lynyrd Skynyrd                               Sweet Home Alabama   \n",
       "306          Bad Company  Feel Like Makin' Love - 2015 Remastered Version   \n",
       "389    Steve Miller Band                           Take The Money And Run   \n",
       "473              America                                  Ventura Highway   \n",
       "324                Cream                                       White Room   \n",
       "432          Deep Purple                               Smoke On the Water   \n",
       "393  The Doobie Brothers                              Listen To The Music   \n",
       "295               Eagles                                 Hotel California   \n",
       "277               Eagles                            Life In The Fast Lane   \n",
       "338            The Doors                                   Love Her Madly   \n",
       "388             Mountain                                Mississippi Queen   \n",
       "\n",
       "                        album_name  year      playlist  \n",
       "381                 Second Helping  1974  rockclassics  \n",
       "306               Straight Shooter  1975  rockclassics  \n",
       "389              Fly Like An Eagle  1976  rockclassics  \n",
       "473                     Homecoming  1972     soft_rock  \n",
       "324    Wheels Of Fire (Remastered)  1968  rockclassics  \n",
       "432      Machine Head (Remastered)  1972     rockhymns  \n",
       "393                Toulouse Street  1972  rockclassics  \n",
       "295  Hotel California (Remastered)  1976  rockclassics  \n",
       "277  Hotel California (Remastered)  1976  rockclassics  \n",
       "338                     L.A. Woman  1971  rockclassics  \n",
       "388                      Climbing!  1970  rockclassics  "
      ]
     },
     "execution_count": 705,
     "metadata": {},
     "output_type": "execute_result"
    }
   ],
   "source": [
    "dist = weighted_eucledian_distance(feature_data, feature_data[query_track_idx], featureset_weights)\n",
    "\n",
    "metadata.loc[np.argsort(dist)[:11], display_cols]"
   ]
  },
  {
   "cell_type": "markdown",
   "metadata": {},
   "source": [
    "# Evaluate"
   ]
  },
  {
   "cell_type": "code",
   "execution_count": 565,
   "metadata": {
    "collapsed": true
   },
   "outputs": [],
   "source": [
    "def evaluate(similarity_function, cut_off):\n",
    "\n",
    "    all_precisions = []\n",
    "\n",
    "    for idx in metadata.index.values:\n",
    "\n",
    "        dist           = similarity_function(feature_data, feature_data[idx])\n",
    "        similar_tracks = metadata.loc[np.argsort(dist)[:cut_off]]\n",
    "        same_label     = similar_tracks[\"playlist\"] == metadata.loc[idx, \"playlist\"]\n",
    "        precision      = same_label.sum() / float(cut_off)\n",
    "        all_precisions.append(precision)\n",
    "\n",
    "    all_precisions = np.array(all_precisions)\n",
    "\n",
    "    return all_precisions.mean()"
   ]
  },
  {
   "cell_type": "code",
   "execution_count": 685,
   "metadata": {},
   "outputs": [
    {
     "data": {
      "text/plain": [
       "0.58159574468085107"
      ]
     },
     "execution_count": 685,
     "metadata": {},
     "output_type": "execute_result"
    }
   ],
   "source": [
    "evaluate(lambda x,y: weighted_eucledian_distance(x,y, featureset_weights), 20)"
   ]
  },
  {
   "cell_type": "code",
   "execution_count": 686,
   "metadata": {},
   "outputs": [
    {
     "data": {
      "text/plain": [
       "0.49632978723404253"
      ]
     },
     "execution_count": 686,
     "metadata": {},
     "output_type": "execute_result"
    }
   ],
   "source": [
    "evaluate(lambda x,y: scaled_eucledian_distance(x,y), 20)"
   ]
  },
  {
   "cell_type": "code",
   "execution_count": 687,
   "metadata": {},
   "outputs": [
    {
     "data": {
      "text/plain": [
       "0.43276595744680851"
      ]
     },
     "execution_count": 687,
     "metadata": {},
     "output_type": "execute_result"
    }
   ],
   "source": [
    "evaluate(lambda x,y: eucledian_distance(x,y), 20)"
   ]
  }
 ],
 "metadata": {
  "kernelspec": {
   "display_name": "Python 2",
   "language": "python",
   "name": "python2"
  },
  "language_info": {
   "codemirror_mode": {
    "name": "ipython",
    "version": 2
   },
   "file_extension": ".py",
   "mimetype": "text/x-python",
   "name": "python",
   "nbconvert_exporter": "python",
   "pygments_lexer": "ipython2",
   "version": "2.7.12"
  },
  "notify_time": "5",
  "toc": {
   "toc_cell": false,
   "toc_number_sections": true,
   "toc_threshold": 6,
   "toc_window_display": false
  }
 },
 "nbformat": 4,
 "nbformat_minor": 1
}
