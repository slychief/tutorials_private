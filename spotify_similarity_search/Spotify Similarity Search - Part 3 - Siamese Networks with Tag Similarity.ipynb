{
 "cells": [
  {
   "cell_type": "markdown",
   "metadata": {},
   "source": [
    "# Finding Similar Songs on Spotify - Part 3 - Siamese Networks with Tag Similarity\n",
    "\n",
    "In this tutorial I will demonstrate how to apply machine learning to search for similar songs on Spotify.\n",
    "[TODO: write Intro]\n",
    "\n",
    "## Tutorial Overview\n",
    "[TODO: update overview]\n",
    "\n",
    "1. Loading data\n",
    "2. Preprocess data\n",
    "3. Define Model\n",
    "4. Fit Model\n",
    "5. Evaluate Model\n",
    "\n"
   ]
  },
  {
   "cell_type": "markdown",
   "metadata": {},
   "source": [
    "## Requiremnts\n",
    "\n",
    "Install the following dependencies to run this tutorial:"
   ]
  },
  {
   "cell_type": "code",
   "execution_count": 1,
   "metadata": {
    "ExecuteTime": {
     "end_time": "2017-08-24T10:20:32.488000Z",
     "start_time": "2017-08-24T10:20:32.483000Z"
    }
   },
   "outputs": [
    {
     "name": "stderr",
     "output_type": "stream",
     "text": [
      "Using Theano backend.\n",
      "WARNING (theano.sandbox.cuda): The cuda backend is deprecated and will be removed in the next release (v0.10).  Please switch to the gpuarray backend. You can get more information about how to switch at this URL:\n",
      " https://github.com/Theano/Theano/wiki/Converting-to-the-new-gpu-back-end%28gpuarray%29\n",
      "\n",
      "Using gpu device 0: GeForce GTX 1080 (CNMeM is enabled with initial size: 95.0% of memory, cuDNN 5105)\n"
     ]
    }
   ],
   "source": [
    "# visualization\n",
    "%matplotlib inline\n",
    "import matplotlib\n",
    "import matplotlib.pyplot as plt\n",
    "matplotlib.style.use('ggplot')\n",
    "from IPython.display import IFrame\n",
    "\n",
    "# numeric and scientific processing\n",
    "import numpy as np\n",
    "import pandas as pd\n",
    "from scipy.interpolate import RectBivariateSpline\n",
    "from sklearn.preprocessing import LabelEncoder, MultiLabelBinarizer\n",
    "from scipy.spatial.distance import dice, pdist, squareform\n",
    "\n",
    "# misc\n",
    "import os\n",
    "import progressbar\n",
    "\n",
    "# spotify API\n",
    "import spotipy\n",
    "import spotipy.util as util\n",
    "\n",
    "# local caching\n",
    "from joblib import Memory\n",
    "\n",
    "# deep learning\n",
    "from keras.models           import Model\n",
    "from keras.layers           import Input, Lambda, Dense, Bidirectional\n",
    "from keras.layers.recurrent import LSTM\n",
    "from keras.layers.merge     import concatenate\n",
    "from keras.optimizers       import Nadam\n",
    "from keras import backend as K\n",
    "\n",
    "# functions from Tutorial Part 1\n",
    "import tutorial_functions as tut_func"
   ]
  },
  {
   "cell_type": "markdown",
   "metadata": {},
   "source": [
    "# Loading Data\n",
    "\n",
    "We will use the same data that we downloaded from Spotify in Part 1 of the Tutorial. Because we used the joblib library, we will not have to wait that long, because the data is already cached on our harddrive."
   ]
  },
  {
   "cell_type": "markdown",
   "metadata": {},
   "source": [
    "Update the following two variables according the credentials you received from Spotify"
   ]
  },
  {
   "cell_type": "code",
   "execution_count": 2,
   "metadata": {
    "ExecuteTime": {
     "end_time": "2017-08-24T10:20:33.260000Z",
     "start_time": "2017-08-24T10:20:33.256000Z"
    },
    "collapsed": true
   },
   "outputs": [],
   "source": [
    "SPOTIFY_USER = \"slychief\"\n",
    "\n",
    "os.environ[\"SPOTIPY_CLIENT_ID\"]     = \"8a7fffc37b6c44e6b7bc344c3295034c\"\n",
    "os.environ[\"SPOTIPY_CLIENT_SECRET\"] = \"f19dd914ba58408c9407dd6479b23812\""
   ]
  },
  {
   "cell_type": "markdown",
   "metadata": {},
   "source": [
    "The same playlists as used in Part 1:"
   ]
  },
  {
   "cell_type": "code",
   "execution_count": 3,
   "metadata": {
    "collapsed": true
   },
   "outputs": [],
   "source": [
    "playlists = [\n",
    "    \n",
    "     {\"name\": \"clubbeats\",    \"uri\": \"spotify:user:spotify:playlist:37i9dQZF1DXbX3zSzB4MO0\"},\n",
    "     {\"name\": \"softpop\",      \"uri\": \"spotify:user:spotify:playlist:37i9dQZF1DWTwnEm1IYyoj\"},\n",
    "     {\"name\": \"electropop\",   \"uri\": \"spotify:user:spotify:playlist:37i9dQZF1DX4uPi2roRUwU\"},\n",
    "     {\"name\": \"rockclassics\", \"uri\": \"spotify:user:spotify:playlist:37i9dQZF1DWXRqgorJj26U\"},\n",
    "     {\"name\": \"rockhymns\",    \"uri\": \"spotify:user:spotify:playlist:37i9dQZF1DX4vth7idTQch\"},\n",
    "     {\"name\": \"soft_rock\",    \"uri\": \"spotify:user:spotify:playlist:37i9dQZF1DX6xOPeSOGone\"},\n",
    "     {\"name\": \"metalcore\",    \"uri\": \"spotify:user:spotify:playlist:37i9dQZF1DWXIcbzpLauPS\"}, \n",
    "     {\"name\": \"metal\",        \"uri\": \"spotify:user:spotify:playlist:37i9dQZF1DWWOaP4H0w5b0\"},\n",
    "     {\"name\": \"classic_metal\",\"uri\": \"spotify:user:spotify:playlist:37i9dQZF1DX2LTcinqsO68\"},\n",
    "     {\"name\": \"grunge\",       \"uri\": \"spotify:user:spotify:playlist:37i9dQZF1DX11ghcIxjcjE\"},\n",
    "     {\"name\": \"hiphop\",       \"uri\": \"spotify:user:spotify:playlist:37i9dQZF1DWVdgXTbYm2r0\"},\n",
    "     {\"name\": \"poppunk\",      \"uri\": \"spotify:user:spotify:playlist:37i9dQZF1DXa9wYJr1oMFq\"},\n",
    "     {\"name\": \"classic\",      \"uri\": \"spotify:user:spotify:playlist:37i9dQZF1DXcN1fAVSf7CR\"}\n",
    "    \n",
    "]"
   ]
  },
  {
   "cell_type": "markdown",
   "metadata": {},
   "source": [
    "Connect to the Spotify API"
   ]
  },
  {
   "cell_type": "code",
   "execution_count": 4,
   "metadata": {
    "ExecuteTime": {
     "end_time": "2017-08-24T10:20:54.045000Z",
     "start_time": "2017-08-24T10:20:34.076000Z"
    },
    "collapsed": true
   },
   "outputs": [],
   "source": [
    "token = util.prompt_for_user_token(\"slychief\", \n",
    "                                   \"playlist-modify-public\", \n",
    "                                   redirect_uri=\"http://localhost/\")\n",
    "\n",
    "sp = spotipy.Spotify(auth=token)"
   ]
  },
  {
   "cell_type": "markdown",
   "metadata": {},
   "source": [
    "Create a temporary Spotify playlist to demonstrate results. Store playlist-ID for later processing"
   ]
  },
  {
   "cell_type": "code",
   "execution_count": 5,
   "metadata": {
    "collapsed": true
   },
   "outputs": [],
   "source": [
    "sp_response    = sp.user_playlist_create(SPOTIFY_USER, \"tutorial_2\", public=True)\n",
    "sp_playlist_id = sp_response[\"id\"]"
   ]
  },
  {
   "cell_type": "markdown",
   "metadata": {},
   "source": [
    "Define the local chache directory. This should be the same as in Part 1 of the tutorial."
   ]
  },
  {
   "cell_type": "code",
   "execution_count": 6,
   "metadata": {
    "ExecuteTime": {
     "end_time": "2017-08-24T10:20:32.875000Z",
     "start_time": "2017-08-24T10:20:32.870000Z"
    },
    "collapsed": true
   },
   "outputs": [],
   "source": [
    "memory = Memory(cachedir='/home/schindler/tmp/spotify/', verbose=0)"
   ]
  },
  {
   "cell_type": "code",
   "execution_count": 7,
   "metadata": {
    "collapsed": true
   },
   "outputs": [],
   "source": [
    "@memory.cache\n",
    "def get_spotify_data(track_id):\n",
    "    \n",
    "    # meta-data\n",
    "    track_metadata      = sp.track(track_id)\n",
    "    album_metadata      = sp.album(track_metadata[\"album\"][\"id\"])\n",
    "    artist_metadata     = sp.artist(track_metadata[\"artists\"][0][\"id\"])\n",
    "    \n",
    "    # feature-data\n",
    "    sequential_features = sp.audio_analysis(track_id)\n",
    "    trackbased_features = sp.audio_features([track_id])\n",
    "    \n",
    "    return track_metadata, album_metadata, artist_metadata, sequential_features, trackbased_features"
   ]
  },
  {
   "cell_type": "markdown",
   "metadata": {},
   "source": [
    "Start loading the Spotify Data"
   ]
  },
  {
   "cell_type": "code",
   "execution_count": 8,
   "metadata": {},
   "outputs": [
    {
     "name": "stderr",
     "output_type": "stream",
     "text": [
      " 97% (939 of 963) |#################################################################################################################################################################################     | Elapsed Time: 0:00:39 ETA: 0:00:02"
     ]
    }
   ],
   "source": [
    "# Get Playlist meta-data\n",
    "playlists = tut_func.get_playlist_metadata(sp, playlists)\n",
    "\n",
    "# Get track-ids of all playlist entries\n",
    "playlists = tut_func.get_track_ids(sp, playlists)\n",
    "\n",
    "num_tracks_total = np.sum([playlist[\"num_tracks\"] for playlist in playlists])\n",
    "\n",
    "# Fetch data and features from Spotify\n",
    "pbar = progressbar.ProgressBar(max_value=num_tracks_total)\n",
    "pbar.start()\n",
    "\n",
    "raw_track_data      = []\n",
    "processed_track_ids = []\n",
    "\n",
    "for playlist in playlists:\n",
    "\n",
    "    for track_id in playlist[\"track_ids\"]:\n",
    "\n",
    "        try:\n",
    "            # avoid duplicates in the data-set\n",
    "            if track_id not in processed_track_ids:\n",
    "\n",
    "                # retrieve data from Spotify\n",
    "                spotify_data = get_spotify_data(track_id)\n",
    "\n",
    "                raw_track_data.append([playlist[\"name\"], spotify_data])\n",
    "                processed_track_ids.append(track_id)\n",
    "\n",
    "        except Exception as e:\n",
    "            print e\n",
    "\n",
    "        pbar.update(len(raw_track_data))"
   ]
  },
  {
   "cell_type": "markdown",
   "metadata": {},
   "source": [
    "### Aggregate feature-data\n",
    "\n",
    "Currently we only have a list of raw data-objects retrieved from the Spotify API. We need to transform this information to a more structured format."
   ]
  },
  {
   "cell_type": "code",
   "execution_count": 9,
   "metadata": {
    "collapsed": true
   },
   "outputs": [],
   "source": [
    "# Aggregate Meta-data\n",
    "metadata = tut_func.aggregate_metadata(raw_track_data)\n",
    "\n",
    "# Aggregate Feature-data\n",
    "feature_data = tut_func.aggregate_featuredata(raw_track_data, metadata)\n",
    "\n",
    "# standardize sequential_features\n",
    "feature_data -= feature_data.mean(axis=0)\n",
    "feature_data /= feature_data.std(axis=0)"
   ]
  },
  {
   "cell_type": "markdown",
   "metadata": {},
   "source": [
    "# Tag Similarities\n",
    "\n",
    "Tag similarity refers to the semantic relationship between two labels. In the context of this tutorial we are talking about genre labels. These are provided by the Spotify API for each artist. This is not as precise as for each track, but we take what we get. We still need to consider that an artist might change its artistic orientation which means he can cross or change its genre or on the other hand, the genre can change itself (e.g. Rhythm and Blues). Most of all, we should keep in mind that the concept of music genre is highly subjective and its interpretation might vary between the annotators who labelled the provided tracks.\n",
    "\n",
    "So this is how the labels look like:"
   ]
  },
  {
   "cell_type": "code",
   "execution_count": 10,
   "metadata": {},
   "outputs": [
    {
     "name": "stdout",
     "output_type": "stream",
     "text": [
      "Track : Guns N' Roses - Sweet Child O' Mine\n",
      "Labels: 'album rock', 'alternative rock', 'classic rock', 'glam metal', 'hard rock', 'rock'\n"
     ]
    }
   ],
   "source": [
    "print \"Track : \" + \" - \".join(metadata[[\"artist_name\", \"title\"]].loc[330]) \n",
    "print \"Labels: '\" + \"', '\".join(metadata.loc[330].genres) + \"'\""
   ]
  },
  {
   "cell_type": "markdown",
   "metadata": {},
   "source": [
    "### Calculating similarities between Tracks based on labels\n",
    "\n",
    "To estimate the similarities between tracks, we first have to assess, how many labels  we have and how they are distributed. First we convert the string labels into a binary matrix:"
   ]
  },
  {
   "cell_type": "code",
   "execution_count": 11,
   "metadata": {},
   "outputs": [],
   "source": [
    "mlb = MultiLabelBinarizer()\n",
    "mlb = mlb.fit(metadata.genres)\n",
    "\n",
    "genres_bin = pd.DataFrame(mlb.transform(metadata.genres), columns=mlb.classes_)"
   ]
  },
  {
   "cell_type": "markdown",
   "metadata": {},
   "source": [
    "Now we remove all tracks for which no labels were provided:"
   ]
  },
  {
   "cell_type": "code",
   "execution_count": 12,
   "metadata": {
    "collapsed": true
   },
   "outputs": [],
   "source": [
    "# filter tracks without genre tags\n",
    "genres_bin = genres_bin[genres_bin.sum(axis=1) > 0]"
   ]
  },
  {
   "cell_type": "markdown",
   "metadata": {},
   "source": [
    "Now we align the metadata and the feature-data to the filtered metadata:"
   ]
  },
  {
   "cell_type": "code",
   "execution_count": 13,
   "metadata": {
    "collapsed": true
   },
   "outputs": [],
   "source": [
    "# copy the metadata\n",
    "metadata_aligned = metadata\n",
    "\n",
    "# create an additional column as an index into the feature-data\n",
    "metadata_aligned[\"featurespace_index\"] = metadata.index.values\n",
    "\n",
    "# reduce the aligned metadata to those tracks with provided genre labels\n",
    "metadata_aligned = metadata_aligned.iloc[genres_bin.index]\n",
    "\n",
    "# reset the index\n",
    "metadata_aligned = metadata_aligned.reset_index()"
   ]
  },
  {
   "cell_type": "markdown",
   "metadata": {},
   "source": [
    "### Term (Label) Frequencies\n",
    "\n",
    "As a next step we will analyze how many labels we have in our dataset, which ones are the most frequently used and so on.\n",
    "\n",
    "So let's see what are the most used genre labels in our dataset:"
   ]
  },
  {
   "cell_type": "code",
   "execution_count": 14,
   "metadata": {},
   "outputs": [
    {
     "data": {
      "image/png": "[encoded data removed]",
      "text/plain": [
       "<matplotlib.figure.Figure at 0x7fd69434e290>"
      ]
     },
     "metadata": {},
     "output_type": "display_data"
    }
   ],
   "source": [
    "genres_bin.sum(axis=0).sort_values(ascending=False)[:50].plot(kind=\"bar\", figsize=(16,6));"
   ]
  },
  {
   "cell_type": "markdown",
   "metadata": {},
   "source": [
    "As we can see, the \"rock\" genre is the most dominating one. Thus, providing this label to a track does not add more relevant information to it to distinguish it from other tracks. The term \"romantic\" on the other hand is less frequent which makes it more discrimitative.\n",
    "\n",
    "[TODO: explain TF/IDF]"
   ]
  },
  {
   "cell_type": "code",
   "execution_count": 15,
   "metadata": {
    "collapsed": true
   },
   "outputs": [],
   "source": [
    "tf            = genres_bin.sum(axis=0)\n",
    "idf           = np.log(genres_bin.shape[0] / tf)\n",
    "genres_tf_idf = genres_bin / idf"
   ]
  },
  {
   "cell_type": "markdown",
   "metadata": {
    "collapsed": true
   },
   "source": [
    "Based on this rescaled label weights, we can calculate the tag-based similarties between all pairs of tracks. We will use the Dice metric\n",
    "\n",
    "[TODO: explain DICE]"
   ]
  },
  {
   "cell_type": "code",
   "execution_count": 16,
   "metadata": {
    "collapsed": true
   },
   "outputs": [],
   "source": [
    "# the pdist function calculates all pairwise distances\n",
    "dists = pdist(genres_tf_idf, 'dice')\n",
    "\n",
    "# pdist returns a list of results. We use the squareform function to convert this into a symmetric matrix\n",
    "tag_based_track_similarities = pd.DataFrame((1 - squareform(dists)), \n",
    "                                            index   = genres_tf_idf.index,\n",
    "                                            columns = genres_tf_idf.index)"
   ]
  },
  {
   "cell_type": "markdown",
   "metadata": {},
   "source": [
    "Now we can use this to search for similar tracks using the tag-similarities:"
   ]
  },
  {
   "cell_type": "code",
   "execution_count": 17,
   "metadata": {},
   "outputs": [
    {
     "name": "stdout",
     "output_type": "stream",
     "text": [
      "index                                                               392\n",
      "track_id                                         4pj8ElgSWmmy5LT9a7jb0s\n",
      "artist_name                                                   Aerosmith\n",
      "title                                                 Toys In The Attic\n",
      "album_name                                            Toys In The Attic\n",
      "label                                                          Columbia\n",
      "duration                                                         185133\n",
      "popularity                                                           59\n",
      "year                                                               1975\n",
      "genres                [album rock, alternative rock, classic rock, h...\n",
      "playlist                                                   rockclassics\n",
      "featurespace_index                                                  392\n",
      "Name: 363, dtype: object\n"
     ]
    },
    {
     "data": {
      "text/html": [
       "<div>\n",
       "<style>\n",
       "    .dataframe thead tr:only-child th {\n",
       "        text-align: right;\n",
       "    }\n",
       "\n",
       "    .dataframe thead th {\n",
       "        text-align: left;\n",
       "    }\n",
       "\n",
       "    .dataframe tbody tr th {\n",
       "        vertical-align: top;\n",
       "    }\n",
       "</style>\n",
       "<table border=\"1\" class=\"dataframe\">\n",
       "  <thead>\n",
       "    <tr style=\"text-align: right;\">\n",
       "      <th></th>\n",
       "      <th>artist_name</th>\n",
       "      <th>title</th>\n",
       "      <th>album_name</th>\n",
       "      <th>year</th>\n",
       "      <th>genres</th>\n",
       "      <th>playlist</th>\n",
       "      <th>sim</th>\n",
       "    </tr>\n",
       "  </thead>\n",
       "  <tbody>\n",
       "    <tr>\n",
       "      <th>363</th>\n",
       "      <td>Aerosmith</td>\n",
       "      <td>Toys In The Attic</td>\n",
       "      <td>Toys In The Attic</td>\n",
       "      <td>1975</td>\n",
       "      <td>[album rock, alternative rock, classic rock, h...</td>\n",
       "      <td>rockclassics</td>\n",
       "      <td>1.000000</td>\n",
       "    </tr>\n",
       "    <tr>\n",
       "      <th>359</th>\n",
       "      <td>Lynyrd Skynyrd</td>\n",
       "      <td>Simple Man</td>\n",
       "      <td>(Pronounced 'Leh-'Nérd 'Skin-'Nérd) [Expanded ...</td>\n",
       "      <td>1973</td>\n",
       "      <td>[album rock, blues-rock, classic rock, country...</td>\n",
       "      <td>rockclassics</td>\n",
       "      <td>1.000000</td>\n",
       "    </tr>\n",
       "    <tr>\n",
       "      <th>407</th>\n",
       "      <td>Die Toten Hosen</td>\n",
       "      <td>Alles aus Liebe</td>\n",
       "      <td>Kauf mich! [Jubiläumsedition Remastered]</td>\n",
       "      <td>2007</td>\n",
       "      <td>[deep german pop rock, german pop, german punk]</td>\n",
       "      <td>rockhymns</td>\n",
       "      <td>0.941176</td>\n",
       "    </tr>\n",
       "    <tr>\n",
       "      <th>306</th>\n",
       "      <td>Led Zeppelin</td>\n",
       "      <td>Good Times Bad Times</td>\n",
       "      <td>Led Zeppelin</td>\n",
       "      <td>1969</td>\n",
       "      <td>[album rock, alternative rock, british blues, ...</td>\n",
       "      <td>rockclassics</td>\n",
       "      <td>0.941176</td>\n",
       "    </tr>\n",
       "    <tr>\n",
       "      <th>351</th>\n",
       "      <td>The Doors</td>\n",
       "      <td>Break On Through (To The Other Side)</td>\n",
       "      <td>The Doors</td>\n",
       "      <td>1967</td>\n",
       "      <td>[album rock, blues-rock, classic rock, folk ro...</td>\n",
       "      <td>rockclassics</td>\n",
       "      <td>0.941176</td>\n",
       "    </tr>\n",
       "    <tr>\n",
       "      <th>326</th>\n",
       "      <td>Fleetwood Mac</td>\n",
       "      <td>The Chain</td>\n",
       "      <td>Rumours</td>\n",
       "      <td>1977</td>\n",
       "      <td>[album rock, british blues, classic rock, folk...</td>\n",
       "      <td>rockclassics</td>\n",
       "      <td>0.941176</td>\n",
       "    </tr>\n",
       "    <tr>\n",
       "      <th>403</th>\n",
       "      <td>Royal Blood</td>\n",
       "      <td>Figure It Out</td>\n",
       "      <td>Royal Blood</td>\n",
       "      <td>2014</td>\n",
       "      <td>[alternative rock, garage rock, indie rock, mo...</td>\n",
       "      <td>rockhymns</td>\n",
       "      <td>0.914286</td>\n",
       "    </tr>\n",
       "    <tr>\n",
       "      <th>295</th>\n",
       "      <td>Jimi Hendrix</td>\n",
       "      <td>Hey Joe</td>\n",
       "      <td>Are You Experienced</td>\n",
       "      <td>1967</td>\n",
       "      <td>[album rock, blues-rock, classic funk rock, cl...</td>\n",
       "      <td>rockclassics</td>\n",
       "      <td>0.914286</td>\n",
       "    </tr>\n",
       "    <tr>\n",
       "      <th>366</th>\n",
       "      <td>Lynyrd Skynyrd</td>\n",
       "      <td>Sweet Home Alabama</td>\n",
       "      <td>Second Helping</td>\n",
       "      <td>1974</td>\n",
       "      <td>[album rock, blues-rock, classic rock, country...</td>\n",
       "      <td>rockclassics</td>\n",
       "      <td>0.914286</td>\n",
       "    </tr>\n",
       "    <tr>\n",
       "      <th>357</th>\n",
       "      <td>Queen</td>\n",
       "      <td>Bohemian Rhapsody - Remastered 2011</td>\n",
       "      <td>A Night At The Opera (2011 Remaster)</td>\n",
       "      <td>1975</td>\n",
       "      <td>[album rock, classic rock, glam rock, heavy ch...</td>\n",
       "      <td>rockclassics</td>\n",
       "      <td>0.888889</td>\n",
       "    </tr>\n",
       "  </tbody>\n",
       "</table>\n",
       "</div>"
      ],
      "text/plain": [
       "         artist_name                                 title  \\\n",
       "363        Aerosmith                     Toys In The Attic   \n",
       "359   Lynyrd Skynyrd                            Simple Man   \n",
       "407  Die Toten Hosen                       Alles aus Liebe   \n",
       "306     Led Zeppelin                  Good Times Bad Times   \n",
       "351        The Doors  Break On Through (To The Other Side)   \n",
       "326    Fleetwood Mac                             The Chain   \n",
       "403      Royal Blood                         Figure It Out   \n",
       "295     Jimi Hendrix                               Hey Joe   \n",
       "366   Lynyrd Skynyrd                    Sweet Home Alabama   \n",
       "357            Queen   Bohemian Rhapsody - Remastered 2011   \n",
       "\n",
       "                                            album_name  year  \\\n",
       "363                                  Toys In The Attic  1975   \n",
       "359  (Pronounced 'Leh-'Nérd 'Skin-'Nérd) [Expanded ...  1973   \n",
       "407           Kauf mich! [Jubiläumsedition Remastered]  2007   \n",
       "306                                       Led Zeppelin  1969   \n",
       "351                                          The Doors  1967   \n",
       "326                                            Rumours  1977   \n",
       "403                                        Royal Blood  2014   \n",
       "295                                Are You Experienced  1967   \n",
       "366                                     Second Helping  1974   \n",
       "357               A Night At The Opera (2011 Remaster)  1975   \n",
       "\n",
       "                                                genres      playlist       sim  \n",
       "363  [album rock, alternative rock, classic rock, h...  rockclassics  1.000000  \n",
       "359  [album rock, blues-rock, classic rock, country...  rockclassics  1.000000  \n",
       "407    [deep german pop rock, german pop, german punk]     rockhymns  0.941176  \n",
       "306  [album rock, alternative rock, british blues, ...  rockclassics  0.941176  \n",
       "351  [album rock, blues-rock, classic rock, folk ro...  rockclassics  0.941176  \n",
       "326  [album rock, british blues, classic rock, folk...  rockclassics  0.941176  \n",
       "403  [alternative rock, garage rock, indie rock, mo...     rockhymns  0.914286  \n",
       "295  [album rock, blues-rock, classic funk rock, cl...  rockclassics  0.914286  \n",
       "366  [album rock, blues-rock, classic rock, country...  rockclassics  0.914286  \n",
       "357  [album rock, classic rock, glam rock, heavy ch...  rockclassics  0.888889  "
      ]
     },
     "execution_count": 17,
     "metadata": {},
     "output_type": "execute_result"
    }
   ],
   "source": [
    "query_track_idx = 363\n",
    "\n",
    "print metadata_aligned.iloc[query_track_idx]\n",
    "\n",
    "# get the similar tracks from the distance-matrix\n",
    "similar_tracks_idx = tag_based_track_similarities[query_track_idx].sort_values(ascending=False).index\n",
    "\n",
    "# filter the aligned metadata\n",
    "result        = metadata_aligned.loc[similar_tracks_idx]\n",
    "result[\"sim\"] = tag_based_track_similarities.loc[query_track_idx,\n",
    "                                                 similar_tracks_idx].values\n",
    "\n",
    "# show results\n",
    "display_cols = [\"artist_name\", \"title\", \"album_name\", \"year\", \"genres\", \"playlist\", \"sim\"]\n",
    "result[display_cols][:10]"
   ]
  },
  {
   "cell_type": "markdown",
   "metadata": {},
   "source": [
    "# Interposed Question\n",
    "\n",
    "*The tag-similarities seem to be quite accurate. Why don't we use them instead of this complicated and computing intensive Neural Networks which train on audio data?*\n",
    "\n",
    "Well, this seems obvious on the first hand, but remember that we don't have labels for all artists. Thus, for those without labels, we cannot calculate similarities. But, we have audio features for all tracks. Thus, we use the subset of provided labels to train a general model based on audio content."
   ]
  },
  {
   "cell_type": "markdown",
   "metadata": {
    "collapsed": true
   },
   "source": [
    "# Train the Siamese Networks on the Tag-Similarity Ground-Truth\n",
    "\n",
    "We use the same Siamese Network architecture presented in part 2 of this tutorial. Also the method to create the pairwise training-data is the same. Please refer to part 2 for further details."
   ]
  },
  {
   "cell_type": "code",
   "execution_count": 18,
   "metadata": {
    "collapsed": true
   },
   "outputs": [],
   "source": [
    "def create_siamese_network(input_dim):\n",
    "\n",
    "    # input layers\n",
    "    input_left  = Input(shape=input_dim)\n",
    "    input_right = Input(shape=input_dim)\n",
    "\n",
    "    # shared fully connected layers\n",
    "    shared_fc_1 = Dense(100, activation=\"selu\")\n",
    "    shared_fc_2 = Dense(100, activation=\"selu\")    \n",
    "    \n",
    "    # siamese layers\n",
    "    left_twin  = shared_fc_1(shared_fc_2(input_left))\n",
    "    right_twin = shared_fc_1(shared_fc_2(input_right))\n",
    "\n",
    "    # calc difference\n",
    "    distance = Lambda(tut_func.euclidean_distance,\n",
    "                      output_shape=lambda x: x[0])([left_twin, right_twin])\n",
    "\n",
    "    return Model([input_left, input_right], distance)"
   ]
  },
  {
   "cell_type": "markdown",
   "metadata": {},
   "source": [
    "### Create Data-Pairs\n",
    "\n",
    "Now we have to prepare and partition the input data. We use the approach which considers identity. Thus, we will reduce the similarity values which have been looked-up from the distance-matrix by 0.1:"
   ]
  },
  {
   "cell_type": "code",
   "execution_count": 19,
   "metadata": {
    "collapsed": true
   },
   "outputs": [],
   "source": [
    "def create_pairs_with_sims_and_identity(feature_data, metadata, num_pairs_per_track, sims):\n",
    "    \n",
    "    data_pairs = []\n",
    "    labels     = []\n",
    "    \n",
    "    for row_id, q_track in metadata.sample(frac=1).iterrows():\n",
    "        \n",
    "        # identical pair\n",
    "        data_pairs.append([feature_data[[row_id]][0], feature_data[[row_id]][0]])\n",
    "        labels.append(1)\n",
    "                \n",
    "        for _ in range(num_pairs_per_track):\n",
    "            \n",
    "            # search similar and dissimilar examples\n",
    "            pos_example = metadata[metadata.playlist == q_track.playlist].sample(1)\n",
    "            neg_example = metadata[metadata.playlist != q_track.playlist].sample(1)\n",
    "\n",
    "            # create feature pairs\n",
    "            \n",
    "            # similar pair\n",
    "            data_pairs.append([feature_data[[metadata.loc[row_id].featurespace_index]][0], feature_data[[pos_example.featurespace_index]][0]])\n",
    "            sim_val = sims.iloc[row_id, pos_example.index].values[0] - 0.1\n",
    "            labels.append(np.max([0, sim_val]))\n",
    "            \n",
    "            # dissimilar pair\n",
    "            data_pairs.append([feature_data[[metadata.loc[row_id].featurespace_index]][0], feature_data[[neg_example.featurespace_index]][0]])\n",
    "            sim_val = sims.iloc[row_id, neg_example.index].values[0] - 0.1\n",
    "            labels.append(np.max([0, sim_val]))\n",
    "            \n",
    "\n",
    "    return np.array(data_pairs), np.array(labels)"
   ]
  },
  {
   "cell_type": "markdown",
   "metadata": {},
   "source": [
    "Execute the function to prepare the data:"
   ]
  },
  {
   "cell_type": "code",
   "execution_count": 20,
   "metadata": {},
   "outputs": [
    {
     "data": {
      "text/plain": [
       "(18732, 2, 69)"
      ]
     },
     "execution_count": 20,
     "metadata": {},
     "output_type": "execute_result"
    }
   ],
   "source": [
    "data_pairs, labels = create_pairs_with_sims_and_identity(feature_data, \n",
    "                                                         metadata_aligned, \n",
    "                                                         10, \n",
    "                                                         tag_based_track_similarities)\n",
    "\n",
    "data_pairs.shape"
   ]
  },
  {
   "cell_type": "markdown",
   "metadata": {},
   "source": [
    "Prepare the Siamese Neural Network"
   ]
  },
  {
   "cell_type": "code",
   "execution_count": 21,
   "metadata": {},
   "outputs": [],
   "source": [
    "# define the model\n",
    "model = create_siamese_network(data_pairs[:,0].shape[1:])\n",
    "\n",
    "# define the optimizer\n",
    "opt = Nadam(lr=0.001)\n",
    "\n",
    "# compile the model\n",
    "model.compile(loss      = tut_func.contrastive_loss, \n",
    "              optimizer = opt)"
   ]
  },
  {
   "cell_type": "markdown",
   "metadata": {},
   "source": [
    "Train the network on the tag-similarity ground-truth"
   ]
  },
  {
   "cell_type": "code",
   "execution_count": 22,
   "metadata": {},
   "outputs": [
    {
     "data": {
      "image/png": "[encoded data removed]",
      "text/plain": [
       "<matplotlib.figure.Figure at 0x7fd5bacad050>"
      ]
     },
     "metadata": {},
     "output_type": "display_data"
    }
   ],
   "source": [
    "model.fit([data_pairs[:, 0], data_pairs[:, 1]], \n",
    "                labels, \n",
    "                batch_size       = 24, \n",
    "                verbose          = 0, \n",
    "                epochs           = 25, \n",
    "                callbacks        = [tut_func.PlotLosses()], \n",
    "                validation_split = 0.1);"
   ]
  },
  {
   "cell_type": "markdown",
   "metadata": {},
   "source": [
    "### Evaluate by Example\n",
    "\n",
    "The following function calculated the distances between a given query track and all other tracks of the collection. The result is a list of distances where the smallest distance coresponds with the most similar track. The list is sorted descendingly and the top-ten similar tracks are presented below the information of the query track. The Spotify playlist we created at the beginning will also be updated with the query results. Thus, you can listen to it in your Spotify client."
   ]
  },
  {
   "cell_type": "code",
   "execution_count": 23,
   "metadata": {
    "collapsed": true
   },
   "outputs": [],
   "source": [
    "def similar(model, query_idx):\n",
    "    \n",
    "    print metadata.iloc[query_idx]\n",
    "    \n",
    "    # calclulate predicted distances between query track and all others\n",
    "    res = [model.predict([feature_data[[query_idx]], feature_data[[i]]]) for i in range(feature_data.shape[0])]\n",
    "\n",
    "    # reshape\n",
    "    res = np.array(res)\n",
    "    res = res.reshape(res.shape[0])\n",
    "\n",
    "    # get sorted indexes in ascending order (smallest distance to query track first)\n",
    "    si = np.argsort(res)\n",
    "    \n",
    "    # update spotify playlist\n",
    "    sp.user_playlist_replace_tracks(SPOTIFY_USER, sp_playlist_id, metadata.loc[si, \"track_id\"][:10])\n",
    "    \n",
    "    # output filter\n",
    "    display_cols = [\"artist_name\", \"title\", \"album_name\", \"year\",\"playlist\"]\n",
    "    \n",
    "    return metadata.loc[si, display_cols][:10]"
   ]
  },
  {
   "cell_type": "markdown",
   "metadata": {},
   "source": [
    "Now let's check the results for some individual tracks by supplying the index to our dataset:"
   ]
  },
  {
   "cell_type": "code",
   "execution_count": 47,
   "metadata": {},
   "outputs": [
    {
     "name": "stdout",
     "output_type": "stream",
     "text": [
      "track_id                                         7o2CTH4ctstm8TNelqjb51\n",
      "artist_name                                               Guns N' Roses\n",
      "title                                               Sweet Child O' Mine\n",
      "album_name                                     Appetite For Destruction\n",
      "label                          Digital Distribution Trinidad and Tobago\n",
      "duration                                                         356080\n",
      "popularity                                                           80\n",
      "year                                                               1987\n",
      "genres                [album rock, alternative rock, classic rock, g...\n",
      "playlist                                                   rockclassics\n",
      "featurespace_index                                                  330\n",
      "Name: 330, dtype: object\n"
     ]
    },
    {
     "data": {
      "text/html": [
       "<div>\n",
       "<style>\n",
       "    .dataframe thead tr:only-child th {\n",
       "        text-align: right;\n",
       "    }\n",
       "\n",
       "    .dataframe thead th {\n",
       "        text-align: left;\n",
       "    }\n",
       "\n",
       "    .dataframe tbody tr th {\n",
       "        vertical-align: top;\n",
       "    }\n",
       "</style>\n",
       "<table border=\"1\" class=\"dataframe\">\n",
       "  <thead>\n",
       "    <tr style=\"text-align: right;\">\n",
       "      <th></th>\n",
       "      <th>artist_name</th>\n",
       "      <th>title</th>\n",
       "      <th>album_name</th>\n",
       "      <th>year</th>\n",
       "      <th>playlist</th>\n",
       "    </tr>\n",
       "  </thead>\n",
       "  <tbody>\n",
       "    <tr>\n",
       "      <th>330</th>\n",
       "      <td>Guns N' Roses</td>\n",
       "      <td>Sweet Child O' Mine</td>\n",
       "      <td>Appetite For Destruction</td>\n",
       "      <td>1987</td>\n",
       "      <td>rockclassics</td>\n",
       "    </tr>\n",
       "    <tr>\n",
       "      <th>373</th>\n",
       "      <td>Guns N' Roses</td>\n",
       "      <td>Welcome To The Jungle</td>\n",
       "      <td>Greatest Hits</td>\n",
       "      <td>2004</td>\n",
       "      <td>rockclassics</td>\n",
       "    </tr>\n",
       "    <tr>\n",
       "      <th>422</th>\n",
       "      <td>Guns N' Roses</td>\n",
       "      <td>Welcome To The Jungle</td>\n",
       "      <td>Appetite For Destruction</td>\n",
       "      <td>1987</td>\n",
       "      <td>rockhymns</td>\n",
       "    </tr>\n",
       "    <tr>\n",
       "      <th>299</th>\n",
       "      <td>Black Sabbath</td>\n",
       "      <td>Iron Man - Remastered Version</td>\n",
       "      <td>Paranoid (Remastered Edition)</td>\n",
       "      <td>1970</td>\n",
       "      <td>rockclassics</td>\n",
       "    </tr>\n",
       "    <tr>\n",
       "      <th>652</th>\n",
       "      <td>Motörhead</td>\n",
       "      <td>Ace of Spades</td>\n",
       "      <td>Ace of Spades (Expanded Edition)</td>\n",
       "      <td>1980</td>\n",
       "      <td>metal</td>\n",
       "    </tr>\n",
       "    <tr>\n",
       "      <th>387</th>\n",
       "      <td>Guns N' Roses</td>\n",
       "      <td>Paradise City</td>\n",
       "      <td>Appetite For Destruction</td>\n",
       "      <td>1987</td>\n",
       "      <td>rockclassics</td>\n",
       "    </tr>\n",
       "    <tr>\n",
       "      <th>288</th>\n",
       "      <td>The Allman Brothers Band</td>\n",
       "      <td>Ramblin' Man</td>\n",
       "      <td>Brothers And Sisters (Deluxe Edition)</td>\n",
       "      <td>1973</td>\n",
       "      <td>rockclassics</td>\n",
       "    </tr>\n",
       "    <tr>\n",
       "      <th>743</th>\n",
       "      <td>Soundgarden</td>\n",
       "      <td>Black Hole Sun</td>\n",
       "      <td>Superunknown (20th Anniversary)</td>\n",
       "      <td>1994</td>\n",
       "      <td>grunge</td>\n",
       "    </tr>\n",
       "    <tr>\n",
       "      <th>331</th>\n",
       "      <td>Van Halen</td>\n",
       "      <td>Runnin' With The Devil</td>\n",
       "      <td>Van Halen (Reissue)</td>\n",
       "      <td>1978</td>\n",
       "      <td>rockclassics</td>\n",
       "    </tr>\n",
       "    <tr>\n",
       "      <th>294</th>\n",
       "      <td>Motörhead</td>\n",
       "      <td>Ace Of Spades</td>\n",
       "      <td>The Best Of Motorhead: All The Aces/ The Mugge...</td>\n",
       "      <td>2001</td>\n",
       "      <td>rockclassics</td>\n",
       "    </tr>\n",
       "  </tbody>\n",
       "</table>\n",
       "</div>"
      ],
      "text/plain": [
       "                  artist_name                          title  \\\n",
       "330             Guns N' Roses            Sweet Child O' Mine   \n",
       "373             Guns N' Roses          Welcome To The Jungle   \n",
       "422             Guns N' Roses          Welcome To The Jungle   \n",
       "299             Black Sabbath  Iron Man - Remastered Version   \n",
       "652                 Motörhead                  Ace of Spades   \n",
       "387             Guns N' Roses                  Paradise City   \n",
       "288  The Allman Brothers Band                   Ramblin' Man   \n",
       "743               Soundgarden                 Black Hole Sun   \n",
       "331                 Van Halen         Runnin' With The Devil   \n",
       "294                 Motörhead                  Ace Of Spades   \n",
       "\n",
       "                                            album_name  year      playlist  \n",
       "330                           Appetite For Destruction  1987  rockclassics  \n",
       "373                                      Greatest Hits  2004  rockclassics  \n",
       "422                           Appetite For Destruction  1987     rockhymns  \n",
       "299                      Paranoid (Remastered Edition)  1970  rockclassics  \n",
       "652                   Ace of Spades (Expanded Edition)  1980         metal  \n",
       "387                           Appetite For Destruction  1987  rockclassics  \n",
       "288              Brothers And Sisters (Deluxe Edition)  1973  rockclassics  \n",
       "743                    Superunknown (20th Anniversary)  1994        grunge  \n",
       "331                                Van Halen (Reissue)  1978  rockclassics  \n",
       "294  The Best Of Motorhead: All The Aces/ The Mugge...  2001  rockclassics  "
      ]
     },
     "execution_count": 47,
     "metadata": {},
     "output_type": "execute_result"
    }
   ],
   "source": [
    "similar(model, 330)"
   ]
  },
  {
   "cell_type": "markdown",
   "metadata": {
    "collapsed": true
   },
   "source": [
    "# Using LSTMs to train on Sequential Data\n",
    "\n",
    "This is again identical to part 2. We just use the improved ground-truth data which we have created from the genre tags using tag-similarity metrics."
   ]
  },
  {
   "cell_type": "code",
   "execution_count": 25,
   "metadata": {
    "collapsed": true
   },
   "outputs": [],
   "source": [
    "def aggregate_features_sequential(seq_data, track_data, len_segment_frames, len_segment_sec, m_data, with_year=False, with_popularity=False):\n",
    "    \n",
    "    # sequential data\n",
    "    segments = seq_data[\"segments\"]\n",
    "    sl       = len(segments)\n",
    "    \n",
    "    mfcc              = np.array([s[\"timbre\"]            for s in segments])\n",
    "    chroma            = np.array([s[\"pitches\"]           for s in segments])\n",
    "    loudness_max      = np.array([s[\"loudness_max\"]      for s in segments]).reshape((sl,1))\n",
    "    loudness_start    = np.array([s[\"loudness_start\"]    for s in segments]).reshape((sl,1))\n",
    "    loudness_max_time = np.array([s[\"loudness_max_time\"] for s in segments]).reshape((sl,1))\n",
    "    duration          = np.array([s[\"duration\"]          for s in segments]).reshape((sl,1))\n",
    "    confidence        = np.array([s[\"confidence\"]        for s in segments]).reshape((sl,1))\n",
    "        \n",
    "    # concatenate sequential features\n",
    "    sequential_features = np.concatenate([mfcc, chroma, loudness_max, loudness_start, \n",
    "                                          loudness_max_time, duration, confidence], axis=1)\n",
    "\n",
    "    # calculate length of segment (in ms)\n",
    "    length_of_track        = track_data[0][\"duration_ms\"] / 1000.\n",
    "    length_of_segment      = length_of_track / len(segments)\n",
    "    num_segments_for_n_sek = int(np.round(len_segment_sec / length_of_segment))\n",
    "    \n",
    "    # select a random lstm-input-segment from the aggregated feature data\n",
    "    offset  = np.random.randint(0, sl - num_segments_for_n_sek)\n",
    "    segment = sequential_features[offset:(offset+num_segments_for_n_sek),:]\n",
    "    \n",
    "    # re-scale segment length to desired length (in seconds)\n",
    "    x  = np.arange(segment.shape[0])\n",
    "    y  = np.arange(segment.shape[1])\n",
    "    xx = np.linspace(x.min(),x.max(),len_segment_frames)\n",
    "\n",
    "    newKernel = RectBivariateSpline(x,y,segment, kx=2,ky=2)\n",
    "    segment   = newKernel(xx,y)\n",
    "        \n",
    "    # track-based data\n",
    "    track_features = [track_data[0][\"acousticness\"],     # acoustic or not?\n",
    "                      track_data[0][\"danceability\"],     # danceable?\n",
    "                      track_data[0][\"energy\"],           # energetic or calm?\n",
    "                      track_data[0][\"instrumentalness\"], # is somebody singing?\n",
    "                      track_data[0][\"liveness\"],         # live or studio?\n",
    "                      track_data[0][\"speechiness\"],      # rap or singing?\n",
    "                      track_data[0][\"tempo\"],            # slow or fast?\n",
    "                      track_data[0][\"time_signature\"],   # 3/4, 4/4, 6/8, etc.\n",
    "                      track_data[0][\"valence\"]]          # happy or sad?\n",
    "    \n",
    "    if with_year:\n",
    "        track_features.append(int(m_data[\"year\"]))\n",
    "        \n",
    "    if with_popularity:\n",
    "        track_features.append(int(m_data[\"popularity\"]))\n",
    "        \n",
    "    \n",
    "    return segment, track_features\n"
   ]
  },
  {
   "cell_type": "markdown",
   "metadata": {},
   "source": [
    "Now lets prepare the input features. We will be using the following parameters"
   ]
  },
  {
   "cell_type": "code",
   "execution_count": 26,
   "metadata": {
    "collapsed": true
   },
   "outputs": [],
   "source": [
    "# number of input-vectors for the LSTM\n",
    "len_segment_frames = 24\n",
    "\n",
    "# number of seconds these vectors describe\n",
    "len_segment_sec    = 6."
   ]
  },
  {
   "cell_type": "markdown",
   "metadata": {},
   "source": [
    "execute the function to prepare the data:"
   ]
  },
  {
   "cell_type": "code",
   "execution_count": 27,
   "metadata": {},
   "outputs": [
    {
     "name": "stdout",
     "output_type": "stream",
     "text": [
      "sequential_features.shape: (940, 24, 29)\n",
      "trackbased_features.shape: (940, 11)\n"
     ]
    }
   ],
   "source": [
    "sequential_features = []\n",
    "trackbased_features = []\n",
    "\n",
    "for i, (_, spotify_data) in enumerate(raw_track_data):\n",
    "    \n",
    "    _, _, _, f_sequential, f_trackbased = spotify_data\n",
    "    \n",
    "    seq_feat, track_feat = aggregate_features_sequential(f_sequential, \n",
    "                                                         f_trackbased, \n",
    "                                                         len_segment_frames,\n",
    "                                                         len_segment_sec,\n",
    "                                                         metadata.loc[i],\n",
    "                                                         with_year=True,\n",
    "                                                         with_popularity=True)\n",
    "    \n",
    "    sequential_features.append(seq_feat)\n",
    "    trackbased_features.append(track_feat)\n",
    "    \n",
    "sequential_features = np.asarray(sequential_features)\n",
    "trackbased_features = np.asarray(trackbased_features)\n",
    "\n",
    "print \"sequential_features.shape:\", sequential_features.shape\n",
    "print \"trackbased_features.shape:\", trackbased_features.shape"
   ]
  },
  {
   "cell_type": "markdown",
   "metadata": {},
   "source": [
    "### Normalization\n",
    "\n",
    "As in the examples before, we need to normalize the data before using it with the neural networks"
   ]
  },
  {
   "cell_type": "code",
   "execution_count": 28,
   "metadata": {
    "collapsed": true
   },
   "outputs": [],
   "source": [
    "# standardize sequential_features\n",
    "rows, x, y = sequential_features.shape\n",
    "sequential_features  = sequential_features.reshape(rows, (x * y))\n",
    "sequential_features -= sequential_features.mean(axis=0)\n",
    "sequential_features /= sequential_features.std(axis=0)\n",
    "sequential_features  = sequential_features.reshape(rows, x, y)\n",
    "\n",
    "# standardize trackbased_features\n",
    "trackbased_features -= trackbased_features.mean(axis=0)\n",
    "trackbased_features /= trackbased_features.std(axis=0)"
   ]
  },
  {
   "cell_type": "markdown",
   "metadata": {},
   "source": [
    "### Create Data-Pairs\n",
    "\n",
    "Also like before, we have to prepare the paired training examples. We continue with the last approach presented in this part, which is based on the mutual similarities and includes identities. Each pair contains the sequential and track-based inputs."
   ]
  },
  {
   "cell_type": "code",
   "execution_count": 34,
   "metadata": {
    "collapsed": true
   },
   "outputs": [],
   "source": [
    "def create_pairs_with_sims_and_identity_segments(sequential_features, trackbased_features, metadata, num_pairs_per_track, sims):\n",
    "    \n",
    "    data_pairs_seq   = []\n",
    "    data_pairs_track = []\n",
    "    labels           = []\n",
    "    \n",
    "    for row_id, q_track in metadata.sample(frac=1).iterrows():\n",
    "        \n",
    "        query_segment      = sequential_features[[metadata.loc[row_id].featurespace_index]][0]\n",
    "        query_track_vector = trackbased_features[[metadata.loc[row_id].featurespace_index]][0]\n",
    "        \n",
    "        data_pairs_seq.append([query_segment, query_segment])\n",
    "        data_pairs_track.append([query_track_vector, query_track_vector])\n",
    "        labels.append(1)\n",
    "        \n",
    "        for _ in range(num_pairs_per_track):\n",
    "            \n",
    "            # search similar and dissimilar examples\n",
    "            pos_example = metadata[metadata.playlist == q_track.playlist].sample(1)\n",
    "            neg_example = metadata[metadata.playlist != q_track.playlist].sample(1)\n",
    "\n",
    "            # create feature pairs\n",
    "            data_pairs_seq.append([query_segment, sequential_features[[pos_example.featurespace_index]][0]])\n",
    "            data_pairs_track.append([query_track_vector, trackbased_features[[pos_example.featurespace_index]][0]])\n",
    "            labels.append(np.max([0, sims.iloc[row_id, pos_example.index].values[0] - 0.1]))\n",
    "\n",
    "            data_pairs_seq.append([query_segment, sequential_features[[neg_example.featurespace_index]][0]])\n",
    "            data_pairs_track.append([query_track_vector, trackbased_features[[neg_example.featurespace_index]][0]])\n",
    "            labels.append(np.max([0, sims.iloc[row_id, neg_example.index].values[0] - 0.1]))\n",
    "\n",
    "    return np.array(data_pairs_seq), np.array(data_pairs_track), np.asarray(labels)"
   ]
  },
  {
   "cell_type": "markdown",
   "metadata": {},
   "source": [
    "Execute the function to prepare the results:"
   ]
  },
  {
   "cell_type": "code",
   "execution_count": 35,
   "metadata": {},
   "outputs": [],
   "source": [
    "data_pairs_seq, data_pairs_track, labels = create_pairs_with_sims_and_identity_segments(sequential_features,\n",
    "                                                                                        trackbased_features,\n",
    "                                                                                        metadata_aligned, \n",
    "                                                                                        10,\n",
    "                                                                                        tag_based_track_similarities)"
   ]
  },
  {
   "cell_type": "markdown",
   "metadata": {},
   "source": [
    "### The Siamese Network Architecture using LSTMs\n",
    "\n",
    "The network architecture consists again of shared \"twin\" layers. But, now two layers are shared. First the fully connected layers which train on the track-based features. Second, a bi-directional LSTM which trains on the re-scaled sequential data provided by the Spotify API. The network thus now takes four inputs. The outputs of the fully connected layer and the LSTM are finally joined and the Eucledian distance of each twin is calculated which is the final output of the model."
   ]
  },
  {
   "cell_type": "code",
   "execution_count": 39,
   "metadata": {
    "collapsed": true
   },
   "outputs": [],
   "source": [
    "def create_siamese_network_with_lstm(data_pairs_seq, data_pairs_track):\n",
    "\n",
    "    # sequential input\n",
    "    input_seq_left  = Input(shape=data_pairs_seq[:, 0].shape[1:])\n",
    "    input_seq_right = Input(shape=data_pairs_seq[:, 0].shape[1:])\n",
    "\n",
    "    # track-based input\n",
    "    input_track_left  = Input(shape=data_pairs_track[:, 0].shape[1:])\n",
    "    input_track_right = Input(shape=data_pairs_track[:, 0].shape[1:])\n",
    "\n",
    "    # shared bi-directional LSTM layer for the sequential features\n",
    "    bdlstm = Bidirectional(LSTM(29, return_sequences=False, activation=\"selu\"))\n",
    "\n",
    "    # shared fully connected layers for the track-based features\n",
    "    shared_fc_1 = Dense(11, activation=\"selu\")\n",
    "    shared_fc_2 = Dense(11, activation=\"selu\")   \n",
    "\n",
    "    # left twin\n",
    "    seq_resp_left   = bdlstm(input_seq_left)\n",
    "    track_resp_left = shared_fc_1(shared_fc_2(input_track_left))\n",
    "    left_twin       = concatenate([seq_resp_left, track_resp_left], axis=1)\n",
    "\n",
    "    # right twin\n",
    "    seq_resp_right   = bdlstm(input_seq_right)\n",
    "    track_resp_right = shared_fc_1(shared_fc_2(input_track_right))\n",
    "    right_twin       = concatenate([seq_resp_right, track_resp_right], axis=1)\n",
    "\n",
    "    # calc difference\n",
    "    distance = Lambda(tut_func.euclidean_distance,\n",
    "                      output_shape=lambda x: x[0])([left_twin, right_twin])\n",
    "\n",
    "    return Model([input_seq_left, input_seq_right, input_track_left, input_track_right], distance)"
   ]
  },
  {
   "cell_type": "markdown",
   "metadata": {},
   "source": [
    "Prepare the model:"
   ]
  },
  {
   "cell_type": "code",
   "execution_count": 41,
   "metadata": {},
   "outputs": [],
   "source": [
    "# define the model\n",
    "model_rnn = create_siamese_network_with_lstm(data_pairs_seq, data_pairs_track)\n",
    "\n",
    "# define the optimizer\n",
    "opt = Nadam(lr=0.001)\n",
    "\n",
    "# compile the model\n",
    "model_rnn.compile(loss      = tut_func.contrastive_loss, \n",
    "                  optimizer = opt)"
   ]
  },
  {
   "cell_type": "markdown",
   "metadata": {},
   "source": [
    "Train the model"
   ]
  },
  {
   "cell_type": "code",
   "execution_count": 42,
   "metadata": {},
   "outputs": [
    {
     "data": {
      "image/png": "[encoded data removed]",
      "text/plain": [
       "<matplotlib.figure.Figure at 0x7fd593435690>"
      ]
     },
     "metadata": {},
     "output_type": "display_data"
    },
    {
     "data": {
      "text/plain": [
       "<keras.callbacks.History at 0x7fd5950f0450>"
      ]
     },
     "execution_count": 42,
     "metadata": {},
     "output_type": "execute_result"
    }
   ],
   "source": [
    "model_rnn.fit([data_pairs_seq[:, 0],  data_pairs_seq[:, 1], \n",
    "               data_pairs_track[:,0], data_pairs_track[:,1]], \n",
    "              labels, \n",
    "              batch_size       = 24, \n",
    "              verbose          = 0, \n",
    "              epochs           = 25,\n",
    "              callbacks        = [tut_func.PlotLosses()], \n",
    "              validation_split = 0.1);"
   ]
  },
  {
   "cell_type": "markdown",
   "metadata": {},
   "source": [
    "### Evaluate by Example\n",
    "\n",
    "Due to the changed input, we also have to adapt the evaluation function to display example result-lists:"
   ]
  },
  {
   "cell_type": "code",
   "execution_count": 43,
   "metadata": {
    "collapsed": true
   },
   "outputs": [],
   "source": [
    "def similar_rnn(model, query_idx):\n",
    "    \n",
    "    print metadata.iloc[query_idx]\n",
    "    \n",
    "    # calclulate predicted distances between query track and all others\n",
    "    res = [model.predict([sequential_features[[query_idx]], sequential_features[[i]], \n",
    "                          trackbased_features[[query_idx]], trackbased_features[[i]]]) \\\n",
    "           for i in range(feature_data.shape[0])]\n",
    "\n",
    "    # reshape\n",
    "    res = np.array(res)\n",
    "    res = res.reshape(res.shape[0])\n",
    "\n",
    "    # get sorted indexes in ascending order (smallest distance to query track first)\n",
    "    si = np.argsort(res)\n",
    "    \n",
    "    # update spotify playlist\n",
    "    sp.user_playlist_replace_tracks(SPOTIFY_USER, sp_playlist_id, metadata.loc[si, \"track_id\"][:10])\n",
    "    \n",
    "    # output filter\n",
    "    display_cols = [\"artist_name\", \"title\", \"album_name\", \"year\",\"playlist\"]\n",
    "    \n",
    "    return metadata.loc[si, display_cols][:10]"
   ]
  },
  {
   "cell_type": "markdown",
   "metadata": {},
   "source": [
    "Now let's check the results for some individual tracks by supplying the index to our dataset:"
   ]
  },
  {
   "cell_type": "code",
   "execution_count": 48,
   "metadata": {},
   "outputs": [
    {
     "name": "stdout",
     "output_type": "stream",
     "text": [
      "track_id                                         7o2CTH4ctstm8TNelqjb51\n",
      "artist_name                                               Guns N' Roses\n",
      "title                                               Sweet Child O' Mine\n",
      "album_name                                     Appetite For Destruction\n",
      "label                          Digital Distribution Trinidad and Tobago\n",
      "duration                                                         356080\n",
      "popularity                                                           80\n",
      "year                                                               1987\n",
      "genres                [album rock, alternative rock, classic rock, g...\n",
      "playlist                                                   rockclassics\n",
      "featurespace_index                                                  330\n",
      "Name: 330, dtype: object\n"
     ]
    },
    {
     "data": {
      "text/html": [
       "<div>\n",
       "<style>\n",
       "    .dataframe thead tr:only-child th {\n",
       "        text-align: right;\n",
       "    }\n",
       "\n",
       "    .dataframe thead th {\n",
       "        text-align: left;\n",
       "    }\n",
       "\n",
       "    .dataframe tbody tr th {\n",
       "        vertical-align: top;\n",
       "    }\n",
       "</style>\n",
       "<table border=\"1\" class=\"dataframe\">\n",
       "  <thead>\n",
       "    <tr style=\"text-align: right;\">\n",
       "      <th></th>\n",
       "      <th>artist_name</th>\n",
       "      <th>title</th>\n",
       "      <th>album_name</th>\n",
       "      <th>year</th>\n",
       "      <th>playlist</th>\n",
       "    </tr>\n",
       "  </thead>\n",
       "  <tbody>\n",
       "    <tr>\n",
       "      <th>330</th>\n",
       "      <td>Guns N' Roses</td>\n",
       "      <td>Sweet Child O' Mine</td>\n",
       "      <td>Appetite For Destruction</td>\n",
       "      <td>1987</td>\n",
       "      <td>rockclassics</td>\n",
       "    </tr>\n",
       "    <tr>\n",
       "      <th>490</th>\n",
       "      <td>REO Speedwagon</td>\n",
       "      <td>Keep on Loving You - Remastered</td>\n",
       "      <td>Hi Infidelity (30th Anniversary Edition)</td>\n",
       "      <td>1980</td>\n",
       "      <td>soft_rock</td>\n",
       "    </tr>\n",
       "    <tr>\n",
       "      <th>705</th>\n",
       "      <td>Van Halen</td>\n",
       "      <td>Eruption - 2015 Remastered Version</td>\n",
       "      <td>Van Halen (Remastered)</td>\n",
       "      <td>1978</td>\n",
       "      <td>classic_metal</td>\n",
       "    </tr>\n",
       "    <tr>\n",
       "      <th>387</th>\n",
       "      <td>Guns N' Roses</td>\n",
       "      <td>Paradise City</td>\n",
       "      <td>Appetite For Destruction</td>\n",
       "      <td>1987</td>\n",
       "      <td>rockclassics</td>\n",
       "    </tr>\n",
       "    <tr>\n",
       "      <th>756</th>\n",
       "      <td>The Presidents Of The United States Of America</td>\n",
       "      <td>Lump</td>\n",
       "      <td>The Presidents of The United States of America...</td>\n",
       "      <td>1995</td>\n",
       "      <td>grunge</td>\n",
       "    </tr>\n",
       "    <tr>\n",
       "      <th>759</th>\n",
       "      <td>Nirvana</td>\n",
       "      <td>About A Girl</td>\n",
       "      <td>Bleach: Deluxe Edition</td>\n",
       "      <td>1989</td>\n",
       "      <td>grunge</td>\n",
       "    </tr>\n",
       "    <tr>\n",
       "      <th>397</th>\n",
       "      <td>Aerosmith</td>\n",
       "      <td>Dream On</td>\n",
       "      <td>Aerosmith</td>\n",
       "      <td>1973</td>\n",
       "      <td>rockclassics</td>\n",
       "    </tr>\n",
       "    <tr>\n",
       "      <th>360</th>\n",
       "      <td>Kansas</td>\n",
       "      <td>Carry on Wayward Son</td>\n",
       "      <td>Leftoverture</td>\n",
       "      <td>1976</td>\n",
       "      <td>rockclassics</td>\n",
       "    </tr>\n",
       "    <tr>\n",
       "      <th>560</th>\n",
       "      <td>Ozzy Osbourne</td>\n",
       "      <td>Mama, I'm Coming Home</td>\n",
       "      <td>No More Tears (Bonus Track Version)</td>\n",
       "      <td>1991</td>\n",
       "      <td>soft_rock</td>\n",
       "    </tr>\n",
       "    <tr>\n",
       "      <th>707</th>\n",
       "      <td>Iron Maiden</td>\n",
       "      <td>Run to the Hills - 1998 Remastered Version</td>\n",
       "      <td>The Number Of The Beast (1998 Remastered Edition)</td>\n",
       "      <td>1982</td>\n",
       "      <td>classic_metal</td>\n",
       "    </tr>\n",
       "  </tbody>\n",
       "</table>\n",
       "</div>"
      ],
      "text/plain": [
       "                                        artist_name  \\\n",
       "330                                   Guns N' Roses   \n",
       "490                                  REO Speedwagon   \n",
       "705                                       Van Halen   \n",
       "387                                   Guns N' Roses   \n",
       "756  The Presidents Of The United States Of America   \n",
       "759                                         Nirvana   \n",
       "397                                       Aerosmith   \n",
       "360                                          Kansas   \n",
       "560                                   Ozzy Osbourne   \n",
       "707                                     Iron Maiden   \n",
       "\n",
       "                                          title  \\\n",
       "330                         Sweet Child O' Mine   \n",
       "490             Keep on Loving You - Remastered   \n",
       "705          Eruption - 2015 Remastered Version   \n",
       "387                               Paradise City   \n",
       "756                                        Lump   \n",
       "759                                About A Girl   \n",
       "397                                    Dream On   \n",
       "360                        Carry on Wayward Son   \n",
       "560                       Mama, I'm Coming Home   \n",
       "707  Run to the Hills - 1998 Remastered Version   \n",
       "\n",
       "                                            album_name  year       playlist  \n",
       "330                           Appetite For Destruction  1987   rockclassics  \n",
       "490           Hi Infidelity (30th Anniversary Edition)  1980      soft_rock  \n",
       "705                             Van Halen (Remastered)  1978  classic_metal  \n",
       "387                           Appetite For Destruction  1987   rockclassics  \n",
       "756  The Presidents of The United States of America...  1995         grunge  \n",
       "759                             Bleach: Deluxe Edition  1989         grunge  \n",
       "397                                          Aerosmith  1973   rockclassics  \n",
       "360                                       Leftoverture  1976   rockclassics  \n",
       "560                No More Tears (Bonus Track Version)  1991      soft_rock  \n",
       "707  The Number Of The Beast (1998 Remastered Edition)  1982  classic_metal  "
      ]
     },
     "execution_count": 48,
     "metadata": {},
     "output_type": "execute_result"
    }
   ],
   "source": [
    "similar_rnn(model_rnn, 330)"
   ]
  },
  {
   "cell_type": "markdown",
   "metadata": {},
   "source": [
    "# Conclusions\n",
    "\n",
    "[TODO: write conclusions]\n"
   ]
  }
 ],
 "metadata": {
  "kernelspec": {
   "display_name": "Python 2",
   "language": "python",
   "name": "python2"
  },
  "language_info": {
   "codemirror_mode": {
    "name": "ipython",
    "version": 2
   },
   "file_extension": ".py",
   "mimetype": "text/x-python",
   "name": "python",
   "nbconvert_exporter": "python",
   "pygments_lexer": "ipython2",
   "version": "2.7.12"
  },
  "notify_time": "5",
  "toc": {
   "toc_cell": false,
   "toc_number_sections": true,
   "toc_threshold": 6,
   "toc_window_display": false
  }
 },
 "nbformat": 4,
 "nbformat_minor": 1
}
