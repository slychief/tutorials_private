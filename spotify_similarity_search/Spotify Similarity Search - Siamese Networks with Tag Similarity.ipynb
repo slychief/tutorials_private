{
 "cells": [
  {
   "cell_type": "markdown",
   "metadata": {},
   "source": [
    "# Finding Similar Songs on Spotify - Part 3 - Siamese Networks with Tag Similarity\n",
    "\n",
    "In this tutorial I will demonstrate how to apply machine learning to search for similar songs on Spotify.\n",
    "\n",
    "\n",
    "## Tutorial Overview\n",
    "\n",
    "1. Loading data\n",
    "2. Preprocess data\n",
    "3. Define Model\n",
    "4. Fit Model\n",
    "5. Evaluate Model\n",
    "\n"
   ]
  },
  {
   "cell_type": "markdown",
   "metadata": {},
   "source": [
    "## Requiremnts\n",
    "\n",
    "Install the following dependencies to run this tutorial:"
   ]
  },
  {
   "cell_type": "code",
   "execution_count": 1,
   "metadata": {
    "ExecuteTime": {
     "end_time": "2017-08-24T10:20:32.488000Z",
     "start_time": "2017-08-24T10:20:32.483000Z"
    },
    "collapsed": true
   },
   "outputs": [],
   "source": [
    "%load_ext autoreload\n",
    "\n",
    "%autoreload 2\n",
    "\n",
    "# visualization\n",
    "%matplotlib inline\n",
    "import matplotlib\n",
    "import matplotlib.pyplot as plt\n",
    "matplotlib.style.use('ggplot')\n",
    "\n",
    "# numeric and scientific processing\n",
    "import numpy as np\n",
    "import pandas as pd\n",
    "\n",
    "# misc\n",
    "import os\n",
    "import progressbar\n",
    "\n",
    "import tutorial_functions as tut_func"
   ]
  },
  {
   "cell_type": "markdown",
   "metadata": {},
   "source": [
    "**Spotipy**\n",
    "\n",
    "Spotipy is a thin client library for the Spotify Web API.\n",
    "\n",
    "https://github.com/plamere/spotipy"
   ]
  },
  {
   "cell_type": "code",
   "execution_count": 2,
   "metadata": {
    "collapsed": true
   },
   "outputs": [],
   "source": [
    "import spotipy\n",
    "import spotipy.util as util"
   ]
  },
  {
   "cell_type": "markdown",
   "metadata": {},
   "source": [
    "TODO: describe how to get client credentials"
   ]
  },
  {
   "cell_type": "code",
   "execution_count": 3,
   "metadata": {
    "ExecuteTime": {
     "end_time": "2017-08-24T10:20:33.260000Z",
     "start_time": "2017-08-24T10:20:33.256000Z"
    },
    "collapsed": true
   },
   "outputs": [],
   "source": [
    "os.environ[\"SPOTIPY_CLIENT_ID\"]     = \"8a7fffc37b6c44e6b7bc344c3295034c\"\n",
    "os.environ[\"SPOTIPY_CLIENT_SECRET\"] = \"f19dd914ba58408c9407dd6479b23812\""
   ]
  },
  {
   "cell_type": "markdown",
   "metadata": {},
   "source": [
    "If you get the following message:\n",
    "\n",
    "    User authentication requires interaction with your\n",
    "    web browser. Once you enter your credentials and\n",
    "    give authorization, you will be redirected to\n",
    "    a url.  Paste that url you were directed to to\n",
    "    complete the authorization.\n",
    "\n",
    "    Opened https://accounts.spotify.com/authorize?scope=playlist-modify-public&redirect_uri=ht...\n",
    "    \n",
    "\n",
    "You need to authenticate your browser session. Follow the link and log in to Spotify. After login, you will be redirected to http://localhost/?code=... Copy the entire URL and paste it to the prompted textbox."
   ]
  },
  {
   "cell_type": "code",
   "execution_count": 4,
   "metadata": {
    "ExecuteTime": {
     "end_time": "2017-08-24T10:20:54.045000Z",
     "start_time": "2017-08-24T10:20:34.076000Z"
    },
    "collapsed": true
   },
   "outputs": [],
   "source": [
    "token = util.prompt_for_user_token(\"slychief\", \n",
    "                                   \"playlist-modify-public\", \n",
    "                                   redirect_uri=\"http://localhost/\")\n",
    "\n",
    "sp = spotipy.Spotify(auth=token)"
   ]
  },
  {
   "cell_type": "markdown",
   "metadata": {},
   "source": [
    "# Loading Data\n",
    "\n",
    "Before we can train our models we first have to get some data.\n",
    "\n",
    "## Download Echonest Features from Spotify\n",
    "\n",
    "We use spotipy to access the Spotify API and to download metadata and audio features of Spotify tracks. The following list provides a selection of Spotify playlists of various music genres."
   ]
  },
  {
   "cell_type": "code",
   "execution_count": 5,
   "metadata": {
    "collapsed": true
   },
   "outputs": [],
   "source": [
    "playlists = [\n",
    "    \n",
    "     {\"name\": \"clubbeats\",    \"uri\": \"spotify:user:spotify:playlist:37i9dQZF1DXbX3zSzB4MO0\"},\n",
    "     {\"name\": \"softpop\",      \"uri\": \"spotify:user:spotify:playlist:37i9dQZF1DWTwnEm1IYyoj\"},\n",
    "     {\"name\": \"electropop\",   \"uri\": \"spotify:user:spotify:playlist:37i9dQZF1DX4uPi2roRUwU\"},\n",
    "     {\"name\": \"rockclassics\", \"uri\": \"spotify:user:spotify:playlist:37i9dQZF1DWXRqgorJj26U\"},\n",
    "     {\"name\": \"rockhymns\",    \"uri\": \"spotify:user:spotify:playlist:37i9dQZF1DX4vth7idTQch\"},\n",
    "     {\"name\": \"soft_rock\",    \"uri\": \"spotify:user:spotify:playlist:37i9dQZF1DX6xOPeSOGone\"},\n",
    "     {\"name\": \"metalcore\",    \"uri\": \"spotify:user:spotify:playlist:37i9dQZF1DWXIcbzpLauPS\"}, \n",
    "     {\"name\": \"metal\",        \"uri\": \"spotify:user:spotify:playlist:37i9dQZF1DWWOaP4H0w5b0\"},\n",
    "     {\"name\": \"classic_metal\",\"uri\": \"spotify:user:spotify:playlist:37i9dQZF1DX2LTcinqsO68\"},\n",
    "     {\"name\": \"grunge\",       \"uri\": \"spotify:user:spotify:playlist:37i9dQZF1DX11ghcIxjcjE\"},\n",
    "     {\"name\": \"hiphop\",       \"uri\": \"spotify:user:spotify:playlist:37i9dQZF1DWVdgXTbYm2r0\"},\n",
    "     {\"name\": \"poppunk\",      \"uri\": \"spotify:user:spotify:playlist:37i9dQZF1DXa9wYJr1oMFq\"},\n",
    "     {\"name\": \"classic\",      \"uri\": \"spotify:user:spotify:playlist:37i9dQZF1DXcN1fAVSf7CR\"}\n",
    "    \n",
    "]"
   ]
  },
  {
   "cell_type": "markdown",
   "metadata": {},
   "source": [
    "### Caching with joblib\n",
    "\n",
    "We will use caching to locally store retrieved data. This is on the one hand a requirement of the API and on the other it speeds up processing when we reload the notebook. *joblib* is a convenient library which simplifies caching.\n",
    "\n",
    "*Update the cachdir to an appropriate path in the following cell*"
   ]
  },
  {
   "cell_type": "code",
   "execution_count": 6,
   "metadata": {
    "ExecuteTime": {
     "end_time": "2017-08-24T10:20:32.875000Z",
     "start_time": "2017-08-24T10:20:32.870000Z"
    },
    "collapsed": true
   },
   "outputs": [],
   "source": [
    "from joblib import Memory\n",
    "\n",
    "memory = Memory(cachedir='/home/schindler/tmp/spotify/', verbose=0)"
   ]
  },
  {
   "cell_type": "code",
   "execution_count": 7,
   "metadata": {
    "collapsed": true
   },
   "outputs": [],
   "source": [
    "@memory.cache\n",
    "def get_spotify_data(track_id):\n",
    "    \n",
    "    # meta-data\n",
    "    track_metadata      = sp.track(track_id)\n",
    "    album_metadata      = sp.album(track_metadata[\"album\"][\"id\"])\n",
    "    artist_metadata     = sp.artist(track_metadata[\"artists\"][0][\"id\"])\n",
    "    \n",
    "    # feature-data\n",
    "    sequential_features = sp.audio_analysis(track_id)\n",
    "    trackbased_features = sp.audio_features([track_id])\n",
    "    \n",
    "    return track_metadata, album_metadata, artist_metadata, sequential_features, trackbased_features"
   ]
  },
  {
   "cell_type": "code",
   "execution_count": 8,
   "metadata": {},
   "outputs": [
    {
     "name": "stderr",
     "output_type": "stream",
     "text": [
      " 97% (938 of 963) |#################################################################################################################################################################################     | Elapsed Time: 0:00:39 ETA: 0:00:01"
     ]
    }
   ],
   "source": [
    "# Get Playlist meta-data\n",
    "playlists = tut_func.get_playlist_metadata(sp, playlists)\n",
    "\n",
    "# Get track-ids of all playlist entries\n",
    "playlists = tut_func.get_track_ids(sp, playlists)\n",
    "\n",
    "num_tracks_total = np.sum([playlist[\"num_tracks\"] for playlist in playlists])\n",
    "\n",
    "# Fetch data and features from Spotify\n",
    "pbar = progressbar.ProgressBar(max_value=num_tracks_total)\n",
    "pbar.start()\n",
    "\n",
    "raw_track_data      = []\n",
    "processed_track_ids = []\n",
    "\n",
    "for playlist in playlists:\n",
    "\n",
    "    for track_id in playlist[\"track_ids\"]:\n",
    "\n",
    "        try:\n",
    "            # avoid duplicates in the data-set\n",
    "            if track_id not in processed_track_ids:\n",
    "\n",
    "                # retrieve data from Spotify\n",
    "                spotify_data = get_spotify_data(track_id)\n",
    "\n",
    "                raw_track_data.append([playlist[\"name\"], spotify_data])\n",
    "                processed_track_ids.append(track_id)\n",
    "\n",
    "        except Exception as e:\n",
    "            print e\n",
    "\n",
    "        pbar.update(len(raw_track_data))"
   ]
  },
  {
   "cell_type": "markdown",
   "metadata": {},
   "source": [
    "# Aggregate data\n",
    "\n",
    "Currently we only have a list of raw data-objects retrieved from the Spotify API. We need to transform this information to a more structured format."
   ]
  },
  {
   "cell_type": "code",
   "execution_count": 9,
   "metadata": {
    "collapsed": true
   },
   "outputs": [],
   "source": [
    "# Aggregate Meta-data\n",
    "metadata = tut_func.aggregate_metadata(raw_track_data)\n",
    "\n",
    "# Aggregate Feature-data\n",
    "feature_data = tut_func.aggregate_featuredata(raw_track_data, metadata)\n",
    "\n",
    "# standardize sequential_features\n",
    "feature_data -= feature_data.mean(axis=0)\n",
    "feature_data /= feature_data.std(axis=0)"
   ]
  },
  {
   "cell_type": "markdown",
   "metadata": {},
   "source": [
    "# Tag Similarities"
   ]
  },
  {
   "cell_type": "code",
   "execution_count": 10,
   "metadata": {
    "collapsed": true
   },
   "outputs": [],
   "source": [
    "from sklearn.preprocessing import LabelEncoder, MultiLabelBinarizer"
   ]
  },
  {
   "cell_type": "code",
   "execution_count": 11,
   "metadata": {
    "collapsed": true
   },
   "outputs": [],
   "source": [
    "mlb = MultiLabelBinarizer()\n",
    "mlb = mlb.fit(metadata.genres)\n",
    "\n",
    "genres_bin = pd.DataFrame(mlb.transform(metadata.genres), columns=mlb.classes_)"
   ]
  },
  {
   "cell_type": "code",
   "execution_count": 12,
   "metadata": {
    "collapsed": true
   },
   "outputs": [],
   "source": [
    "# align metadata with filtered tracks\n",
    "metadata_aligned = metadata\n",
    "metadata_aligned[\"featurespace_index\"] = metadata.index.values\n",
    "metadata_aligned = metadata_aligned.iloc[genres_bin.index]\n",
    "metadata_aligned = metadata_aligned.reset_index()"
   ]
  },
  {
   "cell_type": "code",
   "execution_count": 13,
   "metadata": {
    "collapsed": true
   },
   "outputs": [],
   "source": [
    "# filter tracks without genre tags\n",
    "genres_bin = genres_bin[genres_bin.sum(axis=1) > 0]\n",
    "\n",
    "metadata_aligned = metadata_aligned.loc[genres_bin.index]"
   ]
  },
  {
   "cell_type": "code",
   "execution_count": 14,
   "metadata": {},
   "outputs": [
    {
     "data": {
      "image/png": "[encoded data removed]",
      "text/plain": [
       "<matplotlib.figure.Figure at 0x7f67a4225d10>"
      ]
     },
     "metadata": {},
     "output_type": "display_data"
    }
   ],
   "source": [
    "genres_bin.sum(axis=0).sort_values(ascending=False)[:50].plot(kind=\"bar\", figsize=(16,6));"
   ]
  },
  {
   "cell_type": "code",
   "execution_count": 15,
   "metadata": {
    "collapsed": true
   },
   "outputs": [],
   "source": [
    "tf  = genres_bin.sum(axis=0)\n",
    "idf = np.log(genres_bin.shape[0] / tf)\n",
    "genres_tf_idf = genres_bin / idf"
   ]
  },
  {
   "cell_type": "code",
   "execution_count": 16,
   "metadata": {},
   "outputs": [],
   "source": [
    "genres_coocurrences = genres_bin.T.dot(genres_bin)"
   ]
  },
  {
   "cell_type": "code",
   "execution_count": 17,
   "metadata": {},
   "outputs": [
    {
     "data": {
      "text/html": [
       "<div>\n",
       "<style>\n",
       "    .dataframe thead tr:only-child th {\n",
       "        text-align: right;\n",
       "    }\n",
       "\n",
       "    .dataframe thead th {\n",
       "        text-align: left;\n",
       "    }\n",
       "\n",
       "    .dataframe tbody tr th {\n",
       "        vertical-align: top;\n",
       "    }\n",
       "</style>\n",
       "<table border=\"1\" class=\"dataframe\">\n",
       "  <thead>\n",
       "    <tr style=\"text-align: right;\">\n",
       "      <th></th>\n",
       "      <th>acoustic pop</th>\n",
       "      <th>adult standards</th>\n",
       "      <th>album rock</th>\n",
       "      <th>alternative emo</th>\n",
       "      <th>alternative hip hop</th>\n",
       "      <th>alternative metal</th>\n",
       "      <th>alternative pop</th>\n",
       "      <th>alternative rock</th>\n",
       "      <th>anthem emo</th>\n",
       "      <th>anti-folk</th>\n",
       "    </tr>\n",
       "  </thead>\n",
       "  <tbody>\n",
       "    <tr>\n",
       "      <th>acoustic pop</th>\n",
       "      <td>14</td>\n",
       "      <td>0</td>\n",
       "      <td>0</td>\n",
       "      <td>0</td>\n",
       "      <td>0</td>\n",
       "      <td>0</td>\n",
       "      <td>0</td>\n",
       "      <td>0</td>\n",
       "      <td>0</td>\n",
       "      <td>0</td>\n",
       "    </tr>\n",
       "    <tr>\n",
       "      <th>adult standards</th>\n",
       "      <td>0</td>\n",
       "      <td>13</td>\n",
       "      <td>13</td>\n",
       "      <td>0</td>\n",
       "      <td>0</td>\n",
       "      <td>0</td>\n",
       "      <td>0</td>\n",
       "      <td>0</td>\n",
       "      <td>0</td>\n",
       "      <td>0</td>\n",
       "    </tr>\n",
       "    <tr>\n",
       "      <th>album rock</th>\n",
       "      <td>0</td>\n",
       "      <td>13</td>\n",
       "      <td>249</td>\n",
       "      <td>0</td>\n",
       "      <td>0</td>\n",
       "      <td>21</td>\n",
       "      <td>0</td>\n",
       "      <td>48</td>\n",
       "      <td>0</td>\n",
       "      <td>0</td>\n",
       "    </tr>\n",
       "    <tr>\n",
       "      <th>alternative emo</th>\n",
       "      <td>0</td>\n",
       "      <td>0</td>\n",
       "      <td>0</td>\n",
       "      <td>1</td>\n",
       "      <td>0</td>\n",
       "      <td>0</td>\n",
       "      <td>0</td>\n",
       "      <td>0</td>\n",
       "      <td>1</td>\n",
       "      <td>0</td>\n",
       "    </tr>\n",
       "    <tr>\n",
       "      <th>alternative hip hop</th>\n",
       "      <td>0</td>\n",
       "      <td>0</td>\n",
       "      <td>0</td>\n",
       "      <td>0</td>\n",
       "      <td>1</td>\n",
       "      <td>0</td>\n",
       "      <td>0</td>\n",
       "      <td>0</td>\n",
       "      <td>0</td>\n",
       "      <td>0</td>\n",
       "    </tr>\n",
       "    <tr>\n",
       "      <th>alternative metal</th>\n",
       "      <td>0</td>\n",
       "      <td>0</td>\n",
       "      <td>21</td>\n",
       "      <td>0</td>\n",
       "      <td>0</td>\n",
       "      <td>185</td>\n",
       "      <td>0</td>\n",
       "      <td>113</td>\n",
       "      <td>0</td>\n",
       "      <td>0</td>\n",
       "    </tr>\n",
       "    <tr>\n",
       "      <th>alternative pop</th>\n",
       "      <td>0</td>\n",
       "      <td>0</td>\n",
       "      <td>0</td>\n",
       "      <td>0</td>\n",
       "      <td>0</td>\n",
       "      <td>0</td>\n",
       "      <td>3</td>\n",
       "      <td>3</td>\n",
       "      <td>0</td>\n",
       "      <td>1</td>\n",
       "    </tr>\n",
       "    <tr>\n",
       "      <th>alternative rock</th>\n",
       "      <td>0</td>\n",
       "      <td>0</td>\n",
       "      <td>48</td>\n",
       "      <td>0</td>\n",
       "      <td>0</td>\n",
       "      <td>113</td>\n",
       "      <td>3</td>\n",
       "      <td>183</td>\n",
       "      <td>0</td>\n",
       "      <td>1</td>\n",
       "    </tr>\n",
       "    <tr>\n",
       "      <th>anthem emo</th>\n",
       "      <td>0</td>\n",
       "      <td>0</td>\n",
       "      <td>0</td>\n",
       "      <td>1</td>\n",
       "      <td>0</td>\n",
       "      <td>0</td>\n",
       "      <td>0</td>\n",
       "      <td>0</td>\n",
       "      <td>1</td>\n",
       "      <td>0</td>\n",
       "    </tr>\n",
       "    <tr>\n",
       "      <th>anti-folk</th>\n",
       "      <td>0</td>\n",
       "      <td>0</td>\n",
       "      <td>0</td>\n",
       "      <td>0</td>\n",
       "      <td>0</td>\n",
       "      <td>0</td>\n",
       "      <td>1</td>\n",
       "      <td>1</td>\n",
       "      <td>0</td>\n",
       "      <td>1</td>\n",
       "    </tr>\n",
       "  </tbody>\n",
       "</table>\n",
       "</div>"
      ],
      "text/plain": [
       "                     acoustic pop  adult standards  album rock  \\\n",
       "acoustic pop                   14                0           0   \n",
       "adult standards                 0               13          13   \n",
       "album rock                      0               13         249   \n",
       "alternative emo                 0                0           0   \n",
       "alternative hip hop             0                0           0   \n",
       "alternative metal               0                0          21   \n",
       "alternative pop                 0                0           0   \n",
       "alternative rock                0                0          48   \n",
       "anthem emo                      0                0           0   \n",
       "anti-folk                       0                0           0   \n",
       "\n",
       "                     alternative emo  alternative hip hop  alternative metal  \\\n",
       "acoustic pop                       0                    0                  0   \n",
       "adult standards                    0                    0                  0   \n",
       "album rock                         0                    0                 21   \n",
       "alternative emo                    1                    0                  0   \n",
       "alternative hip hop                0                    1                  0   \n",
       "alternative metal                  0                    0                185   \n",
       "alternative pop                    0                    0                  0   \n",
       "alternative rock                   0                    0                113   \n",
       "anthem emo                         1                    0                  0   \n",
       "anti-folk                          0                    0                  0   \n",
       "\n",
       "                     alternative pop  alternative rock  anthem emo  anti-folk  \n",
       "acoustic pop                       0                 0           0          0  \n",
       "adult standards                    0                 0           0          0  \n",
       "album rock                         0                48           0          0  \n",
       "alternative emo                    0                 0           1          0  \n",
       "alternative hip hop                0                 0           0          0  \n",
       "alternative metal                  0               113           0          0  \n",
       "alternative pop                    3                 3           0          1  \n",
       "alternative rock                   3               183           0          1  \n",
       "anthem emo                         0                 0           1          0  \n",
       "anti-folk                          1                 1           0          1  "
      ]
     },
     "execution_count": 17,
     "metadata": {},
     "output_type": "execute_result"
    }
   ],
   "source": [
    "genres_coocurrences.iloc[:10,:10]"
   ]
  },
  {
   "cell_type": "code",
   "execution_count": 18,
   "metadata": {
    "collapsed": true
   },
   "outputs": [],
   "source": [
    "from scipy.spatial.distance import dice, pdist, squareform"
   ]
  },
  {
   "cell_type": "code",
   "execution_count": 19,
   "metadata": {},
   "outputs": [],
   "source": [
    "dists = pdist(genres_tf_idf, 'dice')"
   ]
  },
  {
   "cell_type": "code",
   "execution_count": 20,
   "metadata": {
    "collapsed": true
   },
   "outputs": [],
   "source": [
    "sims = pd.DataFrame(1 - squareform(dists))"
   ]
  },
  {
   "cell_type": "code",
   "execution_count": 21,
   "metadata": {},
   "outputs": [],
   "source": [
    "sims.index = genres_tf_idf.index\n",
    "sims.columns = genres_tf_idf.index"
   ]
  },
  {
   "cell_type": "code",
   "execution_count": 22,
   "metadata": {},
   "outputs": [
    {
     "name": "stdout",
     "output_type": "stream",
     "text": [
      "index                                                               407\n",
      "track_id                                         1O5qBgWDXf19N75X7Bvilv\n",
      "artist_name                                                 The Subways\n",
      "title                                                 Rock & Roll Queen\n",
      "album_name                                           Young For Eternity\n",
      "label                                                             WM UK\n",
      "duration                                                         169946\n",
      "popularity                                                           59\n",
      "year                                                               2005\n",
      "genres                [dance-punk, garage rock, indie rock, modern r...\n",
      "playlist                                                      rockhymns\n",
      "featurespace_index                                                  407\n",
      "Name: 407, dtype: object\n"
     ]
    },
    {
     "data": {
      "text/html": [
       "<div>\n",
       "<style>\n",
       "    .dataframe thead tr:only-child th {\n",
       "        text-align: right;\n",
       "    }\n",
       "\n",
       "    .dataframe thead th {\n",
       "        text-align: left;\n",
       "    }\n",
       "\n",
       "    .dataframe tbody tr th {\n",
       "        vertical-align: top;\n",
       "    }\n",
       "</style>\n",
       "<table border=\"1\" class=\"dataframe\">\n",
       "  <thead>\n",
       "    <tr style=\"text-align: right;\">\n",
       "      <th></th>\n",
       "      <th>featurespace_index</th>\n",
       "      <th>artist_name</th>\n",
       "      <th>title</th>\n",
       "      <th>year</th>\n",
       "      <th>popularity</th>\n",
       "      <th>genres</th>\n",
       "      <th>playlist</th>\n",
       "      <th>sim</th>\n",
       "    </tr>\n",
       "  </thead>\n",
       "  <tbody>\n",
       "    <tr>\n",
       "      <th>379</th>\n",
       "      <td>379</td>\n",
       "      <td>Lynyrd Skynyrd</td>\n",
       "      <td>Free Bird</td>\n",
       "      <td>1973</td>\n",
       "      <td>70</td>\n",
       "      <td>[album rock, blues-rock, classic rock, country...</td>\n",
       "      <td>rockclassics</td>\n",
       "      <td>1.000000</td>\n",
       "    </tr>\n",
       "    <tr>\n",
       "      <th>374</th>\n",
       "      <td>374</td>\n",
       "      <td>Lynyrd Skynyrd</td>\n",
       "      <td>Simple Man</td>\n",
       "      <td>1973</td>\n",
       "      <td>65</td>\n",
       "      <td>[album rock, blues-rock, classic rock, country...</td>\n",
       "      <td>rockclassics</td>\n",
       "      <td>1.000000</td>\n",
       "    </tr>\n",
       "    <tr>\n",
       "      <th>339</th>\n",
       "      <td>339</td>\n",
       "      <td>Lynyrd Skynyrd</td>\n",
       "      <td>Gimme Three Steps</td>\n",
       "      <td>1973</td>\n",
       "      <td>57</td>\n",
       "      <td>[album rock, blues-rock, classic rock, country...</td>\n",
       "      <td>rockclassics</td>\n",
       "      <td>1.000000</td>\n",
       "    </tr>\n",
       "    <tr>\n",
       "      <th>283</th>\n",
       "      <td>283</td>\n",
       "      <td>Boston</td>\n",
       "      <td>More Than a Feeling</td>\n",
       "      <td>1976</td>\n",
       "      <td>24</td>\n",
       "      <td>[album rock, blues-rock, classic rock, hard ro...</td>\n",
       "      <td>rockclassics</td>\n",
       "      <td>0.888889</td>\n",
       "    </tr>\n",
       "    <tr>\n",
       "      <th>297</th>\n",
       "      <td>297</td>\n",
       "      <td>Boston</td>\n",
       "      <td>Peace of Mind</td>\n",
       "      <td>1976</td>\n",
       "      <td>18</td>\n",
       "      <td>[album rock, blues-rock, classic rock, hard ro...</td>\n",
       "      <td>rockclassics</td>\n",
       "      <td>0.888889</td>\n",
       "    </tr>\n",
       "    <tr>\n",
       "      <th>340</th>\n",
       "      <td>340</td>\n",
       "      <td>Boston</td>\n",
       "      <td>Foreplay / Long Time</td>\n",
       "      <td>1976</td>\n",
       "      <td>15</td>\n",
       "      <td>[album rock, blues-rock, classic rock, hard ro...</td>\n",
       "      <td>rockclassics</td>\n",
       "      <td>0.888889</td>\n",
       "    </tr>\n",
       "    <tr>\n",
       "      <th>493</th>\n",
       "      <td>493</td>\n",
       "      <td>Dire Straits</td>\n",
       "      <td>Your Latest Trick</td>\n",
       "      <td>1985</td>\n",
       "      <td>62</td>\n",
       "      <td>[album rock, blues-rock, classic rock, hard ro...</td>\n",
       "      <td>soft_rock</td>\n",
       "      <td>0.823529</td>\n",
       "    </tr>\n",
       "    <tr>\n",
       "      <th>289</th>\n",
       "      <td>289</td>\n",
       "      <td>Dire Straits</td>\n",
       "      <td>Sultans Of Swing</td>\n",
       "      <td>1978</td>\n",
       "      <td>67</td>\n",
       "      <td>[album rock, blues-rock, classic rock, hard ro...</td>\n",
       "      <td>rockclassics</td>\n",
       "      <td>0.823529</td>\n",
       "    </tr>\n",
       "    <tr>\n",
       "      <th>278</th>\n",
       "      <td>278</td>\n",
       "      <td>Bob Seger</td>\n",
       "      <td>Turn The Page - Live In Detroit/1975</td>\n",
       "      <td>1976</td>\n",
       "      <td>56</td>\n",
       "      <td>[album rock, blues-rock, classic rock, country...</td>\n",
       "      <td>rockclassics</td>\n",
       "      <td>0.782609</td>\n",
       "    </tr>\n",
       "    <tr>\n",
       "      <th>290</th>\n",
       "      <td>290</td>\n",
       "      <td>Bob Seger</td>\n",
       "      <td>Old Time Rock &amp; Roll</td>\n",
       "      <td>1978</td>\n",
       "      <td>61</td>\n",
       "      <td>[album rock, blues-rock, classic rock, country...</td>\n",
       "      <td>rockclassics</td>\n",
       "      <td>0.782609</td>\n",
       "    </tr>\n",
       "  </tbody>\n",
       "</table>\n",
       "</div>"
      ],
      "text/plain": [
       "     featurespace_index     artist_name                                 title  \\\n",
       "379                 379  Lynyrd Skynyrd                             Free Bird   \n",
       "374                 374  Lynyrd Skynyrd                            Simple Man   \n",
       "339                 339  Lynyrd Skynyrd                     Gimme Three Steps   \n",
       "283                 283          Boston                   More Than a Feeling   \n",
       "297                 297          Boston                         Peace of Mind   \n",
       "340                 340          Boston                  Foreplay / Long Time   \n",
       "493                 493    Dire Straits                     Your Latest Trick   \n",
       "289                 289    Dire Straits                      Sultans Of Swing   \n",
       "278                 278       Bob Seger  Turn The Page - Live In Detroit/1975   \n",
       "290                 290       Bob Seger                  Old Time Rock & Roll   \n",
       "\n",
       "     year  popularity                                             genres  \\\n",
       "379  1973          70  [album rock, blues-rock, classic rock, country...   \n",
       "374  1973          65  [album rock, blues-rock, classic rock, country...   \n",
       "339  1973          57  [album rock, blues-rock, classic rock, country...   \n",
       "283  1976          24  [album rock, blues-rock, classic rock, hard ro...   \n",
       "297  1976          18  [album rock, blues-rock, classic rock, hard ro...   \n",
       "340  1976          15  [album rock, blues-rock, classic rock, hard ro...   \n",
       "493  1985          62  [album rock, blues-rock, classic rock, hard ro...   \n",
       "289  1978          67  [album rock, blues-rock, classic rock, hard ro...   \n",
       "278  1976          56  [album rock, blues-rock, classic rock, country...   \n",
       "290  1978          61  [album rock, blues-rock, classic rock, country...   \n",
       "\n",
       "         playlist       sim  \n",
       "379  rockclassics  1.000000  \n",
       "374  rockclassics  1.000000  \n",
       "339  rockclassics  1.000000  \n",
       "283  rockclassics  0.888889  \n",
       "297  rockclassics  0.888889  \n",
       "340  rockclassics  0.888889  \n",
       "493     soft_rock  0.823529  \n",
       "289  rockclassics  0.823529  \n",
       "278  rockclassics  0.782609  \n",
       "290  rockclassics  0.782609  "
      ]
     },
     "execution_count": 22,
     "metadata": {},
     "output_type": "execute_result"
    }
   ],
   "source": [
    "i = 381\n",
    "idx = sims[i].sort_values(ascending=False).index\n",
    "\n",
    "print metadata_aligned.iloc[i]\n",
    "\n",
    "result = metadata.loc[idx]\n",
    "result[\"sim\"] = sims.loc[i,idx].values\n",
    "result = result[[\"featurespace_index\", \"artist_name\", \"title\", \"year\", \"popularity\", \"genres\", \"playlist\", \"sim\"]]\n",
    "result[(result.sim > 0) & (result.index != i)][:10]\n",
    "#result[(result.sim < 0.00001)]"
   ]
  },
  {
   "cell_type": "code",
   "execution_count": null,
   "metadata": {
    "collapsed": true
   },
   "outputs": [],
   "source": []
  },
  {
   "cell_type": "markdown",
   "metadata": {},
   "source": [
    "# Calculate Similarities"
   ]
  },
  {
   "cell_type": "code",
   "execution_count": 23,
   "metadata": {
    "collapsed": true
   },
   "outputs": [],
   "source": [
    "def create_pairs(feature_data, metadata, num_pairs_per_track):\n",
    "    \n",
    "    data_pairs = []\n",
    "    labels     = []\n",
    "    \n",
    "    pbar = progressbar.ProgressBar(max_value=metadata_aligned.shape[0])\n",
    "    pbar.start()\n",
    "    \n",
    "    i = 0\n",
    "    \n",
    "    for row_id, q_track in metadata_aligned.sample(frac=1).iterrows():\n",
    "                \n",
    "        for _ in range(num_pairs_per_track):\n",
    "            \n",
    "            # search similar and dissimilar examples\n",
    "            pos_example = metadata_aligned[metadata_aligned.playlist == q_track.playlist].sample(1)\n",
    "            neg_example = metadata_aligned[metadata_aligned.playlist != q_track.playlist].sample(1)\n",
    "\n",
    "            # create feature pairs\n",
    "            data_pairs.append([feature_data[[metadata_aligned.loc[row_id].featurespace_index]][0], feature_data[[pos_example.featurespace_index]][0]])\n",
    "            labels.append(sims.loc[row_id, pos_example.index].values[0])\n",
    "            \n",
    "            data_pairs.append([feature_data[[metadata_aligned.loc[row_id].featurespace_index]][0], feature_data[[neg_example.featurespace_index]][0]])\n",
    "            labels.append(sims.loc[row_id, neg_example.index].values[0])\n",
    "            \n",
    "        pbar.update(i)\n",
    "        \n",
    "        i += 1\n",
    "\n",
    "    return np.array(data_pairs), np.array(labels)"
   ]
  },
  {
   "cell_type": "code",
   "execution_count": 24,
   "metadata": {},
   "outputs": [
    {
     "name": "stderr",
     "output_type": "stream",
     "text": [
      " 99% (889 of 892) |##################################################################################################################################################################################### | Elapsed Time: 0:00:20 ETA: 0:00:00"
     ]
    },
    {
     "data": {
      "text/plain": [
       "(17840, 2, 69)"
      ]
     },
     "execution_count": 24,
     "metadata": {},
     "output_type": "execute_result"
    }
   ],
   "source": [
    "data_pairs, labels = create_pairs(feature_data, metadata, 10)\n",
    "\n",
    "data_pairs.shape"
   ]
  },
  {
   "cell_type": "code",
   "execution_count": 25,
   "metadata": {},
   "outputs": [
    {
     "name": "stderr",
     "output_type": "stream",
     "text": [
      "Using Theano backend.\n",
      "WARNING (theano.sandbox.cuda): The cuda backend is deprecated and will be removed in the next release (v0.10).  Please switch to the gpuarray backend. You can get more information about how to switch at this URL:\n",
      " https://github.com/Theano/Theano/wiki/Converting-to-the-new-gpu-back-end%28gpuarray%29\n",
      "\n",
      "Using gpu device 0: GeForce GTX 1080 (CNMeM is enabled with initial size: 95.0% of memory, cuDNN 5105)\n"
     ]
    }
   ],
   "source": [
    "from keras.layers import Input, Lambda\n",
    "from keras.models import Model\n",
    "from keras.layers import Dense, Dropout\n",
    "from keras.optimizers import Nadam, SGD\n",
    "from keras.regularizers import l2, l1\n",
    "from keras import backend as K\n",
    "from keras.layers.merge import concatenate"
   ]
  },
  {
   "cell_type": "code",
   "execution_count": 26,
   "metadata": {
    "collapsed": true
   },
   "outputs": [],
   "source": [
    "def create_siamese_network(input_dim):\n",
    "\n",
    "    input_left  = Input(shape=input_dim)\n",
    "    input_right = Input(shape=input_dim)\n",
    "\n",
    "    layers_left  = Dense(100, activation=\"selu\")(input_left)\n",
    "    layers_left  = Dense(100, activation=\"selu\")(layers_left)\n",
    "    layers_left  = Dense(100, activation=\"selu\")(layers_left)\n",
    "    layers_right = Dense(100, activation=\"selu\")(input_right)\n",
    "    layers_right = Dense(100, activation=\"selu\")(layers_right)\n",
    "    layers_right = Dense(100, activation=\"selu\")(layers_right)\n",
    "\n",
    "    L1_distance = lambda x: K.abs(x[0]-x[1])\n",
    "\n",
    "    distance = Lambda(L1_distance,\n",
    "                      output_shape=lambda x: x[0])([layers_left, layers_right])\n",
    "\n",
    "    prediction = Dense(100, activation=\"elu\")(distance)\n",
    "\n",
    "    prediction = Dense(1, activation=\"sigmoid\")(prediction)\n",
    "\n",
    "    model = Model([input_left, input_right], prediction)\n",
    "\n",
    "    # train\n",
    "    rms = Nadam(lr=0.001)\n",
    "    model.compile(loss=\"mean_squared_error\", optimizer=rms, metrics=[\"mean_squared_error\", \"accuracy\"])\n",
    "    \n",
    "    return model"
   ]
  },
  {
   "cell_type": "code",
   "execution_count": 27,
   "metadata": {
    "collapsed": true
   },
   "outputs": [],
   "source": [
    "model = create_siamese_network(data_pairs[:,0].shape[1:])"
   ]
  },
  {
   "cell_type": "code",
   "execution_count": 28,
   "metadata": {
    "scrolled": false
   },
   "outputs": [
    {
     "name": "stdout",
     "output_type": "stream",
     "text": [
      "Epoch 1/25\n",
      "17840/17840 [==============================] - 0s - loss: 0.0537 - mean_squared_error: 0.0537 - acc: 0.4411     \n",
      "Epoch 2/25\n",
      "17840/17840 [==============================] - 0s - loss: 0.0379 - mean_squared_error: 0.0379 - acc: 0.4495     \n",
      "Epoch 3/25\n",
      "17840/17840 [==============================] - 0s - loss: 0.0320 - mean_squared_error: 0.0320 - acc: 0.4526     \n",
      "Epoch 4/25\n",
      "17840/17840 [==============================] - 0s - loss: 0.0279 - mean_squared_error: 0.0279 - acc: 0.4545     \n",
      "Epoch 5/25\n",
      "17840/17840 [==============================] - 0s - loss: 0.0256 - mean_squared_error: 0.0256 - acc: 0.4555     \n",
      "Epoch 6/25\n",
      "17840/17840 [==============================] - 0s - loss: 0.0222 - mean_squared_error: 0.0222 - acc: 0.4575     \n",
      "Epoch 7/25\n",
      "17840/17840 [==============================] - 0s - loss: 0.0205 - mean_squared_error: 0.0205 - acc: 0.4582     \n",
      "Epoch 8/25\n",
      "17840/17840 [==============================] - 0s - loss: 0.0190 - mean_squared_error: 0.0190 - acc: 0.4590     \n",
      "Epoch 9/25\n",
      "17840/17840 [==============================] - 0s - loss: 0.0168 - mean_squared_error: 0.0168 - acc: 0.4596     \n",
      "Epoch 10/25\n",
      "17840/17840 [==============================] - 0s - loss: 0.0159 - mean_squared_error: 0.0159 - acc: 0.4601     \n",
      "Epoch 11/25\n",
      "17840/17840 [==============================] - 0s - loss: 0.0145 - mean_squared_error: 0.0145 - acc: 0.4604     \n",
      "Epoch 12/25\n",
      "17840/17840 [==============================] - 0s - loss: 0.0134 - mean_squared_error: 0.0134 - acc: 0.4614     \n",
      "Epoch 13/25\n",
      "17840/17840 [==============================] - 0s - loss: 0.0124 - mean_squared_error: 0.0124 - acc: 0.4614     \n",
      "Epoch 14/25\n",
      "17840/17840 [==============================] - 0s - loss: 0.0117 - mean_squared_error: 0.0117 - acc: 0.4612     \n",
      "Epoch 15/25\n",
      "17840/17840 [==============================] - 0s - loss: 0.0107 - mean_squared_error: 0.0107 - acc: 0.4622     \n",
      "Epoch 16/25\n",
      "17840/17840 [==============================] - 0s - loss: 0.0106 - mean_squared_error: 0.0106 - acc: 0.4615     \n",
      "Epoch 17/25\n",
      "17840/17840 [==============================] - 0s - loss: 0.0100 - mean_squared_error: 0.0100 - acc: 0.4621     \n",
      "Epoch 18/25\n",
      "17840/17840 [==============================] - 0s - loss: 0.0094 - mean_squared_error: 0.0094 - acc: 0.4621     \n",
      "Epoch 19/25\n",
      "17840/17840 [==============================] - 0s - loss: 0.0090 - mean_squared_error: 0.0090 - acc: 0.4621     \n",
      "Epoch 20/25\n",
      "17840/17840 [==============================] - 0s - loss: 0.0084 - mean_squared_error: 0.0084 - acc: 0.4620     \n",
      "Epoch 21/25\n",
      "17840/17840 [==============================] - 0s - loss: 0.0076 - mean_squared_error: 0.0076 - acc: 0.4623     \n",
      "Epoch 22/25\n",
      "17840/17840 [==============================] - 0s - loss: 0.0074 - mean_squared_error: 0.0074 - acc: 0.4623     \n",
      "Epoch 23/25\n",
      "17840/17840 [==============================] - 0s - loss: 0.0078 - mean_squared_error: 0.0078 - acc: 0.4622     \n",
      "Epoch 24/25\n",
      "17840/17840 [==============================] - 0s - loss: 0.0072 - mean_squared_error: 0.0072 - acc: 0.4623     \n",
      "Epoch 25/25\n",
      "17840/17840 [==============================] - 0s - loss: 0.0065 - mean_squared_error: 0.0065 - acc: 0.4624     \n"
     ]
    },
    {
     "data": {
      "text/plain": [
       "<keras.callbacks.History at 0x7f670e345890>"
      ]
     },
     "execution_count": 28,
     "metadata": {},
     "output_type": "execute_result"
    }
   ],
   "source": [
    "model.fit([data_pairs[:, 0], data_pairs[:, 1]], labels, batch_size=24, verbose=1, epochs=25)"
   ]
  },
  {
   "cell_type": "code",
   "execution_count": 52,
   "metadata": {
    "collapsed": true
   },
   "outputs": [],
   "source": [
    "def similar(query_idx):\n",
    "    res = [model.predict([feature_data[[query_idx]], feature_data[[i]]]) for i in range(feature_data.shape[0])]\n",
    "\n",
    "    res = np.array(res)\n",
    "    res = res.reshape(res.shape[0])\n",
    "\n",
    "    si = np.argsort(res)[::-1]\n",
    "\n",
    "    display_cols = [\"artist_name\", \"title\", \"album_name\", \"year\", \"playlist\"]\n",
    "    \n",
    "    print metadata.iloc[query_idx]\n",
    "\n",
    "    return metadata.loc[si, display_cols][:10]"
   ]
  },
  {
   "cell_type": "code",
   "execution_count": 61,
   "metadata": {},
   "outputs": [
    {
     "name": "stdout",
     "output_type": "stream",
     "text": [
      "track_id                                         0c1gHntWjKD7QShC8s99sq\n",
      "artist_name                                                   Aerosmith\n",
      "title                 I Don't Want to Miss a Thing - From the Touchs...\n",
      "album_name                                 I Don't Want To Miss A Thing\n",
      "label                                     Columbia/Sony Music Soundtrax\n",
      "duration                                                         299760\n",
      "popularity                                                           74\n",
      "year                                                               1997\n",
      "genres                [album rock, alternative rock, classic rock, h...\n",
      "playlist                                                      soft_rock\n",
      "featurespace_index                                                  481\n",
      "Name: 481, dtype: object\n"
     ]
    },
    {
     "data": {
      "text/html": [
       "<div>\n",
       "<style>\n",
       "    .dataframe thead tr:only-child th {\n",
       "        text-align: right;\n",
       "    }\n",
       "\n",
       "    .dataframe thead th {\n",
       "        text-align: left;\n",
       "    }\n",
       "\n",
       "    .dataframe tbody tr th {\n",
       "        vertical-align: top;\n",
       "    }\n",
       "</style>\n",
       "<table border=\"1\" class=\"dataframe\">\n",
       "  <thead>\n",
       "    <tr style=\"text-align: right;\">\n",
       "      <th></th>\n",
       "      <th>artist_name</th>\n",
       "      <th>title</th>\n",
       "      <th>album_name</th>\n",
       "      <th>year</th>\n",
       "      <th>playlist</th>\n",
       "    </tr>\n",
       "  </thead>\n",
       "  <tbody>\n",
       "    <tr>\n",
       "      <th>481</th>\n",
       "      <td>Aerosmith</td>\n",
       "      <td>I Don't Want to Miss a Thing - From the Touchs...</td>\n",
       "      <td>I Don't Want To Miss A Thing</td>\n",
       "      <td>1997</td>\n",
       "      <td>soft_rock</td>\n",
       "    </tr>\n",
       "    <tr>\n",
       "      <th>522</th>\n",
       "      <td>Scorpions</td>\n",
       "      <td>Wind Of Change</td>\n",
       "      <td>Crazy World</td>\n",
       "      <td>1990</td>\n",
       "      <td>soft_rock</td>\n",
       "    </tr>\n",
       "    <tr>\n",
       "      <th>279</th>\n",
       "      <td>Ozzy Osbourne</td>\n",
       "      <td>Crazy Train - Remastered</td>\n",
       "      <td>Blizzard of Ozz (Expanded Edition)</td>\n",
       "      <td>1980</td>\n",
       "      <td>rockclassics</td>\n",
       "    </tr>\n",
       "    <tr>\n",
       "      <th>280</th>\n",
       "      <td>Motörhead</td>\n",
       "      <td>Ace Of Spades</td>\n",
       "      <td>The Best Of Motorhead: All The Aces/ The Mugge...</td>\n",
       "      <td>2001</td>\n",
       "      <td>rockclassics</td>\n",
       "    </tr>\n",
       "    <tr>\n",
       "      <th>500</th>\n",
       "      <td>Ozzy Osbourne</td>\n",
       "      <td>Mama, I'm Coming Home</td>\n",
       "      <td>No More Tears (Bonus Track Version)</td>\n",
       "      <td>1991</td>\n",
       "      <td>soft_rock</td>\n",
       "    </tr>\n",
       "    <tr>\n",
       "      <th>537</th>\n",
       "      <td>Bon Jovi</td>\n",
       "      <td>Always</td>\n",
       "      <td>Bon Jovi Greatest Hits</td>\n",
       "      <td>2010</td>\n",
       "      <td>soft_rock</td>\n",
       "    </tr>\n",
       "    <tr>\n",
       "      <th>514</th>\n",
       "      <td>Foreigner</td>\n",
       "      <td>Urgent - 2008 Remastered Version</td>\n",
       "      <td>No End In Sight: The Very Best Of Foreigner</td>\n",
       "      <td>2008</td>\n",
       "      <td>soft_rock</td>\n",
       "    </tr>\n",
       "    <tr>\n",
       "      <th>465</th>\n",
       "      <td>Def Leppard</td>\n",
       "      <td>When Love &amp; Hate Collide</td>\n",
       "      <td>When Love &amp; Hate Collide - Single</td>\n",
       "      <td>2013</td>\n",
       "      <td>soft_rock</td>\n",
       "    </tr>\n",
       "    <tr>\n",
       "      <th>735</th>\n",
       "      <td>Alice In Chains</td>\n",
       "      <td>Man in the Box</td>\n",
       "      <td>Facelift</td>\n",
       "      <td>1990</td>\n",
       "      <td>grunge</td>\n",
       "    </tr>\n",
       "    <tr>\n",
       "      <th>310</th>\n",
       "      <td>Jimi Hendrix</td>\n",
       "      <td>Hey Joe</td>\n",
       "      <td>Are You Experienced</td>\n",
       "      <td>1967</td>\n",
       "      <td>rockclassics</td>\n",
       "    </tr>\n",
       "  </tbody>\n",
       "</table>\n",
       "</div>"
      ],
      "text/plain": [
       "         artist_name                                              title  \\\n",
       "481        Aerosmith  I Don't Want to Miss a Thing - From the Touchs...   \n",
       "522        Scorpions                                     Wind Of Change   \n",
       "279    Ozzy Osbourne                           Crazy Train - Remastered   \n",
       "280        Motörhead                                      Ace Of Spades   \n",
       "500    Ozzy Osbourne                              Mama, I'm Coming Home   \n",
       "537         Bon Jovi                                             Always   \n",
       "514        Foreigner                   Urgent - 2008 Remastered Version   \n",
       "465      Def Leppard                           When Love & Hate Collide   \n",
       "735  Alice In Chains                                     Man in the Box   \n",
       "310     Jimi Hendrix                                            Hey Joe   \n",
       "\n",
       "                                            album_name  year      playlist  \n",
       "481                       I Don't Want To Miss A Thing  1997     soft_rock  \n",
       "522                                        Crazy World  1990     soft_rock  \n",
       "279                 Blizzard of Ozz (Expanded Edition)  1980  rockclassics  \n",
       "280  The Best Of Motorhead: All The Aces/ The Mugge...  2001  rockclassics  \n",
       "500                No More Tears (Bonus Track Version)  1991     soft_rock  \n",
       "537                             Bon Jovi Greatest Hits  2010     soft_rock  \n",
       "514        No End In Sight: The Very Best Of Foreigner  2008     soft_rock  \n",
       "465                  When Love & Hate Collide - Single  2013     soft_rock  \n",
       "735                                           Facelift  1990        grunge  \n",
       "310                                Are You Experienced  1967  rockclassics  "
      ]
     },
     "execution_count": 61,
     "metadata": {},
     "output_type": "execute_result"
    }
   ],
   "source": [
    "similar(481)"
   ]
  },
  {
   "cell_type": "markdown",
   "metadata": {},
   "source": [
    "# Evaluate"
   ]
  },
  {
   "cell_type": "code",
   "execution_count": 38,
   "metadata": {
    "collapsed": true
   },
   "outputs": [],
   "source": [
    "def evaluate(similarity_function, cut_off):\n",
    "\n",
    "    global dist\n",
    "    \n",
    "    all_precisions = []\n",
    "\n",
    "    pbar = progressbar.ProgressBar()\n",
    "    \n",
    "    for idx in pbar(metadata.index.values):\n",
    "\n",
    "        dist           = similarity_function(feature_data, feature_data[[idx]])\n",
    "        dist           = np.array(dist).reshape(len(dist))\n",
    "        similar_tracks = metadata.loc[np.argsort(dist)[::-1][:cut_off]]\n",
    "        same_label     = similar_tracks[\"playlist\"] == metadata.loc[idx, \"playlist\"]\n",
    "        precision      = same_label.sum() / float(cut_off)\n",
    "        all_precisions.append(precision)\n",
    "\n",
    "    all_precisions = np.array(all_precisions)\n",
    "\n",
    "    return all_precisions.mean()"
   ]
  },
  {
   "cell_type": "code",
   "execution_count": 62,
   "metadata": {},
   "outputs": [
    {
     "name": "stderr",
     "output_type": "stream",
     "text": [
      "100% (938 of 938) |#####################################################################################################################################################################################| Elapsed Time: 0:02:41 Time: 0:02:41\n"
     ]
    },
    {
     "data": {
      "text/plain": [
       "0.57292110874200441"
      ]
     },
     "execution_count": 62,
     "metadata": {},
     "output_type": "execute_result"
    }
   ],
   "source": [
    "evaluate(lambda x,y: [model.predict([x[[i]], y]) for i in range(feature_data.shape[0])], 20)"
   ]
  },
  {
   "cell_type": "code",
   "execution_count": null,
   "metadata": {
    "collapsed": true
   },
   "outputs": [],
   "source": []
  },
  {
   "cell_type": "code",
   "execution_count": 240,
   "metadata": {},
   "outputs": [
    {
     "data": {
      "text/plain": [
       "0.83548728813559325"
      ]
     },
     "execution_count": 240,
     "metadata": {},
     "output_type": "execute_result"
    }
   ],
   "source": [
    "evaluate(lambda x,y: [model.predict([x[[i]], y]) for i in range(feature_data.shape[0])], 20)"
   ]
  },
  {
   "cell_type": "code",
   "execution_count": 48,
   "metadata": {},
   "outputs": [],
   "source": [
    "def create_pairs_with_sims_and_identity(feature_data, metadata, num_pairs_per_track):\n",
    "    \n",
    "    data_pairs = []\n",
    "    labels     = []\n",
    "    \n",
    "    pbar = progressbar.ProgressBar(max_value=metadata_aligned.shape[0])\n",
    "    pbar.start()\n",
    "    \n",
    "    i = 0\n",
    "    \n",
    "    for row_id, q_track in metadata_aligned.sample(frac=1).iterrows():\n",
    "        \n",
    "        query_vector = feature_data[[metadata_aligned.loc[row_id].featurespace_index]][0]\n",
    "        \n",
    "        data_pairs.append([query_vector, query_vector])\n",
    "        labels.append(1)\n",
    "                \n",
    "        for _ in range(num_pairs_per_track):\n",
    "            \n",
    "            # search similar and dissimilar examples\n",
    "            pos_example = metadata_aligned[metadata_aligned.playlist == q_track.playlist].sample(1)\n",
    "            neg_example = metadata_aligned[metadata_aligned.playlist != q_track.playlist].sample(1)\n",
    "\n",
    "            # create feature pairs\n",
    "            data_pairs.append([query_vector, feature_data[[pos_example.featurespace_index]][0]])\n",
    "            labels.append(np.max([0, sims.loc[row_id, pos_example.index].values[0] - 0.05]))\n",
    "            \n",
    "            data_pairs.append([query_vector, feature_data[[neg_example.featurespace_index]][0]])\n",
    "            labels.append(np.max([0, sims.loc[row_id, neg_example.index].values[0] - 0.05]))\n",
    "            \n",
    "        pbar.update(i)\n",
    "        \n",
    "        i += 1\n",
    "\n",
    "    return np.array(data_pairs), np.array(labels)"
   ]
  },
  {
   "cell_type": "code",
   "execution_count": 49,
   "metadata": {},
   "outputs": [
    {
     "name": "stderr",
     "output_type": "stream",
     "text": [
      " 99% (889 of 892) |##################################################################################################################################################################################### | Elapsed Time: 0:00:18 ETA: 0:00:00"
     ]
    }
   ],
   "source": [
    "data_pairs, labels = create_pairs_with_sims_and_identity(feature_data, metadata, 10)"
   ]
  },
  {
   "cell_type": "code",
   "execution_count": 50,
   "metadata": {
    "collapsed": true
   },
   "outputs": [],
   "source": [
    "model = create_siamese_network(data_pairs[:,0].shape[1:])"
   ]
  },
  {
   "cell_type": "code",
   "execution_count": 51,
   "metadata": {},
   "outputs": [
    {
     "name": "stdout",
     "output_type": "stream",
     "text": [
      "Epoch 1/25\n",
      "18732/18732 [==============================] - 0s - loss: 0.0579 - mean_squared_error: 0.0579 - acc: 0.4466     \n",
      "Epoch 2/25\n",
      "18732/18732 [==============================] - 0s - loss: 0.0395 - mean_squared_error: 0.0395 - acc: 0.4623     \n",
      "Epoch 3/25\n",
      "18732/18732 [==============================] - 0s - loss: 0.0323 - mean_squared_error: 0.0323 - acc: 0.4661     \n",
      "Epoch 4/25\n",
      "18732/18732 [==============================] - 0s - loss: 0.0289 - mean_squared_error: 0.0289 - acc: 0.4671     \n",
      "Epoch 5/25\n",
      "18732/18732 [==============================] - 0s - loss: 0.0255 - mean_squared_error: 0.0255 - acc: 0.4683     \n",
      "Epoch 6/25\n",
      "18732/18732 [==============================] - 0s - loss: 0.0229 - mean_squared_error: 0.0229 - acc: 0.4684     \n",
      "Epoch 7/25\n",
      "18732/18732 [==============================] - 0s - loss: 0.0204 - mean_squared_error: 0.0204 - acc: 0.4689     \n",
      "Epoch 8/25\n",
      "18732/18732 [==============================] - 0s - loss: 0.0185 - mean_squared_error: 0.0185 - acc: 0.4694     \n",
      "Epoch 9/25\n",
      "18732/18732 [==============================] - 0s - loss: 0.0172 - mean_squared_error: 0.0172 - acc: 0.4696     \n",
      "Epoch 10/25\n",
      "18732/18732 [==============================] - 0s - loss: 0.0158 - mean_squared_error: 0.0158 - acc: 0.4694     \n",
      "Epoch 11/25\n",
      "18732/18732 [==============================] - 0s - loss: 0.0148 - mean_squared_error: 0.0148 - acc: 0.4697     \n",
      "Epoch 12/25\n",
      "18732/18732 [==============================] - 0s - loss: 0.0138 - mean_squared_error: 0.0138 - acc: 0.4698     \n",
      "Epoch 13/25\n",
      "18732/18732 [==============================] - 0s - loss: 0.0130 - mean_squared_error: 0.0130 - acc: 0.4695     \n",
      "Epoch 14/25\n",
      "18732/18732 [==============================] - 0s - loss: 0.0117 - mean_squared_error: 0.0117 - acc: 0.4701     \n",
      "Epoch 15/25\n",
      "18732/18732 [==============================] - 0s - loss: 0.0122 - mean_squared_error: 0.0122 - acc: 0.4699     \n",
      "Epoch 16/25\n",
      "18732/18732 [==============================] - 0s - loss: 0.0111 - mean_squared_error: 0.0111 - acc: 0.4700     \n",
      "Epoch 17/25\n",
      "18732/18732 [==============================] - 0s - loss: 0.0102 - mean_squared_error: 0.0102 - acc: 0.4698     \n",
      "Epoch 18/25\n",
      "18732/18732 [==============================] - 0s - loss: 0.0088 - mean_squared_error: 0.0088 - acc: 0.4702     \n",
      "Epoch 19/25\n",
      "18732/18732 [==============================] - 0s - loss: 0.0094 - mean_squared_error: 0.0094 - acc: 0.4702     \n",
      "Epoch 20/25\n",
      "18732/18732 [==============================] - 0s - loss: 0.0091 - mean_squared_error: 0.0091 - acc: 0.4701     \n",
      "Epoch 21/25\n",
      "18732/18732 [==============================] - 0s - loss: 0.0095 - mean_squared_error: 0.0095 - acc: 0.4699     \n",
      "Epoch 22/25\n",
      "18732/18732 [==============================] - 0s - loss: 0.0079 - mean_squared_error: 0.0079 - acc: 0.4702     \n",
      "Epoch 23/25\n",
      "18732/18732 [==============================] - 0s - loss: 0.0068 - mean_squared_error: 0.0068 - acc: 0.4703     \n",
      "Epoch 24/25\n",
      "18732/18732 [==============================] - 0s - loss: 0.0075 - mean_squared_error: 0.0075 - acc: 0.4699     \n",
      "Epoch 25/25\n",
      "18732/18732 [==============================] - 0s - loss: 0.0083 - mean_squared_error: 0.0083 - acc: 0.4701     \n"
     ]
    },
    {
     "data": {
      "text/plain": [
       "<keras.callbacks.History at 0x7f67037134d0>"
      ]
     },
     "execution_count": 51,
     "metadata": {},
     "output_type": "execute_result"
    }
   ],
   "source": [
    "model.fit([data_pairs[:, 0], data_pairs[:, 1]], labels, batch_size=24, verbose=1, epochs=25)"
   ]
  },
  {
   "cell_type": "code",
   "execution_count": 250,
   "metadata": {},
   "outputs": [
    {
     "data": {
      "text/plain": [
       "0.84655720338983054"
      ]
     },
     "execution_count": 250,
     "metadata": {},
     "output_type": "execute_result"
    }
   ],
   "source": [
    "evaluate(lambda x,y: [model.predict([x[[i]], y]) for i in range(feature_data.shape[0])], 20)"
   ]
  },
  {
   "cell_type": "code",
   "execution_count": null,
   "metadata": {
    "collapsed": true
   },
   "outputs": [],
   "source": []
  },
  {
   "cell_type": "code",
   "execution_count": 63,
   "metadata": {
    "collapsed": true
   },
   "outputs": [],
   "source": [
    "def aggregate_features_sequential(seq_data, track_data, len_segment, m_data, with_year=False, with_popularity=False):\n",
    "    \n",
    "    # sequential data\n",
    "    segments = seq_data[\"segments\"]\n",
    "    sl       = len(segments)\n",
    "    \n",
    "    mfcc              = np.array([s[\"timbre\"]            for s in segments])\n",
    "    chroma            = np.array([s[\"pitches\"]           for s in segments])\n",
    "    loudness_max      = np.array([s[\"loudness_max\"]      for s in segments]).reshape((sl,1))\n",
    "    loudness_start    = np.array([s[\"loudness_start\"]    for s in segments]).reshape((sl,1))\n",
    "    loudness_max_time = np.array([s[\"loudness_max_time\"] for s in segments]).reshape((sl,1))\n",
    "    duration          = np.array([s[\"duration\"]          for s in segments]).reshape((sl,1))\n",
    "    confidence        = np.array([s[\"confidence\"]        for s in segments]).reshape((sl,1))\n",
    "    \n",
    "    # concatenate sequential features\n",
    "    sequential_features = np.concatenate([mfcc, chroma, loudness_max, loudness_start, \n",
    "                                          loudness_max_time, duration, confidence], axis=1)\n",
    "    \n",
    "    offset  = np.random.randint(0, sl - len_segment)\n",
    "    segment = sequential_features[offset:(offset+len_segment),:]\n",
    "        \n",
    "    # track-based data\n",
    "    track_features = [track_data[0][\"acousticness\"],     # acoustic or not?\n",
    "                      track_data[0][\"danceability\"],     # danceable?\n",
    "                      track_data[0][\"energy\"],           # energetic or calm?\n",
    "                      track_data[0][\"instrumentalness\"], # is somebody singing?\n",
    "                      track_data[0][\"liveness\"],         # live or studio?\n",
    "                      track_data[0][\"speechiness\"],      # rap or singing?\n",
    "                      track_data[0][\"tempo\"],            # slow or fast?\n",
    "                      track_data[0][\"time_signature\"],   # 3/4, 4/4, 6/8, etc.\n",
    "                      track_data[0][\"valence\"]]          # happy or sad?\n",
    "    \n",
    "    if with_year:\n",
    "        track_features.append(int(m_data[\"year\"]))\n",
    "        \n",
    "    if with_popularity:\n",
    "        track_features.append(int(m_data[\"popularity\"]))\n",
    "        \n",
    "    \n",
    "    return segment, track_features\n"
   ]
  },
  {
   "cell_type": "code",
   "execution_count": 64,
   "metadata": {},
   "outputs": [
    {
     "name": "stdout",
     "output_type": "stream",
     "text": [
      "sequential_features.shape: (938, 20, 29)\n",
      "trackbased_features.shape: (938, 11)\n"
     ]
    }
   ],
   "source": [
    "len_segment = 20\n",
    "\n",
    "sequential_features = []\n",
    "trackbased_features = []\n",
    "\n",
    "for i, (_, spotify_data) in enumerate(raw_track_data):\n",
    "    \n",
    "    _, _, _, f_sequential, f_trackbased = spotify_data\n",
    "    \n",
    "    seq_feat, track_feat = aggregate_features_sequential(f_sequential, \n",
    "                                                         f_trackbased, \n",
    "                                                         len_segment, \n",
    "                                                         metadata.loc[i],\n",
    "                                                         with_year=True,\n",
    "                                                         with_popularity=True)\n",
    "    \n",
    "    sequential_features.append(seq_feat)\n",
    "    trackbased_features.append(track_feat)\n",
    "    \n",
    "sequential_features = np.asarray(sequential_features)\n",
    "trackbased_features = np.asarray(trackbased_features)\n",
    "\n",
    "print \"sequential_features.shape:\", sequential_features.shape\n",
    "print \"trackbased_features.shape:\", trackbased_features.shape"
   ]
  },
  {
   "cell_type": "code",
   "execution_count": 65,
   "metadata": {
    "collapsed": true
   },
   "outputs": [],
   "source": [
    "# standardize sequential_features\n",
    "rows, x, y = sequential_features.shape\n",
    "sequential_features = sequential_features.reshape(rows, (x * y))\n",
    "sequential_features -= sequential_features.mean(axis=0)\n",
    "sequential_features /= sequential_features.std(axis=0)\n",
    "sequential_features = sequential_features.reshape(rows, x, y)"
   ]
  },
  {
   "cell_type": "code",
   "execution_count": 66,
   "metadata": {
    "collapsed": true
   },
   "outputs": [],
   "source": [
    "# standardize trackbased_features\n",
    "trackbased_features -= trackbased_features.mean(axis=0)\n",
    "trackbased_features /= trackbased_features.std(axis=0)"
   ]
  },
  {
   "cell_type": "code",
   "execution_count": 82,
   "metadata": {
    "collapsed": true
   },
   "outputs": [],
   "source": [
    "def create_pairs_with_sims_and_identity_segments(sequential_features, trackbased_features, metadata, num_pairs_per_track):\n",
    "    \n",
    "    data_pairs_seq   = []\n",
    "    data_pairs_track = []\n",
    "    labels           = []\n",
    "    \n",
    "    for row_id, q_track in metadata.sample(frac=1).iterrows():\n",
    "        \n",
    "        query_segment      = sequential_features[[metadata.loc[row_id].featurespace_index]][0]\n",
    "        query_track_vector = trackbased_features[[metadata.loc[row_id].featurespace_index]][0]\n",
    "        \n",
    "        data_pairs_seq.append([query_segment, query_segment])\n",
    "        data_pairs_track.append([query_track_vector, query_track_vector])\n",
    "        labels.append(1)\n",
    "        \n",
    "        for _ in range(num_pairs_per_track):\n",
    "            \n",
    "            # search similar and dissimilar examples\n",
    "            pos_example = metadata[metadata.playlist == q_track.playlist].sample(1)\n",
    "            neg_example = metadata[metadata.playlist != q_track.playlist].sample(1)\n",
    "\n",
    "            # create feature pairs\n",
    "            data_pairs_seq.append([query_segment, sequential_features[[pos_example.featurespace_index]][0]])\n",
    "            data_pairs_track.append([query_track_vector, trackbased_features[[pos_example.featurespace_index]][0]])\n",
    "            labels.append(np.max([0, sims.loc[row_id, pos_example.index].values[0] - 0.05]))\n",
    "\n",
    "            data_pairs_seq.append([query_segment, sequential_features[[neg_example.featurespace_index]][0]])\n",
    "            data_pairs_track.append([query_track_vector, trackbased_features[[neg_example.featurespace_index]][0]])\n",
    "            labels.append(np.max([0, sims.loc[row_id, neg_example.index].values[0] - 0.05]))\n",
    "\n",
    "    return np.array(data_pairs_seq), np.array(data_pairs_track), np.asarray(labels)"
   ]
  },
  {
   "cell_type": "code",
   "execution_count": 183,
   "metadata": {
    "collapsed": true
   },
   "outputs": [],
   "source": [
    "def create_pairs_with_sims_and_identity_segments(sequential_features, trackbased_features, metadata, num_pairs_per_track):\n",
    "    \n",
    "    data_pairs_seq   = []\n",
    "    data_pairs_track = []\n",
    "    labels           = []\n",
    "    \n",
    "    for row_id, q_track in metadata.sample(frac=1).iterrows():\n",
    "        \n",
    "        query_segment      = sequential_features[[metadata.loc[row_id].featurespace_index]][0]\n",
    "        query_track_vector = trackbased_features[[metadata.loc[row_id].featurespace_index]][0]\n",
    "        \n",
    "        data_pairs_seq.append([query_segment, query_segment])\n",
    "        data_pairs_track.append([query_track_vector, query_track_vector])\n",
    "        labels.append(1)\n",
    "\n",
    "        # search similar and dissimilar examples\n",
    "        pos_example = metadata.loc[sims.loc[row_id].sort_values(ascending=False).index][:num_pairs_per_track]\n",
    "        neg_example = metadata.loc[sims.loc[row_id] == 0].sample(num_pairs_per_track)\n",
    "\n",
    "        for i in range(num_pairs_per_track):\n",
    "\n",
    "            #print row_id,pos_example.iloc[i].name\n",
    "            #print sims.loc[row_id, pos_example.iloc[i].name]\n",
    "            \n",
    "            # create feature pairs\n",
    "            if row_id != pos_example.iloc[i].name:\n",
    "                data_pairs_seq.append([query_segment, sequential_features[[pos_example.iloc[i].featurespace_index]][0]])\n",
    "                data_pairs_track.append([query_track_vector, trackbased_features[[pos_example.iloc[i].featurespace_index]][0]])\n",
    "                labels.append(np.max([0, sims.loc[row_id, pos_example.iloc[i].name] - 0.1]))\n",
    "\n",
    "                data_pairs_seq.append([query_segment, sequential_features[[neg_example.iloc[i].featurespace_index]][0]])\n",
    "                data_pairs_track.append([query_track_vector, trackbased_features[[neg_example.iloc[i].featurespace_index]][0]])\n",
    "                labels.append(np.max([0, sims.loc[row_id, neg_example.iloc[i].name] - 0.1]))\n",
    "\n",
    "    return np.array(data_pairs_seq), np.array(data_pairs_track), np.asarray(labels)"
   ]
  },
  {
   "cell_type": "code",
   "execution_count": 184,
   "metadata": {},
   "outputs": [],
   "source": [
    "data_pairs_seq, data_pairs_track, labels = create_pairs_with_sims_and_identity_segments(sequential_features,\n",
    "                                                                                        trackbased_features,\n",
    "                                                                                        metadata_aligned, \n",
    "                                                                                        10)"
   ]
  },
  {
   "cell_type": "code",
   "execution_count": 85,
   "metadata": {
    "collapsed": true
   },
   "outputs": [],
   "source": [
    "from keras.layers.recurrent import LSTM\n",
    "from keras.layers import Bidirectional, Input, Lambda\n",
    "import random\n",
    "from keras.datasets import mnist\n",
    "from keras.models import Sequential, Model\n",
    "from keras.layers import Dense, Dropout, Input, Lambda,Convolution1D\n",
    "from keras.optimizers import RMSprop, Nadam, SGD\n",
    "from keras.regularizers import l2, l1\n",
    "from keras import backend as K\n",
    "#from keras.constraint import unit_norm\n",
    "from keras.layers.merge import concatenate"
   ]
  },
  {
   "cell_type": "code",
   "execution_count": 185,
   "metadata": {
    "collapsed": true
   },
   "outputs": [],
   "source": [
    "input_dim = data_pairs_seq[:, 0].shape[1:]\n",
    "\n",
    "input_a = Input(shape=data_pairs_seq[:, 0].shape[1:])\n",
    "input_b = Input(shape=data_pairs_seq[:, 0].shape[1:])\n",
    "input_a2 = Input(shape=data_pairs_track[:, 0].shape[1:])\n",
    "input_b2 = Input(shape=data_pairs_track[:, 0].shape[1:])\n",
    "\n",
    "bdlstm = Bidirectional(LSTM(29, return_sequences=False, activation=\"selu\"))\n",
    "\n",
    "processed_a = bdlstm(input_a)\n",
    "processed_b = bdlstm(input_b)\n",
    "\n",
    "dens = Dense(9, activation=\"selu\")\n",
    "\n",
    "processed_a2 = dens(input_a2)\n",
    "processed_b2 = dens(input_b2)\n",
    "\n",
    "left = concatenate([processed_a, processed_a2], axis=1)\n",
    "right = concatenate([processed_b, processed_b2], axis=1)\n",
    "\n",
    "L1_distance = lambda x: K.abs(x[0]-x[1])\n",
    "\n",
    "distance = Lambda(L1_distance,\n",
    "                  output_shape=lambda x: x[0])([left, right])\n",
    "\n",
    "prediction = Dense(29 + 9, activation=\"elu\")(distance)\n",
    "#prediction = Dense(64, activation=\"elu\")(prediction)\n",
    "\n",
    "prediction = Dense(1, activation=\"sigmoid\")(prediction)\n",
    "\n",
    "model = Model([input_a, input_b, input_a2, input_b2], prediction)\n",
    "\n",
    "# train\n",
    "rms = Nadam(lr=0.001)\n",
    "model.compile(loss=\"mean_squared_error\", optimizer=rms, metrics=[\"mean_squared_error\", \"accuracy\"])"
   ]
  },
  {
   "cell_type": "code",
   "execution_count": 186,
   "metadata": {},
   "outputs": [
    {
     "name": "stdout",
     "output_type": "stream",
     "text": [
      "Epoch 1/25\n",
      "16960/16960 [==============================] - 17s - loss: 0.0926 - mean_squared_error: 0.0926 - acc: 0.5067    \n",
      "Epoch 2/25\n",
      "16960/16960 [==============================] - 17s - loss: 0.0533 - mean_squared_error: 0.0533 - acc: 0.5146    \n",
      "Epoch 3/25\n",
      "16960/16960 [==============================] - 17s - loss: 0.0413 - mean_squared_error: 0.0413 - acc: 0.5216    \n",
      "Epoch 4/25\n",
      "16960/16960 [==============================] - 17s - loss: 0.0340 - mean_squared_error: 0.0340 - acc: 0.5257    \n",
      "Epoch 5/25\n",
      "16960/16960 [==============================] - 17s - loss: 0.0284 - mean_squared_error: 0.0284 - acc: 0.5301    \n",
      "Epoch 6/25\n",
      "16960/16960 [==============================] - 17s - loss: 0.0243 - mean_squared_error: 0.0243 - acc: 0.5330    \n",
      "Epoch 7/25\n",
      "16960/16960 [==============================] - 17s - loss: 0.0214 - mean_squared_error: 0.0214 - acc: 0.5345    \n",
      "Epoch 8/25\n",
      "16960/16960 [==============================] - 17s - loss: 0.0181 - mean_squared_error: 0.0181 - acc: 0.5369    \n",
      "Epoch 9/25\n",
      "16960/16960 [==============================] - 17s - loss: 0.0159 - mean_squared_error: 0.0159 - acc: 0.5377    \n",
      "Epoch 10/25\n",
      "16960/16960 [==============================] - 17s - loss: 0.0140 - mean_squared_error: 0.0140 - acc: 0.5381    \n",
      "Epoch 11/25\n",
      "16960/16960 [==============================] - 17s - loss: 0.0124 - mean_squared_error: 0.0124 - acc: 0.5386    \n",
      "Epoch 12/25\n",
      "16960/16960 [==============================] - 17s - loss: 0.0116 - mean_squared_error: 0.0116 - acc: 0.5387    \n",
      "Epoch 13/25\n",
      "16960/16960 [==============================] - 17s - loss: 0.0101 - mean_squared_error: 0.0101 - acc: 0.5393    \n",
      "Epoch 14/25\n",
      "16960/16960 [==============================] - 17s - loss: 0.0093 - mean_squared_error: 0.0093 - acc: 0.5392    \n",
      "Epoch 15/25\n",
      "16960/16960 [==============================] - 17s - loss: 0.0086 - mean_squared_error: 0.0086 - acc: 0.5395    \n",
      "Epoch 16/25\n",
      "16960/16960 [==============================] - 17s - loss: 0.0081 - mean_squared_error: 0.0081 - acc: 0.5394    \n",
      "Epoch 17/25\n",
      "16960/16960 [==============================] - 17s - loss: 0.0076 - mean_squared_error: 0.0076 - acc: 0.5396    \n",
      "Epoch 18/25\n",
      "16960/16960 [==============================] - 17s - loss: 0.0069 - mean_squared_error: 0.0069 - acc: 0.5396    \n",
      "Epoch 19/25\n",
      "16960/16960 [==============================] - 17s - loss: 0.0064 - mean_squared_error: 0.0064 - acc: 0.5397    \n",
      "Epoch 20/25\n",
      "16960/16960 [==============================] - 17s - loss: 0.0065 - mean_squared_error: 0.0065 - acc: 0.5397    \n",
      "Epoch 21/25\n",
      "16960/16960 [==============================] - 17s - loss: 0.0057 - mean_squared_error: 0.0057 - acc: 0.5398    \n",
      "Epoch 22/25\n",
      "16960/16960 [==============================] - 17s - loss: 0.0056 - mean_squared_error: 0.0056 - acc: 0.5397    \n",
      "Epoch 23/25\n",
      "16960/16960 [==============================] - 17s - loss: 0.0054 - mean_squared_error: 0.0054 - acc: 0.5397    \n",
      "Epoch 24/25\n",
      "16960/16960 [==============================] - 17s - loss: 0.0048 - mean_squared_error: 0.0048 - acc: 0.5397    \n",
      "Epoch 25/25\n",
      "16960/16960 [==============================] - 17s - loss: 0.0046 - mean_squared_error: 0.0046 - acc: 0.5399    \n"
     ]
    },
    {
     "data": {
      "text/plain": [
       "<keras.callbacks.History at 0x7f66ba4b2450>"
      ]
     },
     "execution_count": 186,
     "metadata": {},
     "output_type": "execute_result"
    }
   ],
   "source": [
    "model.fit([data_pairs_seq[:, 0], data_pairs_seq[:, 1], data_pairs_track[:,0], data_pairs_track[:,1]], labels, batch_size=24, verbose=1, epochs=25)"
   ]
  },
  {
   "cell_type": "code",
   "execution_count": 187,
   "metadata": {
    "collapsed": true
   },
   "outputs": [],
   "source": [
    "def similar(query_idx):\n",
    "    res = [model.predict([sequential_features[[query_idx]], sequential_features[[i]], trackbased_features[[query_idx]], trackbased_features[[i]]]) for i in range(feature_data.shape[0])]\n",
    "\n",
    "    res = np.array(res)\n",
    "    res = res.reshape(res.shape[0])\n",
    "\n",
    "    si = np.argsort(res)[::-1]\n",
    "\n",
    "    display_cols = [\"artist_name\", \"title\", \"album_name\", \"year\", \"playlist\"]\n",
    "    \n",
    "    print metadata.iloc[query_idx]\n",
    "\n",
    "    return metadata.loc[si, display_cols][:10]"
   ]
  },
  {
   "cell_type": "code",
   "execution_count": 192,
   "metadata": {},
   "outputs": [
    {
     "name": "stdout",
     "output_type": "stream",
     "text": [
      "track_id                                         7eNCd5hipdcUscAHTguegq\n",
      "artist_name                                                Serj Tankian\n",
      "title                                                       Empty Walls\n",
      "album_name                            Elect The Dead (Standard Version)\n",
      "label                                           Reprise/Serjical Strike\n",
      "duration                                                         230026\n",
      "popularity                                                           59\n",
      "year                                                               2007\n",
      "genres                [alternative metal, nu metal, post-grunge, rap...\n",
      "playlist                                                          metal\n",
      "featurespace_index                                                  668\n",
      "Name: 668, dtype: object\n"
     ]
    },
    {
     "data": {
      "text/html": [
       "<div>\n",
       "<style>\n",
       "    .dataframe thead tr:only-child th {\n",
       "        text-align: right;\n",
       "    }\n",
       "\n",
       "    .dataframe thead th {\n",
       "        text-align: left;\n",
       "    }\n",
       "\n",
       "    .dataframe tbody tr th {\n",
       "        vertical-align: top;\n",
       "    }\n",
       "</style>\n",
       "<table border=\"1\" class=\"dataframe\">\n",
       "  <thead>\n",
       "    <tr style=\"text-align: right;\">\n",
       "      <th></th>\n",
       "      <th>artist_name</th>\n",
       "      <th>title</th>\n",
       "      <th>album_name</th>\n",
       "      <th>year</th>\n",
       "      <th>playlist</th>\n",
       "    </tr>\n",
       "  </thead>\n",
       "  <tbody>\n",
       "    <tr>\n",
       "      <th>668</th>\n",
       "      <td>Serj Tankian</td>\n",
       "      <td>Empty Walls</td>\n",
       "      <td>Elect The Dead (Standard Version)</td>\n",
       "      <td>2007</td>\n",
       "      <td>metal</td>\n",
       "    </tr>\n",
       "    <tr>\n",
       "      <th>397</th>\n",
       "      <td>Linkin Park</td>\n",
       "      <td>In The End</td>\n",
       "      <td>Hybrid Theory (Bonus Track Version)</td>\n",
       "      <td>2000</td>\n",
       "      <td>rockhymns</td>\n",
       "    </tr>\n",
       "    <tr>\n",
       "      <th>752</th>\n",
       "      <td>Staind</td>\n",
       "      <td>Outside - Original</td>\n",
       "      <td>Break The Cycle (Parental Advisory)</td>\n",
       "      <td>2001</td>\n",
       "      <td>grunge</td>\n",
       "    </tr>\n",
       "    <tr>\n",
       "      <th>641</th>\n",
       "      <td>Disturbed</td>\n",
       "      <td>Stupify</td>\n",
       "      <td>The Sickness</td>\n",
       "      <td>2000</td>\n",
       "      <td>metal</td>\n",
       "    </tr>\n",
       "    <tr>\n",
       "      <th>509</th>\n",
       "      <td>Evanescence</td>\n",
       "      <td>My Immortal</td>\n",
       "      <td>Fallen</td>\n",
       "      <td>2003</td>\n",
       "      <td>soft_rock</td>\n",
       "    </tr>\n",
       "    <tr>\n",
       "      <th>287</th>\n",
       "      <td>Black Sabbath</td>\n",
       "      <td>Paranoid</td>\n",
       "      <td>Greatest Hits</td>\n",
       "      <td>2014</td>\n",
       "      <td>rockclassics</td>\n",
       "    </tr>\n",
       "    <tr>\n",
       "      <th>601</th>\n",
       "      <td>Disturbed</td>\n",
       "      <td>Stricken</td>\n",
       "      <td>Ten Thousand Fists (Standard Edition)</td>\n",
       "      <td>2005</td>\n",
       "      <td>metal</td>\n",
       "    </tr>\n",
       "    <tr>\n",
       "      <th>697</th>\n",
       "      <td>Death Angel</td>\n",
       "      <td>The Riddle</td>\n",
       "      <td>10.000 Ways</td>\n",
       "      <td>2007</td>\n",
       "      <td>classic_metal</td>\n",
       "    </tr>\n",
       "    <tr>\n",
       "      <th>745</th>\n",
       "      <td>Seether</td>\n",
       "      <td>Fine Again</td>\n",
       "      <td>Disclaimer</td>\n",
       "      <td>2002</td>\n",
       "      <td>grunge</td>\n",
       "    </tr>\n",
       "    <tr>\n",
       "      <th>618</th>\n",
       "      <td>Slipknot</td>\n",
       "      <td>Before I Forget</td>\n",
       "      <td>Vol. 3: The Subliminal Verses [Special Package]</td>\n",
       "      <td>2004</td>\n",
       "      <td>metal</td>\n",
       "    </tr>\n",
       "  </tbody>\n",
       "</table>\n",
       "</div>"
      ],
      "text/plain": [
       "       artist_name               title  \\\n",
       "668   Serj Tankian         Empty Walls   \n",
       "397    Linkin Park          In The End   \n",
       "752         Staind  Outside - Original   \n",
       "641      Disturbed             Stupify   \n",
       "509    Evanescence         My Immortal   \n",
       "287  Black Sabbath            Paranoid   \n",
       "601      Disturbed            Stricken   \n",
       "697    Death Angel          The Riddle   \n",
       "745        Seether          Fine Again   \n",
       "618       Slipknot     Before I Forget   \n",
       "\n",
       "                                          album_name  year       playlist  \n",
       "668                Elect The Dead (Standard Version)  2007          metal  \n",
       "397              Hybrid Theory (Bonus Track Version)  2000      rockhymns  \n",
       "752              Break The Cycle (Parental Advisory)  2001         grunge  \n",
       "641                                     The Sickness  2000          metal  \n",
       "509                                           Fallen  2003      soft_rock  \n",
       "287                                    Greatest Hits  2014   rockclassics  \n",
       "601            Ten Thousand Fists (Standard Edition)  2005          metal  \n",
       "697                                      10.000 Ways  2007  classic_metal  \n",
       "745                                       Disclaimer  2002         grunge  \n",
       "618  Vol. 3: The Subliminal Verses [Special Package]  2004          metal  "
      ]
     },
     "execution_count": 192,
     "metadata": {},
     "output_type": "execute_result"
    }
   ],
   "source": [
    "similar(668)"
   ]
  },
  {
   "cell_type": "code",
   "execution_count": 314,
   "metadata": {
    "collapsed": true
   },
   "outputs": [],
   "source": [
    "def evaluate(similarity_function, cut_off):\n",
    "\n",
    "    all_precisions = []\n",
    "    \n",
    "    pbar = progressbar.ProgressBar()\n",
    "\n",
    "    for idx in pbar(metadata.index.values):\n",
    "\n",
    "        dist           = similarity_function(sequential_features, sequential_features[[idx]], trackbased_features, trackbased_features[[idx]])\n",
    "        dist           = np.array(dist).reshape(len(dist))\n",
    "        similar_tracks = metadata.loc[np.argsort(dist)[::-1][:cut_off]]\n",
    "        same_label     = similar_tracks[\"playlist\"] == metadata.loc[idx, \"playlist\"]\n",
    "        precision      = same_label.sum() / float(cut_off)\n",
    "        all_precisions.append(precision)\n",
    "\n",
    "    all_precisions = np.array(all_precisions)\n",
    "\n",
    "    return all_precisions.mean()"
   ]
  },
  {
   "cell_type": "code",
   "execution_count": 315,
   "metadata": {},
   "outputs": [
    {
     "name": "stderr",
     "output_type": "stream",
     "text": [
      "100% (944 of 944) |#####################################################################################################################################################################################| Elapsed Time: 1:20:00 Time: 1:20:00\n"
     ]
    },
    {
     "data": {
      "text/plain": [
       "0.85317796610169494"
      ]
     },
     "execution_count": 315,
     "metadata": {},
     "output_type": "execute_result"
    }
   ],
   "source": [
    "evaluate(lambda w,x,y,z: [model.predict([w[[i]],x,y[[i]],z]) for i in range(sequential_features.shape[0])], 20)"
   ]
  }
 ],
 "metadata": {
  "kernelspec": {
   "display_name": "Python 2",
   "language": "python",
   "name": "python2"
  },
  "language_info": {
   "codemirror_mode": {
    "name": "ipython",
    "version": 2
   },
   "file_extension": ".py",
   "mimetype": "text/x-python",
   "name": "python",
   "nbconvert_exporter": "python",
   "pygments_lexer": "ipython2",
   "version": "2.7.12"
  },
  "notify_time": "5",
  "toc": {
   "toc_cell": false,
   "toc_number_sections": true,
   "toc_threshold": 6,
   "toc_window_display": false
  }
 },
 "nbformat": 4,
 "nbformat_minor": 1
}
